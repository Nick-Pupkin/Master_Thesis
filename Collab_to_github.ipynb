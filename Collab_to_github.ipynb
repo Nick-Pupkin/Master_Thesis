{
 "cells": [
  {
   "cell_type": "markdown",
   "id": "e25f3c23-45d6-4882-b7d1-29a76176485d",
   "metadata": {},
   "source": [
    "This is a helper file. It allows for collab file.ipynb with outputs to be uploaded on GitHub."
   ]
  },
  {
   "cell_type": "code",
   "execution_count": 2,
   "id": "4a7f4573-78e8-40f9-9e3e-3d5f1d74e50d",
   "metadata": {},
   "outputs": [
    {
     "name": "stdout",
     "output_type": "stream",
     "text": [
      "Clean notebook written to: C:\\Users\\Popov\\Documents\\Research\\Volchkova_thesis\\Code\\Python\\Data_Cleaning_colab_github.ipynb\n"
     ]
    }
   ],
   "source": [
    "import nbformat\n",
    "\n",
    "input_path = r\"C:\\Users\\Popov\\Documents\\Research\\Volchkova_thesis\\Code\\Python\\Data_Cleaning_colab.ipynb\"\n",
    "output_path = r\"C:\\Users\\Popov\\Documents\\Research\\Volchkova_thesis\\Code\\Python\\Data_Cleaning_colab_github.ipynb\"\n",
    "\n",
    "# 1) Read the notebook\n",
    "with open(input_path, \"r\", encoding=\"utf-8\") as f:\n",
    "    nb = nbformat.read(f, as_version=4)\n",
    "\n",
    "# 2) Strip problematic widget metadata\n",
    "nb.metadata.pop(\"widgets\", None)\n",
    "\n",
    "# 3) Save the cleaned notebook\n",
    "with open(output_path, \"w\", encoding=\"utf-8\") as f:\n",
    "    nbformat.write(nb, f)\n",
    "\n",
    "print(\"Clean notebook written to:\", output_path)"
   ]
  },
  {
   "cell_type": "code",
   "execution_count": null,
   "id": "a2415a77-3811-4b93-9f7e-b2e46e51c5a5",
   "metadata": {},
   "outputs": [],
   "source": []
  }
 ],
 "metadata": {
  "kernelspec": {
   "display_name": "Python 3 (ipykernel)",
   "language": "python",
   "name": "python3"
  },
  "language_info": {
   "codemirror_mode": {
    "name": "ipython",
    "version": 3
   },
   "file_extension": ".py",
   "mimetype": "text/x-python",
   "name": "python",
   "nbconvert_exporter": "python",
   "pygments_lexer": "ipython3",
   "version": "3.12.9"
  }
 },
 "nbformat": 4,
 "nbformat_minor": 5
}
