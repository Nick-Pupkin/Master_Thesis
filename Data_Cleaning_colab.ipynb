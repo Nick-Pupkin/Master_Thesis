{
 "cells": [
  {
   "cell_type": "markdown",
   "id": "0387659b-caf6-4d2a-99a4-efaa700c5fcf",
   "metadata": {
    "id": "0387659b-caf6-4d2a-99a4-efaa700c5fcf"
   },
   "source": [
    "# Data Cleaning\n",
    "\n",
    "Master thesis of Nikolai Popov, MAE-2025\n"
   ]
  },
  {
   "cell_type": "code",
   "execution_count": 1,
   "id": "c90b8fb6-ffcc-4159-b968-b9ca435ca7cf",
   "metadata": {
    "executionInfo": {
     "elapsed": 417,
     "status": "ok",
     "timestamp": 1742047548032,
     "user": {
      "displayName": "Nikolai Popov",
      "userId": "10251654665266976815"
     },
     "user_tz": -180
    },
    "id": "c90b8fb6-ffcc-4159-b968-b9ca435ca7cf"
   },
   "outputs": [],
   "source": [
    "# Libraries import\n",
    "import pandas as pd # dataframes\n",
    "import glob # for reading several files one by one\n",
    "import numpy as np # for matrices/vectors\n",
    "from tqdm import tqdm # for progress bar\n",
    "import gc # to delete a dataframe from the memory\n",
    "import re # regular expression to work with strings\n",
    "import ast # for correcting the list type\n",
    "import warnings # to supress warninings\n",
    "warnings.simplefilter(action='ignore', category=Warning)"
   ]
  },
  {
   "cell_type": "code",
   "execution_count": 2,
   "id": "a5c4431e-c7a3-4417-b94d-024bd2a235a8",
   "metadata": {
    "colab": {
     "base_uri": "https://localhost:8080/"
    },
    "executionInfo": {
     "elapsed": 2922,
     "status": "ok",
     "timestamp": 1742047550955,
     "user": {
      "displayName": "Nikolai Popov",
      "userId": "10251654665266976815"
     },
     "user_tz": -180
    },
    "id": "a5c4431e-c7a3-4417-b94d-024bd2a235a8",
    "outputId": "9d69b35d-ed1f-45f8-8266-b77fed9313d2"
   },
   "outputs": [
    {
     "name": "stdout",
     "output_type": "stream",
     "text": [
      "Drive already mounted at /content/drive; to attempt to forcibly remount, call drive.mount(\"/content/drive\", force_remount=True).\n"
     ]
    }
   ],
   "source": [
    "# Mount Google Drive in Colab\n",
    "from google.colab import drive\n",
    "drive.mount('/content/drive')"
   ]
  },
  {
   "cell_type": "code",
   "execution_count": 3,
   "id": "MtiVcLxLU8K2",
   "metadata": {
    "colab": {
     "base_uri": "https://localhost:8080/",
     "height": 515
    },
    "executionInfo": {
     "elapsed": 52884,
     "status": "ok",
     "timestamp": 1742047603840,
     "user": {
      "displayName": "Nikolai Popov",
      "userId": "10251654665266976815"
     },
     "user_tz": -180
    },
    "id": "MtiVcLxLU8K2",
    "outputId": "d11aebab-4386-48a2-b6bb-957568710f1a"
   },
   "outputs": [
    {
     "data": {
      "application/vnd.google.colaboratory.intrinsic+json": {
       "type": "dataframe",
       "variable_name": "raw_dataset"
      },
      "text/html": [
       "\n",
       "  <div id=\"df-027667d3-e04f-4fc5-b5c6-a93dc4f9e1ce\" class=\"colab-df-container\">\n",
       "    <div>\n",
       "<style scoped>\n",
       "    .dataframe tbody tr th:only-of-type {\n",
       "        vertical-align: middle;\n",
       "    }\n",
       "\n",
       "    .dataframe tbody tr th {\n",
       "        vertical-align: top;\n",
       "    }\n",
       "\n",
       "    .dataframe thead th {\n",
       "        text-align: right;\n",
       "    }\n",
       "</style>\n",
       "<table border=\"1\" class=\"dataframe\">\n",
       "  <thead>\n",
       "    <tr style=\"text-align: right;\">\n",
       "      <th></th>\n",
       "      <th>SparkID</th>\n",
       "      <th>ShortNameEn</th>\n",
       "      <th>INN</th>\n",
       "      <th>okveds</th>\n",
       "      <th>OKVED</th>\n",
       "      <th>Address_Address</th>\n",
       "      <th>Address_Region</th>\n",
       "      <th>Address_City</th>\n",
       "      <th>Address_Longitude</th>\n",
       "      <th>Address_Latitude</th>\n",
       "      <th>...</th>\n",
       "      <th>Status_Code</th>\n",
       "      <th>Status_Date</th>\n",
       "      <th>Year</th>\n",
       "      <th>Staff</th>\n",
       "      <th>Source</th>\n",
       "      <th>Form_1_Field_1150</th>\n",
       "      <th>Form_2_Field_2120</th>\n",
       "      <th>Form_2_Field_2400</th>\n",
       "      <th>Form_4_Field_4121</th>\n",
       "      <th>Form_2_Field_2110</th>\n",
       "    </tr>\n",
       "  </thead>\n",
       "  <tbody>\n",
       "    <tr>\n",
       "      <th>0</th>\n",
       "      <td>325</td>\n",
       "      <td>SSZH</td>\n",
       "      <td>NaN</td>\n",
       "      <td>['68.32', '68.32.2']</td>\n",
       "      <td>01.19</td>\n",
       "      <td>г. Москва, проспект Олимпийский, д. 10 корп. 1...</td>\n",
       "      <td>г. Москва</td>\n",
       "      <td>г. Москва</td>\n",
       "      <td>37,622423</td>\n",
       "      <td>55,777127</td>\n",
       "      <td>...</td>\n",
       "      <td>36</td>\n",
       "      <td>NaN</td>\n",
       "      <td>2011</td>\n",
       "      <td>NaN</td>\n",
       "      <td>CUR</td>\n",
       "      <td>NaN</td>\n",
       "      <td>NaN</td>\n",
       "      <td>NaN</td>\n",
       "      <td>NaN</td>\n",
       "      <td>NaN</td>\n",
       "    </tr>\n",
       "    <tr>\n",
       "      <th>1</th>\n",
       "      <td>325</td>\n",
       "      <td>SSZH</td>\n",
       "      <td>NaN</td>\n",
       "      <td>['68.32', '68.32.2']</td>\n",
       "      <td>01.19</td>\n",
       "      <td>г. Москва, проспект Олимпийский, д. 10 корп. 1...</td>\n",
       "      <td>г. Москва</td>\n",
       "      <td>г. Москва</td>\n",
       "      <td>37,622423</td>\n",
       "      <td>55,777127</td>\n",
       "      <td>...</td>\n",
       "      <td>36</td>\n",
       "      <td>NaN</td>\n",
       "      <td>2011</td>\n",
       "      <td>NaN</td>\n",
       "      <td>NXT</td>\n",
       "      <td>NaN</td>\n",
       "      <td>NaN</td>\n",
       "      <td>NaN</td>\n",
       "      <td>NaN</td>\n",
       "      <td>NaN</td>\n",
       "    </tr>\n",
       "    <tr>\n",
       "      <th>2</th>\n",
       "      <td>325</td>\n",
       "      <td>SSZH</td>\n",
       "      <td>NaN</td>\n",
       "      <td>['68.32', '68.32.2']</td>\n",
       "      <td>01.19</td>\n",
       "      <td>г. Москва, проспект Олимпийский, д. 10 корп. 1...</td>\n",
       "      <td>г. Москва</td>\n",
       "      <td>г. Москва</td>\n",
       "      <td>37,622423</td>\n",
       "      <td>55,777127</td>\n",
       "      <td>...</td>\n",
       "      <td>36</td>\n",
       "      <td>NaN</td>\n",
       "      <td>2012</td>\n",
       "      <td>NaN</td>\n",
       "      <td>CUR</td>\n",
       "      <td>NaN</td>\n",
       "      <td>NaN</td>\n",
       "      <td>NaN</td>\n",
       "      <td>NaN</td>\n",
       "      <td>NaN</td>\n",
       "    </tr>\n",
       "    <tr>\n",
       "      <th>3</th>\n",
       "      <td>325</td>\n",
       "      <td>SSZH</td>\n",
       "      <td>NaN</td>\n",
       "      <td>['68.32', '68.32.2']</td>\n",
       "      <td>01.19</td>\n",
       "      <td>г. Москва, проспект Олимпийский, д. 10 корп. 1...</td>\n",
       "      <td>г. Москва</td>\n",
       "      <td>г. Москва</td>\n",
       "      <td>37,622423</td>\n",
       "      <td>55,777127</td>\n",
       "      <td>...</td>\n",
       "      <td>36</td>\n",
       "      <td>NaN</td>\n",
       "      <td>2012</td>\n",
       "      <td>NaN</td>\n",
       "      <td>NXT</td>\n",
       "      <td>NaN</td>\n",
       "      <td>NaN</td>\n",
       "      <td>NaN</td>\n",
       "      <td>NaN</td>\n",
       "      <td>NaN</td>\n",
       "    </tr>\n",
       "    <tr>\n",
       "      <th>4</th>\n",
       "      <td>325</td>\n",
       "      <td>SSZH</td>\n",
       "      <td>NaN</td>\n",
       "      <td>['68.32', '68.32.2']</td>\n",
       "      <td>01.19</td>\n",
       "      <td>г. Москва, проспект Олимпийский, д. 10 корп. 1...</td>\n",
       "      <td>г. Москва</td>\n",
       "      <td>г. Москва</td>\n",
       "      <td>37,622423</td>\n",
       "      <td>55,777127</td>\n",
       "      <td>...</td>\n",
       "      <td>36</td>\n",
       "      <td>NaN</td>\n",
       "      <td>2013</td>\n",
       "      <td>NaN</td>\n",
       "      <td>CUR</td>\n",
       "      <td>NaN</td>\n",
       "      <td>NaN</td>\n",
       "      <td>NaN</td>\n",
       "      <td>NaN</td>\n",
       "      <td>NaN</td>\n",
       "    </tr>\n",
       "  </tbody>\n",
       "</table>\n",
       "<p>5 rows × 21 columns</p>\n",
       "</div>\n",
       "    <div class=\"colab-df-buttons\">\n",
       "\n",
       "  <div class=\"colab-df-container\">\n",
       "    <button class=\"colab-df-convert\" onclick=\"convertToInteractive('df-027667d3-e04f-4fc5-b5c6-a93dc4f9e1ce')\"\n",
       "            title=\"Convert this dataframe to an interactive table.\"\n",
       "            style=\"display:none;\">\n",
       "\n",
       "  <svg xmlns=\"http://www.w3.org/2000/svg\" height=\"24px\" viewBox=\"0 -960 960 960\">\n",
       "    <path d=\"M120-120v-720h720v720H120Zm60-500h600v-160H180v160Zm220 220h160v-160H400v160Zm0 220h160v-160H400v160ZM180-400h160v-160H180v160Zm440 0h160v-160H620v160ZM180-180h160v-160H180v160Zm440 0h160v-160H620v160Z\"/>\n",
       "  </svg>\n",
       "    </button>\n",
       "\n",
       "  <style>\n",
       "    .colab-df-container {\n",
       "      display:flex;\n",
       "      gap: 12px;\n",
       "    }\n",
       "\n",
       "    .colab-df-convert {\n",
       "      background-color: #E8F0FE;\n",
       "      border: none;\n",
       "      border-radius: 50%;\n",
       "      cursor: pointer;\n",
       "      display: none;\n",
       "      fill: #1967D2;\n",
       "      height: 32px;\n",
       "      padding: 0 0 0 0;\n",
       "      width: 32px;\n",
       "    }\n",
       "\n",
       "    .colab-df-convert:hover {\n",
       "      background-color: #E2EBFA;\n",
       "      box-shadow: 0px 1px 2px rgba(60, 64, 67, 0.3), 0px 1px 3px 1px rgba(60, 64, 67, 0.15);\n",
       "      fill: #174EA6;\n",
       "    }\n",
       "\n",
       "    .colab-df-buttons div {\n",
       "      margin-bottom: 4px;\n",
       "    }\n",
       "\n",
       "    [theme=dark] .colab-df-convert {\n",
       "      background-color: #3B4455;\n",
       "      fill: #D2E3FC;\n",
       "    }\n",
       "\n",
       "    [theme=dark] .colab-df-convert:hover {\n",
       "      background-color: #434B5C;\n",
       "      box-shadow: 0px 1px 3px 1px rgba(0, 0, 0, 0.15);\n",
       "      filter: drop-shadow(0px 1px 2px rgba(0, 0, 0, 0.3));\n",
       "      fill: #FFFFFF;\n",
       "    }\n",
       "  </style>\n",
       "\n",
       "    <script>\n",
       "      const buttonEl =\n",
       "        document.querySelector('#df-027667d3-e04f-4fc5-b5c6-a93dc4f9e1ce button.colab-df-convert');\n",
       "      buttonEl.style.display =\n",
       "        google.colab.kernel.accessAllowed ? 'block' : 'none';\n",
       "\n",
       "      async function convertToInteractive(key) {\n",
       "        const element = document.querySelector('#df-027667d3-e04f-4fc5-b5c6-a93dc4f9e1ce');\n",
       "        const dataTable =\n",
       "          await google.colab.kernel.invokeFunction('convertToInteractive',\n",
       "                                                    [key], {});\n",
       "        if (!dataTable) return;\n",
       "\n",
       "        const docLinkHtml = 'Like what you see? Visit the ' +\n",
       "          '<a target=\"_blank\" href=https://colab.research.google.com/notebooks/data_table.ipynb>data table notebook</a>'\n",
       "          + ' to learn more about interactive tables.';\n",
       "        element.innerHTML = '';\n",
       "        dataTable['output_type'] = 'display_data';\n",
       "        await google.colab.output.renderOutput(dataTable, element);\n",
       "        const docLink = document.createElement('div');\n",
       "        docLink.innerHTML = docLinkHtml;\n",
       "        element.appendChild(docLink);\n",
       "      }\n",
       "    </script>\n",
       "  </div>\n",
       "\n",
       "\n",
       "<div id=\"df-d49b4078-ce9b-42b3-a359-8b66246c61cf\">\n",
       "  <button class=\"colab-df-quickchart\" onclick=\"quickchart('df-d49b4078-ce9b-42b3-a359-8b66246c61cf')\"\n",
       "            title=\"Suggest charts\"\n",
       "            style=\"display:none;\">\n",
       "\n",
       "<svg xmlns=\"http://www.w3.org/2000/svg\" height=\"24px\"viewBox=\"0 0 24 24\"\n",
       "     width=\"24px\">\n",
       "    <g>\n",
       "        <path d=\"M19 3H5c-1.1 0-2 .9-2 2v14c0 1.1.9 2 2 2h14c1.1 0 2-.9 2-2V5c0-1.1-.9-2-2-2zM9 17H7v-7h2v7zm4 0h-2V7h2v10zm4 0h-2v-4h2v4z\"/>\n",
       "    </g>\n",
       "</svg>\n",
       "  </button>\n",
       "\n",
       "<style>\n",
       "  .colab-df-quickchart {\n",
       "      --bg-color: #E8F0FE;\n",
       "      --fill-color: #1967D2;\n",
       "      --hover-bg-color: #E2EBFA;\n",
       "      --hover-fill-color: #174EA6;\n",
       "      --disabled-fill-color: #AAA;\n",
       "      --disabled-bg-color: #DDD;\n",
       "  }\n",
       "\n",
       "  [theme=dark] .colab-df-quickchart {\n",
       "      --bg-color: #3B4455;\n",
       "      --fill-color: #D2E3FC;\n",
       "      --hover-bg-color: #434B5C;\n",
       "      --hover-fill-color: #FFFFFF;\n",
       "      --disabled-bg-color: #3B4455;\n",
       "      --disabled-fill-color: #666;\n",
       "  }\n",
       "\n",
       "  .colab-df-quickchart {\n",
       "    background-color: var(--bg-color);\n",
       "    border: none;\n",
       "    border-radius: 50%;\n",
       "    cursor: pointer;\n",
       "    display: none;\n",
       "    fill: var(--fill-color);\n",
       "    height: 32px;\n",
       "    padding: 0;\n",
       "    width: 32px;\n",
       "  }\n",
       "\n",
       "  .colab-df-quickchart:hover {\n",
       "    background-color: var(--hover-bg-color);\n",
       "    box-shadow: 0 1px 2px rgba(60, 64, 67, 0.3), 0 1px 3px 1px rgba(60, 64, 67, 0.15);\n",
       "    fill: var(--button-hover-fill-color);\n",
       "  }\n",
       "\n",
       "  .colab-df-quickchart-complete:disabled,\n",
       "  .colab-df-quickchart-complete:disabled:hover {\n",
       "    background-color: var(--disabled-bg-color);\n",
       "    fill: var(--disabled-fill-color);\n",
       "    box-shadow: none;\n",
       "  }\n",
       "\n",
       "  .colab-df-spinner {\n",
       "    border: 2px solid var(--fill-color);\n",
       "    border-color: transparent;\n",
       "    border-bottom-color: var(--fill-color);\n",
       "    animation:\n",
       "      spin 1s steps(1) infinite;\n",
       "  }\n",
       "\n",
       "  @keyframes spin {\n",
       "    0% {\n",
       "      border-color: transparent;\n",
       "      border-bottom-color: var(--fill-color);\n",
       "      border-left-color: var(--fill-color);\n",
       "    }\n",
       "    20% {\n",
       "      border-color: transparent;\n",
       "      border-left-color: var(--fill-color);\n",
       "      border-top-color: var(--fill-color);\n",
       "    }\n",
       "    30% {\n",
       "      border-color: transparent;\n",
       "      border-left-color: var(--fill-color);\n",
       "      border-top-color: var(--fill-color);\n",
       "      border-right-color: var(--fill-color);\n",
       "    }\n",
       "    40% {\n",
       "      border-color: transparent;\n",
       "      border-right-color: var(--fill-color);\n",
       "      border-top-color: var(--fill-color);\n",
       "    }\n",
       "    60% {\n",
       "      border-color: transparent;\n",
       "      border-right-color: var(--fill-color);\n",
       "    }\n",
       "    80% {\n",
       "      border-color: transparent;\n",
       "      border-right-color: var(--fill-color);\n",
       "      border-bottom-color: var(--fill-color);\n",
       "    }\n",
       "    90% {\n",
       "      border-color: transparent;\n",
       "      border-bottom-color: var(--fill-color);\n",
       "    }\n",
       "  }\n",
       "</style>\n",
       "\n",
       "  <script>\n",
       "    async function quickchart(key) {\n",
       "      const quickchartButtonEl =\n",
       "        document.querySelector('#' + key + ' button');\n",
       "      quickchartButtonEl.disabled = true;  // To prevent multiple clicks.\n",
       "      quickchartButtonEl.classList.add('colab-df-spinner');\n",
       "      try {\n",
       "        const charts = await google.colab.kernel.invokeFunction(\n",
       "            'suggestCharts', [key], {});\n",
       "      } catch (error) {\n",
       "        console.error('Error during call to suggestCharts:', error);\n",
       "      }\n",
       "      quickchartButtonEl.classList.remove('colab-df-spinner');\n",
       "      quickchartButtonEl.classList.add('colab-df-quickchart-complete');\n",
       "    }\n",
       "    (() => {\n",
       "      let quickchartButtonEl =\n",
       "        document.querySelector('#df-d49b4078-ce9b-42b3-a359-8b66246c61cf button');\n",
       "      quickchartButtonEl.style.display =\n",
       "        google.colab.kernel.accessAllowed ? 'block' : 'none';\n",
       "    })();\n",
       "  </script>\n",
       "</div>\n",
       "\n",
       "    </div>\n",
       "  </div>\n"
      ],
      "text/plain": [
       "   SparkID ShortNameEn  INN                okveds  OKVED  \\\n",
       "0      325        SSZH  NaN  ['68.32', '68.32.2']  01.19   \n",
       "1      325        SSZH  NaN  ['68.32', '68.32.2']  01.19   \n",
       "2      325        SSZH  NaN  ['68.32', '68.32.2']  01.19   \n",
       "3      325        SSZH  NaN  ['68.32', '68.32.2']  01.19   \n",
       "4      325        SSZH  NaN  ['68.32', '68.32.2']  01.19   \n",
       "\n",
       "                                     Address_Address Address_Region  \\\n",
       "0  г. Москва, проспект Олимпийский, д. 10 корп. 1...      г. Москва   \n",
       "1  г. Москва, проспект Олимпийский, д. 10 корп. 1...      г. Москва   \n",
       "2  г. Москва, проспект Олимпийский, д. 10 корп. 1...      г. Москва   \n",
       "3  г. Москва, проспект Олимпийский, д. 10 корп. 1...      г. Москва   \n",
       "4  г. Москва, проспект Олимпийский, д. 10 корп. 1...      г. Москва   \n",
       "\n",
       "  Address_City Address_Longitude Address_Latitude  ...  Status_Code  \\\n",
       "0    г. Москва         37,622423        55,777127  ...           36   \n",
       "1    г. Москва         37,622423        55,777127  ...           36   \n",
       "2    г. Москва         37,622423        55,777127  ...           36   \n",
       "3    г. Москва         37,622423        55,777127  ...           36   \n",
       "4    г. Москва         37,622423        55,777127  ...           36   \n",
       "\n",
       "   Status_Date  Year  Staff  Source Form_1_Field_1150  Form_2_Field_2120  \\\n",
       "0          NaN  2011    NaN     CUR               NaN                NaN   \n",
       "1          NaN  2011    NaN     NXT               NaN                NaN   \n",
       "2          NaN  2012    NaN     CUR               NaN                NaN   \n",
       "3          NaN  2012    NaN     NXT               NaN                NaN   \n",
       "4          NaN  2013    NaN     CUR               NaN                NaN   \n",
       "\n",
       "   Form_2_Field_2400  Form_4_Field_4121  Form_2_Field_2110  \n",
       "0                NaN                NaN                NaN  \n",
       "1                NaN                NaN                NaN  \n",
       "2                NaN                NaN                NaN  \n",
       "3                NaN                NaN                NaN  \n",
       "4                NaN                NaN                NaN  \n",
       "\n",
       "[5 rows x 21 columns]"
      ]
     },
     "execution_count": 3,
     "metadata": {},
     "output_type": "execute_result"
    }
   ],
   "source": [
    "# Define the path to the file in Google Drive\n",
    "file_path = \"/content/drive/My Drive/Coding/Merged_raw_data.csv\"\n",
    "\n",
    "# Load CSV with correct encoding and delimiter\n",
    "raw_dataset = pd.read_csv(file_path, sep=\",\", on_bad_lines=\"skip\", low_memory=False)\n",
    "\n",
    "# Show first few rows\n",
    "raw_dataset.head()"
   ]
  },
  {
   "cell_type": "markdown",
   "id": "067ecc81-5b64-4df0-a7ba-226954f8a598",
   "metadata": {
    "id": "067ecc81-5b64-4df0-a7ba-226954f8a598"
   },
   "source": [
    "## Variables description\n",
    "\n",
    "'Address_Address' - address of the enterprise headquarters; <br>\n",
    "'Address_City' - city of the enterprise headquarters; <br>\n",
    "'Address_Latitude' - latitude of the headquarters;  <br>\n",
    "'Address_Longitude' - longitude of the headquarters; <br>\n",
    "'Address_Region' - region of the headquarters;<br>\n",
    "'Form_1_Field_1150' - fixed assets, RUB (form of the financial statement - proxy for capital); <br>\n",
    "'Form_2_Field_2110' - revenue, RUB (proxy for output); <br>\n",
    "'Form_2_Field_2120' - cost of sales, RUB;<br>\n",
    "'Form_2_Field_2400' - net profit, RUB; <br>\n",
    "'Form_4_Field_4121' - payments to suppliers and contractors for raw materials, goods, work, and services, RUB;<br>\n",
    "'INN' - taxpayer number (Russian Federation); <br>\n",
    "'OCVED' - main activity of a firm code;<br>\n",
    "'OCVEDs' - all activities codes;<br>\n",
    "'ShortNameEn' - short name of a company in English;<br>\n",
    "'Source' - initial source of data; CUR means that the data for the year t was reported at the beginning of year t+1; NXT - corrected and reported at the beginning of year t+2; <br>\n",
    "'SparkID' - SPARK's indentifier for a firm;<br>\n",
    "'Staff' - number of employees (available only from 2018);<br>\n",
    "'Status_Code' - detailed firm's status (see SPARK's documentation);<br>\n",
    "'Status_Date' - date when the status was verified;<br>\n",
    "'Status_IsActing' - dummy for the firm being active;<br>\n",
    "'Year' - year of observation and financial statement report.<br>"
   ]
  },
  {
   "cell_type": "markdown",
   "id": "741bb7c3-09ff-4b58-9a4d-a1f2d5be7849",
   "metadata": {
    "id": "741bb7c3-09ff-4b58-9a4d-a1f2d5be7849"
   },
   "source": [
    "## Cleaning"
   ]
  },
  {
   "cell_type": "markdown",
   "id": "d4d45fbc-4bd9-4d71-aeb3-ec5e44e2c0fd",
   "metadata": {
    "id": "d4d45fbc-4bd9-4d71-aeb3-ec5e44e2c0fd"
   },
   "source": [
    "Test for the correctness of columns."
   ]
  },
  {
   "cell_type": "code",
   "execution_count": 4,
   "id": "a5be51c2-0fd6-4aa5-9e35-830d9dfdd75e",
   "metadata": {
    "colab": {
     "base_uri": "https://localhost:8080/"
    },
    "executionInfo": {
     "elapsed": 13,
     "status": "ok",
     "timestamp": 1742047603855,
     "user": {
      "displayName": "Nikolai Popov",
      "userId": "10251654665266976815"
     },
     "user_tz": -180
    },
    "id": "a5be51c2-0fd6-4aa5-9e35-830d9dfdd75e",
    "outputId": "9686b7b8-1a18-4e55-ce78-685d4ebb07bc"
   },
   "outputs": [
    {
     "name": "stdout",
     "output_type": "stream",
     "text": [
      "Differences between sets: set()\n"
     ]
    }
   ],
   "source": [
    "# Set of columns, manually exstrated from one of the CSV files\n",
    "columns_set_original = {\n",
    "    \"SparkID\", \"ShortNameEn\", \"INN\", \"okveds\", \"OKVED\",\n",
    "    \"Address_Address\", \"Address_Region\", \"Address_City\",\n",
    "    \"Address_Longitude\", \"Address_Latitude\", \"Status_IsActing\",\n",
    "    \"Status_Code\", \"Status_Date\", \"Year\", \"Staff\", \"Source\",\n",
    "    \"Form_1_Field_1150\", \"Form_2_Field_2120\", \"Form_2_Field_2400\", \"Form_4_Field_4121\", \"Form_2_Field_2110\"\n",
    "}\n",
    "\n",
    "# Set of columns, existing in the merged dataframe\n",
    "columns_set_dataframe = set(raw_dataset.columns)\n",
    "\n",
    "# print differences\n",
    "differences = columns_set_original ^ columns_set_dataframe\n",
    "print(f\"Differences between sets: {differences}\")"
   ]
  },
  {
   "cell_type": "markdown",
   "id": "25d73e3d-c782-4aed-a344-6fa7e5a82dca",
   "metadata": {
    "id": "25d73e3d-c782-4aed-a344-6fa7e5a82dca"
   },
   "source": [
    "Well, no discrepancies."
   ]
  },
  {
   "cell_type": "code",
   "execution_count": 5,
   "id": "2f756de9-d080-4b20-ac92-7b33329acb08",
   "metadata": {
    "colab": {
     "base_uri": "https://localhost:8080/",
     "height": 349
    },
    "executionInfo": {
     "elapsed": 36,
     "status": "ok",
     "timestamp": 1742047603901,
     "user": {
      "displayName": "Nikolai Popov",
      "userId": "10251654665266976815"
     },
     "user_tz": -180
    },
    "id": "2f756de9-d080-4b20-ac92-7b33329acb08",
    "outputId": "157cf58f-800c-4175-d0fc-b75528592964"
   },
   "outputs": [
    {
     "data": {
      "application/vnd.google.colaboratory.intrinsic+json": {
       "type": "dataframe",
       "variable_name": "raw_dataset"
      },
      "text/html": [
       "\n",
       "  <div id=\"df-a6e40a02-12c7-484f-8d5a-27fda3edd8e3\" class=\"colab-df-container\">\n",
       "    <div>\n",
       "<style scoped>\n",
       "    .dataframe tbody tr th:only-of-type {\n",
       "        vertical-align: middle;\n",
       "    }\n",
       "\n",
       "    .dataframe tbody tr th {\n",
       "        vertical-align: top;\n",
       "    }\n",
       "\n",
       "    .dataframe thead th {\n",
       "        text-align: right;\n",
       "    }\n",
       "</style>\n",
       "<table border=\"1\" class=\"dataframe\">\n",
       "  <thead>\n",
       "    <tr style=\"text-align: right;\">\n",
       "      <th></th>\n",
       "      <th>SparkID</th>\n",
       "      <th>ShortNameEn</th>\n",
       "      <th>INN</th>\n",
       "      <th>okveds</th>\n",
       "      <th>OKVED</th>\n",
       "      <th>Address_Address</th>\n",
       "      <th>Address_Region</th>\n",
       "      <th>Address_City</th>\n",
       "      <th>Address_Longitude</th>\n",
       "      <th>Address_Latitude</th>\n",
       "      <th>...</th>\n",
       "      <th>Status_Code</th>\n",
       "      <th>Status_Date</th>\n",
       "      <th>Year</th>\n",
       "      <th>Staff</th>\n",
       "      <th>Source</th>\n",
       "      <th>Form_1_Field_1150</th>\n",
       "      <th>Form_2_Field_2120</th>\n",
       "      <th>Form_2_Field_2400</th>\n",
       "      <th>Form_4_Field_4121</th>\n",
       "      <th>Form_2_Field_2110</th>\n",
       "    </tr>\n",
       "  </thead>\n",
       "  <tbody>\n",
       "    <tr>\n",
       "      <th>0</th>\n",
       "      <td>325</td>\n",
       "      <td>SSZH</td>\n",
       "      <td>NaN</td>\n",
       "      <td>['68.32', '68.32.2']</td>\n",
       "      <td>01.19</td>\n",
       "      <td>г. Москва, проспект Олимпийский, д. 10 корп. 1...</td>\n",
       "      <td>г. Москва</td>\n",
       "      <td>г. Москва</td>\n",
       "      <td>37,622423</td>\n",
       "      <td>55,777127</td>\n",
       "      <td>...</td>\n",
       "      <td>36</td>\n",
       "      <td>NaN</td>\n",
       "      <td>2011</td>\n",
       "      <td>NaN</td>\n",
       "      <td>CUR</td>\n",
       "      <td>NaN</td>\n",
       "      <td>NaN</td>\n",
       "      <td>NaN</td>\n",
       "      <td>NaN</td>\n",
       "      <td>NaN</td>\n",
       "    </tr>\n",
       "    <tr>\n",
       "      <th>1</th>\n",
       "      <td>325</td>\n",
       "      <td>SSZH</td>\n",
       "      <td>NaN</td>\n",
       "      <td>['68.32', '68.32.2']</td>\n",
       "      <td>01.19</td>\n",
       "      <td>г. Москва, проспект Олимпийский, д. 10 корп. 1...</td>\n",
       "      <td>г. Москва</td>\n",
       "      <td>г. Москва</td>\n",
       "      <td>37,622423</td>\n",
       "      <td>55,777127</td>\n",
       "      <td>...</td>\n",
       "      <td>36</td>\n",
       "      <td>NaN</td>\n",
       "      <td>2011</td>\n",
       "      <td>NaN</td>\n",
       "      <td>NXT</td>\n",
       "      <td>NaN</td>\n",
       "      <td>NaN</td>\n",
       "      <td>NaN</td>\n",
       "      <td>NaN</td>\n",
       "      <td>NaN</td>\n",
       "    </tr>\n",
       "    <tr>\n",
       "      <th>2</th>\n",
       "      <td>325</td>\n",
       "      <td>SSZH</td>\n",
       "      <td>NaN</td>\n",
       "      <td>['68.32', '68.32.2']</td>\n",
       "      <td>01.19</td>\n",
       "      <td>г. Москва, проспект Олимпийский, д. 10 корп. 1...</td>\n",
       "      <td>г. Москва</td>\n",
       "      <td>г. Москва</td>\n",
       "      <td>37,622423</td>\n",
       "      <td>55,777127</td>\n",
       "      <td>...</td>\n",
       "      <td>36</td>\n",
       "      <td>NaN</td>\n",
       "      <td>2012</td>\n",
       "      <td>NaN</td>\n",
       "      <td>CUR</td>\n",
       "      <td>NaN</td>\n",
       "      <td>NaN</td>\n",
       "      <td>NaN</td>\n",
       "      <td>NaN</td>\n",
       "      <td>NaN</td>\n",
       "    </tr>\n",
       "  </tbody>\n",
       "</table>\n",
       "<p>3 rows × 21 columns</p>\n",
       "</div>\n",
       "    <div class=\"colab-df-buttons\">\n",
       "\n",
       "  <div class=\"colab-df-container\">\n",
       "    <button class=\"colab-df-convert\" onclick=\"convertToInteractive('df-a6e40a02-12c7-484f-8d5a-27fda3edd8e3')\"\n",
       "            title=\"Convert this dataframe to an interactive table.\"\n",
       "            style=\"display:none;\">\n",
       "\n",
       "  <svg xmlns=\"http://www.w3.org/2000/svg\" height=\"24px\" viewBox=\"0 -960 960 960\">\n",
       "    <path d=\"M120-120v-720h720v720H120Zm60-500h600v-160H180v160Zm220 220h160v-160H400v160Zm0 220h160v-160H400v160ZM180-400h160v-160H180v160Zm440 0h160v-160H620v160ZM180-180h160v-160H180v160Zm440 0h160v-160H620v160Z\"/>\n",
       "  </svg>\n",
       "    </button>\n",
       "\n",
       "  <style>\n",
       "    .colab-df-container {\n",
       "      display:flex;\n",
       "      gap: 12px;\n",
       "    }\n",
       "\n",
       "    .colab-df-convert {\n",
       "      background-color: #E8F0FE;\n",
       "      border: none;\n",
       "      border-radius: 50%;\n",
       "      cursor: pointer;\n",
       "      display: none;\n",
       "      fill: #1967D2;\n",
       "      height: 32px;\n",
       "      padding: 0 0 0 0;\n",
       "      width: 32px;\n",
       "    }\n",
       "\n",
       "    .colab-df-convert:hover {\n",
       "      background-color: #E2EBFA;\n",
       "      box-shadow: 0px 1px 2px rgba(60, 64, 67, 0.3), 0px 1px 3px 1px rgba(60, 64, 67, 0.15);\n",
       "      fill: #174EA6;\n",
       "    }\n",
       "\n",
       "    .colab-df-buttons div {\n",
       "      margin-bottom: 4px;\n",
       "    }\n",
       "\n",
       "    [theme=dark] .colab-df-convert {\n",
       "      background-color: #3B4455;\n",
       "      fill: #D2E3FC;\n",
       "    }\n",
       "\n",
       "    [theme=dark] .colab-df-convert:hover {\n",
       "      background-color: #434B5C;\n",
       "      box-shadow: 0px 1px 3px 1px rgba(0, 0, 0, 0.15);\n",
       "      filter: drop-shadow(0px 1px 2px rgba(0, 0, 0, 0.3));\n",
       "      fill: #FFFFFF;\n",
       "    }\n",
       "  </style>\n",
       "\n",
       "    <script>\n",
       "      const buttonEl =\n",
       "        document.querySelector('#df-a6e40a02-12c7-484f-8d5a-27fda3edd8e3 button.colab-df-convert');\n",
       "      buttonEl.style.display =\n",
       "        google.colab.kernel.accessAllowed ? 'block' : 'none';\n",
       "\n",
       "      async function convertToInteractive(key) {\n",
       "        const element = document.querySelector('#df-a6e40a02-12c7-484f-8d5a-27fda3edd8e3');\n",
       "        const dataTable =\n",
       "          await google.colab.kernel.invokeFunction('convertToInteractive',\n",
       "                                                    [key], {});\n",
       "        if (!dataTable) return;\n",
       "\n",
       "        const docLinkHtml = 'Like what you see? Visit the ' +\n",
       "          '<a target=\"_blank\" href=https://colab.research.google.com/notebooks/data_table.ipynb>data table notebook</a>'\n",
       "          + ' to learn more about interactive tables.';\n",
       "        element.innerHTML = '';\n",
       "        dataTable['output_type'] = 'display_data';\n",
       "        await google.colab.output.renderOutput(dataTable, element);\n",
       "        const docLink = document.createElement('div');\n",
       "        docLink.innerHTML = docLinkHtml;\n",
       "        element.appendChild(docLink);\n",
       "      }\n",
       "    </script>\n",
       "  </div>\n",
       "\n",
       "\n",
       "<div id=\"df-3d78a8a0-33ca-47a8-9e0e-6a39c0a9bf82\">\n",
       "  <button class=\"colab-df-quickchart\" onclick=\"quickchart('df-3d78a8a0-33ca-47a8-9e0e-6a39c0a9bf82')\"\n",
       "            title=\"Suggest charts\"\n",
       "            style=\"display:none;\">\n",
       "\n",
       "<svg xmlns=\"http://www.w3.org/2000/svg\" height=\"24px\"viewBox=\"0 0 24 24\"\n",
       "     width=\"24px\">\n",
       "    <g>\n",
       "        <path d=\"M19 3H5c-1.1 0-2 .9-2 2v14c0 1.1.9 2 2 2h14c1.1 0 2-.9 2-2V5c0-1.1-.9-2-2-2zM9 17H7v-7h2v7zm4 0h-2V7h2v10zm4 0h-2v-4h2v4z\"/>\n",
       "    </g>\n",
       "</svg>\n",
       "  </button>\n",
       "\n",
       "<style>\n",
       "  .colab-df-quickchart {\n",
       "      --bg-color: #E8F0FE;\n",
       "      --fill-color: #1967D2;\n",
       "      --hover-bg-color: #E2EBFA;\n",
       "      --hover-fill-color: #174EA6;\n",
       "      --disabled-fill-color: #AAA;\n",
       "      --disabled-bg-color: #DDD;\n",
       "  }\n",
       "\n",
       "  [theme=dark] .colab-df-quickchart {\n",
       "      --bg-color: #3B4455;\n",
       "      --fill-color: #D2E3FC;\n",
       "      --hover-bg-color: #434B5C;\n",
       "      --hover-fill-color: #FFFFFF;\n",
       "      --disabled-bg-color: #3B4455;\n",
       "      --disabled-fill-color: #666;\n",
       "  }\n",
       "\n",
       "  .colab-df-quickchart {\n",
       "    background-color: var(--bg-color);\n",
       "    border: none;\n",
       "    border-radius: 50%;\n",
       "    cursor: pointer;\n",
       "    display: none;\n",
       "    fill: var(--fill-color);\n",
       "    height: 32px;\n",
       "    padding: 0;\n",
       "    width: 32px;\n",
       "  }\n",
       "\n",
       "  .colab-df-quickchart:hover {\n",
       "    background-color: var(--hover-bg-color);\n",
       "    box-shadow: 0 1px 2px rgba(60, 64, 67, 0.3), 0 1px 3px 1px rgba(60, 64, 67, 0.15);\n",
       "    fill: var(--button-hover-fill-color);\n",
       "  }\n",
       "\n",
       "  .colab-df-quickchart-complete:disabled,\n",
       "  .colab-df-quickchart-complete:disabled:hover {\n",
       "    background-color: var(--disabled-bg-color);\n",
       "    fill: var(--disabled-fill-color);\n",
       "    box-shadow: none;\n",
       "  }\n",
       "\n",
       "  .colab-df-spinner {\n",
       "    border: 2px solid var(--fill-color);\n",
       "    border-color: transparent;\n",
       "    border-bottom-color: var(--fill-color);\n",
       "    animation:\n",
       "      spin 1s steps(1) infinite;\n",
       "  }\n",
       "\n",
       "  @keyframes spin {\n",
       "    0% {\n",
       "      border-color: transparent;\n",
       "      border-bottom-color: var(--fill-color);\n",
       "      border-left-color: var(--fill-color);\n",
       "    }\n",
       "    20% {\n",
       "      border-color: transparent;\n",
       "      border-left-color: var(--fill-color);\n",
       "      border-top-color: var(--fill-color);\n",
       "    }\n",
       "    30% {\n",
       "      border-color: transparent;\n",
       "      border-left-color: var(--fill-color);\n",
       "      border-top-color: var(--fill-color);\n",
       "      border-right-color: var(--fill-color);\n",
       "    }\n",
       "    40% {\n",
       "      border-color: transparent;\n",
       "      border-right-color: var(--fill-color);\n",
       "      border-top-color: var(--fill-color);\n",
       "    }\n",
       "    60% {\n",
       "      border-color: transparent;\n",
       "      border-right-color: var(--fill-color);\n",
       "    }\n",
       "    80% {\n",
       "      border-color: transparent;\n",
       "      border-right-color: var(--fill-color);\n",
       "      border-bottom-color: var(--fill-color);\n",
       "    }\n",
       "    90% {\n",
       "      border-color: transparent;\n",
       "      border-bottom-color: var(--fill-color);\n",
       "    }\n",
       "  }\n",
       "</style>\n",
       "\n",
       "  <script>\n",
       "    async function quickchart(key) {\n",
       "      const quickchartButtonEl =\n",
       "        document.querySelector('#' + key + ' button');\n",
       "      quickchartButtonEl.disabled = true;  // To prevent multiple clicks.\n",
       "      quickchartButtonEl.classList.add('colab-df-spinner');\n",
       "      try {\n",
       "        const charts = await google.colab.kernel.invokeFunction(\n",
       "            'suggestCharts', [key], {});\n",
       "      } catch (error) {\n",
       "        console.error('Error during call to suggestCharts:', error);\n",
       "      }\n",
       "      quickchartButtonEl.classList.remove('colab-df-spinner');\n",
       "      quickchartButtonEl.classList.add('colab-df-quickchart-complete');\n",
       "    }\n",
       "    (() => {\n",
       "      let quickchartButtonEl =\n",
       "        document.querySelector('#df-3d78a8a0-33ca-47a8-9e0e-6a39c0a9bf82 button');\n",
       "      quickchartButtonEl.style.display =\n",
       "        google.colab.kernel.accessAllowed ? 'block' : 'none';\n",
       "    })();\n",
       "  </script>\n",
       "</div>\n",
       "\n",
       "    </div>\n",
       "  </div>\n"
      ],
      "text/plain": [
       "   SparkID ShortNameEn  INN                okveds  OKVED  \\\n",
       "0      325        SSZH  NaN  ['68.32', '68.32.2']  01.19   \n",
       "1      325        SSZH  NaN  ['68.32', '68.32.2']  01.19   \n",
       "2      325        SSZH  NaN  ['68.32', '68.32.2']  01.19   \n",
       "\n",
       "                                     Address_Address Address_Region  \\\n",
       "0  г. Москва, проспект Олимпийский, д. 10 корп. 1...      г. Москва   \n",
       "1  г. Москва, проспект Олимпийский, д. 10 корп. 1...      г. Москва   \n",
       "2  г. Москва, проспект Олимпийский, д. 10 корп. 1...      г. Москва   \n",
       "\n",
       "  Address_City Address_Longitude Address_Latitude  ...  Status_Code  \\\n",
       "0    г. Москва         37,622423        55,777127  ...           36   \n",
       "1    г. Москва         37,622423        55,777127  ...           36   \n",
       "2    г. Москва         37,622423        55,777127  ...           36   \n",
       "\n",
       "   Status_Date  Year  Staff  Source Form_1_Field_1150  Form_2_Field_2120  \\\n",
       "0          NaN  2011    NaN     CUR               NaN                NaN   \n",
       "1          NaN  2011    NaN     NXT               NaN                NaN   \n",
       "2          NaN  2012    NaN     CUR               NaN                NaN   \n",
       "\n",
       "   Form_2_Field_2400  Form_4_Field_4121  Form_2_Field_2110  \n",
       "0                NaN                NaN                NaN  \n",
       "1                NaN                NaN                NaN  \n",
       "2                NaN                NaN                NaN  \n",
       "\n",
       "[3 rows x 21 columns]"
      ]
     },
     "execution_count": 5,
     "metadata": {},
     "output_type": "execute_result"
    }
   ],
   "source": [
    "raw_dataset.head(3)"
   ]
  },
  {
   "cell_type": "code",
   "execution_count": 6,
   "id": "d25acdf4-d701-4eb8-a8c8-489d04635f8b",
   "metadata": {
    "colab": {
     "base_uri": "https://localhost:8080/"
    },
    "executionInfo": {
     "elapsed": 38,
     "status": "ok",
     "timestamp": 1742047603937,
     "user": {
      "displayName": "Nikolai Popov",
      "userId": "10251654665266976815"
     },
     "user_tz": -180
    },
    "id": "d25acdf4-d701-4eb8-a8c8-489d04635f8b",
    "outputId": "e65cc555-5579-4aa0-e257-c5f9d4da1359"
   },
   "outputs": [
    {
     "name": "stdout",
     "output_type": "stream",
     "text": [
      "Number of observations in the raw merged dataset: 8131760\n"
     ]
    }
   ],
   "source": [
    "print(f\"Number of observations in the raw merged dataset: {raw_dataset.shape[0]}\")"
   ]
  },
  {
   "cell_type": "markdown",
   "id": "78de98f1-0e15-4d54-a995-4009f4c03f81",
   "metadata": {
    "id": "78de98f1-0e15-4d54-a995-4009f4c03f81"
   },
   "source": [
    "### Coordinates"
   ]
  },
  {
   "cell_type": "code",
   "execution_count": 7,
   "id": "9620e782-34e4-4c03-9b39-7b19e41e3568",
   "metadata": {
    "colab": {
     "base_uri": "https://localhost:8080/",
     "height": 178
    },
    "executionInfo": {
     "elapsed": 13221,
     "status": "ok",
     "timestamp": 1742047617490,
     "user": {
      "displayName": "Nikolai Popov",
      "userId": "10251654665266976815"
     },
     "user_tz": -180
    },
    "id": "9620e782-34e4-4c03-9b39-7b19e41e3568",
    "outputId": "a4ce0f3d-f8ed-4155-f181-4ba1384c2a3e"
   },
   "outputs": [
    {
     "data": {
      "text/html": [
       "<div>\n",
       "<style scoped>\n",
       "    .dataframe tbody tr th:only-of-type {\n",
       "        vertical-align: middle;\n",
       "    }\n",
       "\n",
       "    .dataframe tbody tr th {\n",
       "        vertical-align: top;\n",
       "    }\n",
       "\n",
       "    .dataframe thead th {\n",
       "        text-align: right;\n",
       "    }\n",
       "</style>\n",
       "<table border=\"1\" class=\"dataframe\">\n",
       "  <thead>\n",
       "    <tr style=\"text-align: right;\">\n",
       "      <th></th>\n",
       "      <th>coord</th>\n",
       "    </tr>\n",
       "  </thead>\n",
       "  <tbody>\n",
       "    <tr>\n",
       "      <th>2623257</th>\n",
       "      <td>53.224628, 82.231222</td>\n",
       "    </tr>\n",
       "    <tr>\n",
       "      <th>5106804</th>\n",
       "      <td>54.1916, 37.537426</td>\n",
       "    </tr>\n",
       "    <tr>\n",
       "      <th>4922072</th>\n",
       "      <td>59.869907, 30.262236</td>\n",
       "    </tr>\n",
       "  </tbody>\n",
       "</table>\n",
       "</div><br><label><b>dtype:</b> object</label>"
      ],
      "text/plain": [
       "2623257    53.224628, 82.231222\n",
       "5106804      54.1916, 37.537426\n",
       "4922072    59.869907, 30.262236\n",
       "Name: coord, dtype: object"
      ]
     },
     "execution_count": 7,
     "metadata": {},
     "output_type": "execute_result"
    }
   ],
   "source": [
    "# Change the separating sign for the latitude/longitude and convert to float\n",
    "raw_dataset[\"Address_Longitude\"] = raw_dataset[\"Address_Longitude\"].astype(str).str.replace(\",\", \".\").astype(float)\n",
    "raw_dataset[\"Address_Latitude\"] = raw_dataset[\"Address_Latitude\"].astype(str).str.replace(\",\", \".\").astype(float)\n",
    "\n",
    "# Creat column of coordinates\n",
    "raw_dataset[\"coord\"] = raw_dataset[\"Address_Latitude\"].astype(str) + \", \" + raw_dataset[\"Address_Longitude\"].astype(str)\n",
    "raw_dataset = raw_dataset.drop(columns=\\\n",
    "                 [\"Address_Longitude\", \"Address_Latitude\"])\n",
    "\n",
    "raw_dataset[\"coord\"].sample(3)"
   ]
  },
  {
   "cell_type": "markdown",
   "id": "d3448a02-c773-4d8f-8f6a-3a3e0a4db26d",
   "metadata": {
    "id": "d3448a02-c773-4d8f-8f6a-3a3e0a4db26d"
   },
   "source": [
    "### Data types"
   ]
  },
  {
   "cell_type": "code",
   "execution_count": 8,
   "id": "5846651c-8e5f-466e-9a50-ac8fac0a0ca0",
   "metadata": {
    "colab": {
     "base_uri": "https://localhost:8080/",
     "height": 711
    },
    "executionInfo": {
     "elapsed": 95,
     "status": "ok",
     "timestamp": 1742047617588,
     "user": {
      "displayName": "Nikolai Popov",
      "userId": "10251654665266976815"
     },
     "user_tz": -180
    },
    "id": "5846651c-8e5f-466e-9a50-ac8fac0a0ca0",
    "outputId": "fbf94b05-9568-4dda-a8f7-a3f50fee796c"
   },
   "outputs": [
    {
     "data": {
      "text/html": [
       "<div>\n",
       "<style scoped>\n",
       "    .dataframe tbody tr th:only-of-type {\n",
       "        vertical-align: middle;\n",
       "    }\n",
       "\n",
       "    .dataframe tbody tr th {\n",
       "        vertical-align: top;\n",
       "    }\n",
       "\n",
       "    .dataframe thead th {\n",
       "        text-align: right;\n",
       "    }\n",
       "</style>\n",
       "<table border=\"1\" class=\"dataframe\">\n",
       "  <thead>\n",
       "    <tr style=\"text-align: right;\">\n",
       "      <th></th>\n",
       "      <th>0</th>\n",
       "    </tr>\n",
       "  </thead>\n",
       "  <tbody>\n",
       "    <tr>\n",
       "      <th>SparkID</th>\n",
       "      <td>int64</td>\n",
       "    </tr>\n",
       "    <tr>\n",
       "      <th>ShortNameEn</th>\n",
       "      <td>object</td>\n",
       "    </tr>\n",
       "    <tr>\n",
       "      <th>INN</th>\n",
       "      <td>float64</td>\n",
       "    </tr>\n",
       "    <tr>\n",
       "      <th>okveds</th>\n",
       "      <td>object</td>\n",
       "    </tr>\n",
       "    <tr>\n",
       "      <th>OKVED</th>\n",
       "      <td>object</td>\n",
       "    </tr>\n",
       "    <tr>\n",
       "      <th>Address_Address</th>\n",
       "      <td>object</td>\n",
       "    </tr>\n",
       "    <tr>\n",
       "      <th>Address_Region</th>\n",
       "      <td>object</td>\n",
       "    </tr>\n",
       "    <tr>\n",
       "      <th>Address_City</th>\n",
       "      <td>object</td>\n",
       "    </tr>\n",
       "    <tr>\n",
       "      <th>Status_IsActing</th>\n",
       "      <td>bool</td>\n",
       "    </tr>\n",
       "    <tr>\n",
       "      <th>Status_Code</th>\n",
       "      <td>int64</td>\n",
       "    </tr>\n",
       "    <tr>\n",
       "      <th>Status_Date</th>\n",
       "      <td>object</td>\n",
       "    </tr>\n",
       "    <tr>\n",
       "      <th>Year</th>\n",
       "      <td>int64</td>\n",
       "    </tr>\n",
       "    <tr>\n",
       "      <th>Staff</th>\n",
       "      <td>float64</td>\n",
       "    </tr>\n",
       "    <tr>\n",
       "      <th>Source</th>\n",
       "      <td>object</td>\n",
       "    </tr>\n",
       "    <tr>\n",
       "      <th>Form_1_Field_1150</th>\n",
       "      <td>float64</td>\n",
       "    </tr>\n",
       "    <tr>\n",
       "      <th>Form_2_Field_2120</th>\n",
       "      <td>float64</td>\n",
       "    </tr>\n",
       "    <tr>\n",
       "      <th>Form_2_Field_2400</th>\n",
       "      <td>float64</td>\n",
       "    </tr>\n",
       "    <tr>\n",
       "      <th>Form_4_Field_4121</th>\n",
       "      <td>float64</td>\n",
       "    </tr>\n",
       "    <tr>\n",
       "      <th>Form_2_Field_2110</th>\n",
       "      <td>float64</td>\n",
       "    </tr>\n",
       "    <tr>\n",
       "      <th>coord</th>\n",
       "      <td>object</td>\n",
       "    </tr>\n",
       "  </tbody>\n",
       "</table>\n",
       "</div><br><label><b>dtype:</b> object</label>"
      ],
      "text/plain": [
       "SparkID                int64\n",
       "ShortNameEn           object\n",
       "INN                  float64\n",
       "okveds                object\n",
       "OKVED                 object\n",
       "Address_Address       object\n",
       "Address_Region        object\n",
       "Address_City          object\n",
       "Status_IsActing         bool\n",
       "Status_Code            int64\n",
       "Status_Date           object\n",
       "Year                   int64\n",
       "Staff                float64\n",
       "Source                object\n",
       "Form_1_Field_1150    float64\n",
       "Form_2_Field_2120    float64\n",
       "Form_2_Field_2400    float64\n",
       "Form_4_Field_4121    float64\n",
       "Form_2_Field_2110    float64\n",
       "coord                 object\n",
       "dtype: object"
      ]
     },
     "execution_count": 8,
     "metadata": {},
     "output_type": "execute_result"
    }
   ],
   "source": [
    "# See the types of the columns\n",
    "raw_dataset.dtypes"
   ]
  },
  {
   "cell_type": "code",
   "execution_count": 9,
   "id": "32ee9eaa-b97a-4f77-b998-b09afbf480cb",
   "metadata": {
    "executionInfo": {
     "elapsed": 1973,
     "status": "ok",
     "timestamp": 1742047619563,
     "user": {
      "displayName": "Nikolai Popov",
      "userId": "10251654665266976815"
     },
     "user_tz": -180
    },
    "id": "32ee9eaa-b97a-4f77-b998-b09afbf480cb"
   },
   "outputs": [],
   "source": [
    "# Change columns to the proper data format\n",
    "raw_dataset[\"Status_Date\"] = pd.to_datetime(raw_dataset[\"Status_Date\"], format=\"%Y-%m-%d\")\n",
    "raw_dataset[\"Staff\"] = pd.to_numeric(raw_dataset[\"Staff\"],\n",
    "                                     errors=\"coerce\").astype(\"Int64\") # skips NaNs\n",
    "raw_dataset[\"INN\"] = pd.to_numeric(raw_dataset[\"INN\"],\n",
    "                                     errors=\"coerce\").astype(\"Int64\") # skips NaNs"
   ]
  },
  {
   "cell_type": "markdown",
   "id": "63f3ae26-b04e-4df7-be51-4dd795c24906",
   "metadata": {
    "id": "63f3ae26-b04e-4df7-be51-4dd795c24906"
   },
   "source": [
    "### Renaming columns\n",
    "Note that fixed assets = Capital <br>\n",
    "revenue = Output"
   ]
  },
  {
   "cell_type": "code",
   "execution_count": 10,
   "id": "9abfca16-ff70-4a9b-a817-755719cc2ecb",
   "metadata": {
    "executionInfo": {
     "elapsed": 1937,
     "status": "ok",
     "timestamp": 1742047621503,
     "user": {
      "displayName": "Nikolai Popov",
      "userId": "10251654665266976815"
     },
     "user_tz": -180
    },
    "id": "9abfca16-ff70-4a9b-a817-755719cc2ecb"
   },
   "outputs": [],
   "source": [
    "# Rename columns (according to financial statement)\n",
    "raw_dataset = raw_dataset.rename(columns={\n",
    "    \"Form_1_Field_1150\": \"Capital\",\n",
    "    \"Form_2_Field_2110\": \"Output\",\n",
    "    \"Form_2_Field_2120\": \"Cost_of_sales\",\n",
    "    \"Form_2_Field_2400\": \"Net_Profit\",\n",
    "    \"Form_4_Field_4121\": \"Payments\",\n",
    "    \"OKVED\": \"Main_OKVED\"\n",
    "})"
   ]
  },
  {
   "cell_type": "markdown",
   "id": "c87bd5f4-af4e-4807-8df2-c2ba90a93f8d",
   "metadata": {
    "id": "c87bd5f4-af4e-4807-8df2-c2ba90a93f8d"
   },
   "source": [
    "### Removing duplicate obs"
   ]
  },
  {
   "cell_type": "markdown",
   "id": "fee3b2e6-0abb-4f94-be7d-ebeac2ec3b5b",
   "metadata": {
    "id": "fee3b2e6-0abb-4f94-be7d-ebeac2ec3b5b"
   },
   "source": [
    "Apparently, there are INN-Year duplicate observations: same data but from different sources ('Source' - for the description see the Variables Description section).\n",
    "\n",
    "As 'Source' = 'NXT' is considered a bit more accurate than CUR (as the data could be correcting during an additional year), let's exclude dublicate observations for which 'Source' = 'CUR'."
   ]
  },
  {
   "cell_type": "code",
   "execution_count": 11,
   "id": "fc6da4ed-b30a-47e1-8ee7-7c56dfbb71e4",
   "metadata": {
    "executionInfo": {
     "elapsed": 531,
     "status": "ok",
     "timestamp": 1742047622741,
     "user": {
      "displayName": "Nikolai Popov",
      "userId": "10251654665266976815"
     },
     "user_tz": -180
    },
    "id": "fc6da4ed-b30a-47e1-8ee7-7c56dfbb71e4"
   },
   "outputs": [],
   "source": [
    "raw_dataset = raw_dataset[(raw_dataset[\"Source\"] == \"NXT\")]"
   ]
  },
  {
   "cell_type": "markdown",
   "id": "a8b65120-9762-4161-89c9-8b5fbdfb41c4",
   "metadata": {
    "id": "a8b65120-9762-4161-89c9-8b5fbdfb41c4"
   },
   "source": [
    "## Datasets Formation"
   ]
  },
  {
   "cell_type": "markdown",
   "id": "96b5a030-3236-4d7a-9323-a9bd567bc47d",
   "metadata": {
    "id": "96b5a030-3236-4d7a-9323-a9bd567bc47d"
   },
   "source": [
    "### Whole cleaned dataset"
   ]
  },
  {
   "cell_type": "code",
   "execution_count": 13,
   "id": "ae9a9ab7-e8e4-44bb-a6df-d15332b0235d",
   "metadata": {
    "colab": {
     "base_uri": "https://localhost:8080/"
    },
    "executionInfo": {
     "elapsed": 8,
     "status": "ok",
     "timestamp": 1742047622762,
     "user": {
      "displayName": "Nikolai Popov",
      "userId": "10251654665266976815"
     },
     "user_tz": -180
    },
    "id": "ae9a9ab7-e8e4-44bb-a6df-d15332b0235d",
    "outputId": "eb0e6699-98f1-4cfd-8619-2c5b5cfa4708"
   },
   "outputs": [
    {
     "data": {
      "text/plain": [
       "Index(['SparkID', 'ShortNameEn', 'INN', 'okveds', 'Main_OKVED',\n",
       "       'Address_Address', 'Address_Region', 'Address_City', 'Status_IsActing',\n",
       "       'Status_Code', 'Status_Date', 'Year', 'Staff', 'Source', 'Capital',\n",
       "       'Cost_of_sales', 'Net_Profit', 'Payments', 'Output', 'coord'],\n",
       "      dtype='object')"
      ]
     },
     "execution_count": 13,
     "metadata": {},
     "output_type": "execute_result"
    }
   ],
   "source": [
    "raw_dataset.columns"
   ]
  },
  {
   "cell_type": "code",
   "execution_count": 14,
   "id": "58a29396-14c4-467b-bf7f-ad9666238c5a",
   "metadata": {
    "colab": {
     "base_uri": "https://localhost:8080/"
    },
    "executionInfo": {
     "elapsed": 9,
     "status": "ok",
     "timestamp": 1742047622780,
     "user": {
      "displayName": "Nikolai Popov",
      "userId": "10251654665266976815"
     },
     "user_tz": -180
    },
    "id": "58a29396-14c4-467b-bf7f-ad9666238c5a",
    "outputId": "6d465389-d4bd-4ff4-eb9d-8f5cc5a6edf7"
   },
   "outputs": [
    {
     "name": "stdout",
     "output_type": "stream",
     "text": [
      "The number of observations in the whole dataset: 4065880\n"
     ]
    }
   ],
   "source": [
    "print(f\"The number of observations in the whole dataset: {raw_dataset.shape[0]}\")"
   ]
  },
  {
   "cell_type": "code",
   "execution_count": 15,
   "id": "2891542c-86d5-482e-98d1-ba21da0f8322",
   "metadata": {
    "executionInfo": {
     "elapsed": 46166,
     "status": "ok",
     "timestamp": 1742047668947,
     "user": {
      "displayName": "Nikolai Popov",
      "userId": "10251654665266976815"
     },
     "user_tz": -180
    },
    "id": "2891542c-86d5-482e-98d1-ba21da0f8322"
   },
   "outputs": [],
   "source": [
    "raw_dataset.to_csv('/content/drive/My Drive/Coding/whole_dataset_file_collab.csv', index=False, encoding=\"utf-8-sig\")"
   ]
  },
  {
   "cell_type": "markdown",
   "id": "59a787f7-e31c-47ff-9155-122f6e142d04",
   "metadata": {
    "id": "59a787f7-e31c-47ff-9155-122f6e142d04"
   },
   "source": [
    "### Balanced panel\n"
   ]
  },
  {
   "cell_type": "markdown",
   "id": "2fb861cc-6729-46d8-b8df-c4eff764e881",
   "metadata": {
    "id": "2fb861cc-6729-46d8-b8df-c4eff764e881"
   },
   "source": [
    "Apparently, there are INN-Year duplicate observations: same data but from different sources ('Source')."
   ]
  },
  {
   "cell_type": "markdown",
   "id": "a3381300-9226-451d-9784-d4e063b6e4fa",
   "metadata": {
    "id": "a3381300-9226-451d-9784-d4e063b6e4fa"
   },
   "source": [
    "#### Necessary columns\n",
    "Exclude all unnecessary columns"
   ]
  },
  {
   "cell_type": "code",
   "execution_count": 16,
   "id": "c2e6e7e0-c0bd-49c1-84ab-bc6e9f902333",
   "metadata": {
    "colab": {
     "base_uri": "https://localhost:8080/"
    },
    "executionInfo": {
     "elapsed": 262,
     "status": "ok",
     "timestamp": 1742047669219,
     "user": {
      "displayName": "Nikolai Popov",
      "userId": "10251654665266976815"
     },
     "user_tz": -180
    },
    "id": "c2e6e7e0-c0bd-49c1-84ab-bc6e9f902333",
    "outputId": "f97c8292-9a43-44c7-ccee-51fc999c0c53"
   },
   "outputs": [
    {
     "data": {
      "text/plain": [
       "0"
      ]
     },
     "execution_count": 16,
     "metadata": {},
     "output_type": "execute_result"
    }
   ],
   "source": [
    "balanced_df = raw_dataset[['INN', 'Year', 'okveds', 'coord', 'Capital', 'Output']]\n",
    "\n",
    "# Delete the old dataset\n",
    "del raw_dataset\n",
    "\n",
    "# Run garbage collection to free up memory\n",
    "gc.collect() # prints the number of deleted referene objects"
   ]
  },
  {
   "cell_type": "markdown",
   "id": "47fba682-bf9c-4807-aed4-19b51b3dc43f",
   "metadata": {
    "id": "47fba682-bf9c-4807-aed4-19b51b3dc43f"
   },
   "source": [
    "#### Years range"
   ]
  },
  {
   "cell_type": "code",
   "execution_count": 17,
   "id": "3d7fc136-4876-487f-a05a-4a3882be9833",
   "metadata": {
    "colab": {
     "base_uri": "https://localhost:8080/"
    },
    "executionInfo": {
     "elapsed": 6,
     "status": "ok",
     "timestamp": 1742047669230,
     "user": {
      "displayName": "Nikolai Popov",
      "userId": "10251654665266976815"
     },
     "user_tz": -180
    },
    "id": "3d7fc136-4876-487f-a05a-4a3882be9833",
    "outputId": "0a6d9658-539e-432c-e16c-c9339aa08062"
   },
   "outputs": [
    {
     "data": {
      "text/plain": [
       "array([2011, 2012, 2013, 2014, 2015, 2016, 2017, 2018, 2019, 2020, 2021,\n",
       "       2022, 2023])"
      ]
     },
     "execution_count": 17,
     "metadata": {},
     "output_type": "execute_result"
    }
   ],
   "source": [
    "# Find the range of years\n",
    "balanced_df['Year'].unique()"
   ]
  },
  {
   "cell_type": "markdown",
   "id": "95837b38-1761-44ed-b053-cc68e735aa8d",
   "metadata": {
    "id": "95837b38-1761-44ed-b053-cc68e735aa8d"
   },
   "source": [
    "From below the analysis is bounded by the data limitations, while from above it is bounded by the local validity of the DID - the further the period is from the treatment period, the less believable the assumption of parallel trends becomes (due to new shocks, structural breaks etc.). As my empirical model is a spatial DID with the treatment year of 2014, I take the years from 2011 to 2017: 3 years prior to 2014 and after. Actually, I might have taken 2018 into account as well (but not 2019 - COVID is a structural break which violates the parallel trends assumption for sure), but due to the requirement of my dataset being a balanced panel, I decided not to loose additional 10% of the firms."
   ]
  },
  {
   "cell_type": "code",
   "execution_count": 18,
   "id": "4d64af4c-f891-41f7-8498-26e31c220248",
   "metadata": {
    "executionInfo": {
     "elapsed": 104,
     "status": "ok",
     "timestamp": 1742047669334,
     "user": {
      "displayName": "Nikolai Popov",
      "userId": "10251654665266976815"
     },
     "user_tz": -180
    },
    "id": "4d64af4c-f891-41f7-8498-26e31c220248"
   },
   "outputs": [],
   "source": [
    "# leave only required years\n",
    "balanced_df = balanced_df[(balanced_df[\"Year\"] >= 2011) &\\\n",
    "    (balanced_df[\"Year\"] <= 2017)]"
   ]
  },
  {
   "cell_type": "markdown",
   "id": "9b936b84-e6c4-46aa-9a94-67275f86c0cd",
   "metadata": {
    "id": "9b936b84-e6c4-46aa-9a94-67275f86c0cd"
   },
   "source": [
    "#### Balancing\n",
    "\n",
    "Balanced panel is required for spatial DID models.\n",
    "\n",
    "Due to the specification of the empirical model, Capital, Output should be strictly greater than zero, as\n",
    "they are used in ln()."
   ]
  },
  {
   "cell_type": "code",
   "execution_count": 19,
   "id": "erzqZmpGD_e4",
   "metadata": {
    "executionInfo": {
     "elapsed": 153,
     "status": "ok",
     "timestamp": 1742047669489,
     "user": {
      "displayName": "Nikolai Popov",
      "userId": "10251654665266976815"
     },
     "user_tz": -180
    },
    "id": "erzqZmpGD_e4"
   },
   "outputs": [],
   "source": [
    "# Keep only rows where 'capital' > 0 and 'output' > 0\n",
    "balanced_df = balanced_df[(balanced_df['Capital'] > 0) & (balanced_df['Output'] > 0)]"
   ]
  },
  {
   "cell_type": "markdown",
   "id": "2fbba93b-5351-46ea-b99a-562f1cbb83e9",
   "metadata": {
    "id": "2fbba93b-5351-46ea-b99a-562f1cbb83e9"
   },
   "source": [
    "Print the number of missing values in each column"
   ]
  },
  {
   "cell_type": "code",
   "execution_count": 20,
   "id": "74e1f0c9-4f3c-4a9f-bb98-db42a87c61c8",
   "metadata": {
    "colab": {
     "base_uri": "https://localhost:8080/"
    },
    "executionInfo": {
     "elapsed": 6,
     "status": "ok",
     "timestamp": 1742047669496,
     "user": {
      "displayName": "Nikolai Popov",
      "userId": "10251654665266976815"
     },
     "user_tz": -180
    },
    "id": "74e1f0c9-4f3c-4a9f-bb98-db42a87c61c8",
    "outputId": "0ca435c6-f6e3-49d1-9523-da6b3c55ef72"
   },
   "outputs": [
    {
     "name": "stdout",
     "output_type": "stream",
     "text": [
      "Dataframe shape: (238767, 6)\n",
      "INN        0\n",
      "Year       0\n",
      "okveds     0\n",
      "coord      0\n",
      "Capital    0\n",
      "Output     0\n",
      "dtype: int64\n"
     ]
    }
   ],
   "source": [
    "print(f'Dataframe shape: {balanced_df.shape}')\n",
    "print(balanced_df.isna().sum())"
   ]
  },
  {
   "cell_type": "code",
   "execution_count": 21,
   "id": "1fd473a6-554a-4628-baae-d9e1af7c8244",
   "metadata": {
    "colab": {
     "base_uri": "https://localhost:8080/",
     "height": 146
    },
    "executionInfo": {
     "elapsed": 135,
     "status": "ok",
     "timestamp": 1742047669634,
     "user": {
      "displayName": "Nikolai Popov",
      "userId": "10251654665266976815"
     },
     "user_tz": -180
    },
    "id": "1fd473a6-554a-4628-baae-d9e1af7c8244",
    "outputId": "8948bb9a-136e-40f5-d662-302bf14f1af1"
   },
   "outputs": [
    {
     "data": {
      "text/html": [
       "<div>\n",
       "<style scoped>\n",
       "    .dataframe tbody tr th:only-of-type {\n",
       "        vertical-align: middle;\n",
       "    }\n",
       "\n",
       "    .dataframe tbody tr th {\n",
       "        vertical-align: top;\n",
       "    }\n",
       "\n",
       "    .dataframe thead th {\n",
       "        text-align: right;\n",
       "    }\n",
       "</style>\n",
       "<table border=\"1\" class=\"dataframe\">\n",
       "  <thead>\n",
       "    <tr style=\"text-align: right;\">\n",
       "      <th></th>\n",
       "      <th>coord</th>\n",
       "    </tr>\n",
       "    <tr>\n",
       "      <th>INN</th>\n",
       "      <th></th>\n",
       "    </tr>\n",
       "  </thead>\n",
       "  <tbody>\n",
       "    <tr>\n",
       "      <th>5029004536</th>\n",
       "      <td>2</td>\n",
       "    </tr>\n",
       "  </tbody>\n",
       "</table>\n",
       "</div><br><label><b>dtype:</b> int64</label>"
      ],
      "text/plain": [
       "INN\n",
       "5029004536    2\n",
       "Name: coord, dtype: int64"
      ]
     },
     "execution_count": 21,
     "metadata": {},
     "output_type": "execute_result"
    }
   ],
   "source": [
    "# Check if every firm has a permanent adress (required for spatial weights\n",
    "# to be time-invariant)\n",
    "num_adress = balanced_df.groupby(\"INN\")[\"coord\"].nunique()\n",
    "\n",
    "# Find identifiers where multiple unique values exist\n",
    "changed_adress_firms = num_adress[num_adress > 1]\n",
    "changed_adress_firms"
   ]
  },
  {
   "cell_type": "code",
   "execution_count": 22,
   "id": "V-hdedgPuxFf",
   "metadata": {
    "executionInfo": {
     "elapsed": 3,
     "status": "ok",
     "timestamp": 1742047669639,
     "user": {
      "displayName": "Nikolai Popov",
      "userId": "10251654665266976815"
     },
     "user_tz": -180
    },
    "id": "V-hdedgPuxFf"
   },
   "outputs": [],
   "source": [
    "# Filter out these firms from the DataFrame\n",
    "balanced_df = balanced_df[~balanced_df[\"INN\"].isin(changed_adress_firms)]"
   ]
  },
  {
   "cell_type": "markdown",
   "id": "d657f945-9a8e-4350-a615-9c077d428304",
   "metadata": {
    "id": "d657f945-9a8e-4350-a615-9c077d428304"
   },
   "source": [
    "Now lets find the firms which don't have observations for each year of observation."
   ]
  },
  {
   "cell_type": "code",
   "execution_count": 23,
   "id": "dd05ac8b-73a6-4cfe-8e32-c7efda1822d3",
   "metadata": {
    "colab": {
     "base_uri": "https://localhost:8080/"
    },
    "executionInfo": {
     "elapsed": 769,
     "status": "ok",
     "timestamp": 1742047670409,
     "user": {
      "displayName": "Nikolai Popov",
      "userId": "10251654665266976815"
     },
     "user_tz": -180
    },
    "id": "dd05ac8b-73a6-4cfe-8e32-c7efda1822d3",
    "outputId": "11d7b8b7-07d3-4326-c24e-ca6ffcc0a021"
   },
   "outputs": [
    {
     "name": "stdout",
     "output_type": "stream",
     "text": [
      "Previous number of firms: 58964\n",
      "Number of firms excluded: 49823\n",
      "New number of firms: 9141\n",
      "Number of years: 7\n",
      "Expected number of obs. (balanced panel):\n",
      " # years * # firms: 63987\n",
      "Actual number of obs.: 63987\n"
     ]
    }
   ],
   "source": [
    "# Define the expected range of years\n",
    "expected_years = set(range(balanced_df[\"Year\"].min(),\n",
    "                           balanced_df[\"Year\"].max() + 1))\n",
    "\n",
    "# Find firms missing one or more years\n",
    "missing_years_firms = balanced_df.groupby(\"INN\")[\"Year\"].\\\n",
    "apply(lambda x: expected_years - set(x))\n",
    "\n",
    "# Extract firms that are missing years\n",
    "firms_to_exclude =\\\n",
    "set(missing_years_firms[missing_years_firms.apply(len) > 0].index)\n",
    "\n",
    "# Exclude these firms from the dataset\n",
    "balanced_df = balanced_df[~balanced_df[\"INN\"].isin(firms_to_exclude)]\n",
    "print(f\"Previous number of firms: {len(missing_years_firms)}\")\n",
    "print(f\"Number of firms excluded: {len(firms_to_exclude)}\")\n",
    "print(f\"New number of firms: {len(missing_years_firms) -len(firms_to_exclude)}\")\n",
    "print(f\"Number of years: {7}\")\n",
    "print(f\"Expected number of obs. (balanced panel):\\n \\\n",
    "# years * # firms: {(len(missing_years_firms) -len(firms_to_exclude))*7}\")\n",
    "print(f\"Actual number of obs.: {balanced_df.shape[0]}\")"
   ]
  },
  {
   "cell_type": "markdown",
   "id": "d7125db6-054a-4da3-9d3a-0e8186cf3dba",
   "metadata": {
    "id": "d7125db6-054a-4da3-9d3a-0e8186cf3dba"
   },
   "source": [
    "#### Post dummy"
   ]
  },
  {
   "cell_type": "code",
   "execution_count": 24,
   "id": "123e8e22-cc25-40c3-b1a1-f193b3092b7e",
   "metadata": {
    "colab": {
     "base_uri": "https://localhost:8080/",
     "height": 206
    },
    "executionInfo": {
     "elapsed": 22,
     "status": "ok",
     "timestamp": 1742047670432,
     "user": {
      "displayName": "Nikolai Popov",
      "userId": "10251654665266976815"
     },
     "user_tz": -180
    },
    "id": "123e8e22-cc25-40c3-b1a1-f193b3092b7e",
    "outputId": "18c66e0e-7302-45fd-9238-c526c689f2e7"
   },
   "outputs": [
    {
     "data": {
      "application/vnd.google.colaboratory.intrinsic+json": {
       "summary": "{\n  \"name\": \"balanced_df[[\\\"Year\\\", \\\"Post_d\\\"]]\",\n  \"rows\": 5,\n  \"fields\": [\n    {\n      \"column\": \"Year\",\n      \"properties\": {\n        \"dtype\": \"number\",\n        \"std\": 1,\n        \"min\": 2011,\n        \"max\": 2015,\n        \"num_unique_values\": 5,\n        \"samples\": [\n          2012,\n          2015,\n          2013\n        ],\n        \"semantic_type\": \"\",\n        \"description\": \"\"\n      }\n    },\n    {\n      \"column\": \"Post_d\",\n      \"properties\": {\n        \"dtype\": \"number\",\n        \"std\": 0,\n        \"min\": 0,\n        \"max\": 1,\n        \"num_unique_values\": 2,\n        \"samples\": [\n          1,\n          0\n        ],\n        \"semantic_type\": \"\",\n        \"description\": \"\"\n      }\n    }\n  ]\n}",
       "type": "dataframe"
      },
      "text/html": [
       "\n",
       "  <div id=\"df-eabfa6a7-1a44-4e1a-bf43-dfc9249c6a99\" class=\"colab-df-container\">\n",
       "    <div>\n",
       "<style scoped>\n",
       "    .dataframe tbody tr th:only-of-type {\n",
       "        vertical-align: middle;\n",
       "    }\n",
       "\n",
       "    .dataframe tbody tr th {\n",
       "        vertical-align: top;\n",
       "    }\n",
       "\n",
       "    .dataframe thead th {\n",
       "        text-align: right;\n",
       "    }\n",
       "</style>\n",
       "<table border=\"1\" class=\"dataframe\">\n",
       "  <thead>\n",
       "    <tr style=\"text-align: right;\">\n",
       "      <th></th>\n",
       "      <th>Year</th>\n",
       "      <th>Post_d</th>\n",
       "    </tr>\n",
       "  </thead>\n",
       "  <tbody>\n",
       "    <tr>\n",
       "      <th>27</th>\n",
       "      <td>2011</td>\n",
       "      <td>0</td>\n",
       "    </tr>\n",
       "    <tr>\n",
       "      <th>29</th>\n",
       "      <td>2012</td>\n",
       "      <td>0</td>\n",
       "    </tr>\n",
       "    <tr>\n",
       "      <th>31</th>\n",
       "      <td>2013</td>\n",
       "      <td>0</td>\n",
       "    </tr>\n",
       "    <tr>\n",
       "      <th>33</th>\n",
       "      <td>2014</td>\n",
       "      <td>1</td>\n",
       "    </tr>\n",
       "    <tr>\n",
       "      <th>35</th>\n",
       "      <td>2015</td>\n",
       "      <td>1</td>\n",
       "    </tr>\n",
       "  </tbody>\n",
       "</table>\n",
       "</div>\n",
       "    <div class=\"colab-df-buttons\">\n",
       "\n",
       "  <div class=\"colab-df-container\">\n",
       "    <button class=\"colab-df-convert\" onclick=\"convertToInteractive('df-eabfa6a7-1a44-4e1a-bf43-dfc9249c6a99')\"\n",
       "            title=\"Convert this dataframe to an interactive table.\"\n",
       "            style=\"display:none;\">\n",
       "\n",
       "  <svg xmlns=\"http://www.w3.org/2000/svg\" height=\"24px\" viewBox=\"0 -960 960 960\">\n",
       "    <path d=\"M120-120v-720h720v720H120Zm60-500h600v-160H180v160Zm220 220h160v-160H400v160Zm0 220h160v-160H400v160ZM180-400h160v-160H180v160Zm440 0h160v-160H620v160ZM180-180h160v-160H180v160Zm440 0h160v-160H620v160Z\"/>\n",
       "  </svg>\n",
       "    </button>\n",
       "\n",
       "  <style>\n",
       "    .colab-df-container {\n",
       "      display:flex;\n",
       "      gap: 12px;\n",
       "    }\n",
       "\n",
       "    .colab-df-convert {\n",
       "      background-color: #E8F0FE;\n",
       "      border: none;\n",
       "      border-radius: 50%;\n",
       "      cursor: pointer;\n",
       "      display: none;\n",
       "      fill: #1967D2;\n",
       "      height: 32px;\n",
       "      padding: 0 0 0 0;\n",
       "      width: 32px;\n",
       "    }\n",
       "\n",
       "    .colab-df-convert:hover {\n",
       "      background-color: #E2EBFA;\n",
       "      box-shadow: 0px 1px 2px rgba(60, 64, 67, 0.3), 0px 1px 3px 1px rgba(60, 64, 67, 0.15);\n",
       "      fill: #174EA6;\n",
       "    }\n",
       "\n",
       "    .colab-df-buttons div {\n",
       "      margin-bottom: 4px;\n",
       "    }\n",
       "\n",
       "    [theme=dark] .colab-df-convert {\n",
       "      background-color: #3B4455;\n",
       "      fill: #D2E3FC;\n",
       "    }\n",
       "\n",
       "    [theme=dark] .colab-df-convert:hover {\n",
       "      background-color: #434B5C;\n",
       "      box-shadow: 0px 1px 3px 1px rgba(0, 0, 0, 0.15);\n",
       "      filter: drop-shadow(0px 1px 2px rgba(0, 0, 0, 0.3));\n",
       "      fill: #FFFFFF;\n",
       "    }\n",
       "  </style>\n",
       "\n",
       "    <script>\n",
       "      const buttonEl =\n",
       "        document.querySelector('#df-eabfa6a7-1a44-4e1a-bf43-dfc9249c6a99 button.colab-df-convert');\n",
       "      buttonEl.style.display =\n",
       "        google.colab.kernel.accessAllowed ? 'block' : 'none';\n",
       "\n",
       "      async function convertToInteractive(key) {\n",
       "        const element = document.querySelector('#df-eabfa6a7-1a44-4e1a-bf43-dfc9249c6a99');\n",
       "        const dataTable =\n",
       "          await google.colab.kernel.invokeFunction('convertToInteractive',\n",
       "                                                    [key], {});\n",
       "        if (!dataTable) return;\n",
       "\n",
       "        const docLinkHtml = 'Like what you see? Visit the ' +\n",
       "          '<a target=\"_blank\" href=https://colab.research.google.com/notebooks/data_table.ipynb>data table notebook</a>'\n",
       "          + ' to learn more about interactive tables.';\n",
       "        element.innerHTML = '';\n",
       "        dataTable['output_type'] = 'display_data';\n",
       "        await google.colab.output.renderOutput(dataTable, element);\n",
       "        const docLink = document.createElement('div');\n",
       "        docLink.innerHTML = docLinkHtml;\n",
       "        element.appendChild(docLink);\n",
       "      }\n",
       "    </script>\n",
       "  </div>\n",
       "\n",
       "\n",
       "<div id=\"df-2bac27f1-10d3-4530-ab5b-344e56a7339c\">\n",
       "  <button class=\"colab-df-quickchart\" onclick=\"quickchart('df-2bac27f1-10d3-4530-ab5b-344e56a7339c')\"\n",
       "            title=\"Suggest charts\"\n",
       "            style=\"display:none;\">\n",
       "\n",
       "<svg xmlns=\"http://www.w3.org/2000/svg\" height=\"24px\"viewBox=\"0 0 24 24\"\n",
       "     width=\"24px\">\n",
       "    <g>\n",
       "        <path d=\"M19 3H5c-1.1 0-2 .9-2 2v14c0 1.1.9 2 2 2h14c1.1 0 2-.9 2-2V5c0-1.1-.9-2-2-2zM9 17H7v-7h2v7zm4 0h-2V7h2v10zm4 0h-2v-4h2v4z\"/>\n",
       "    </g>\n",
       "</svg>\n",
       "  </button>\n",
       "\n",
       "<style>\n",
       "  .colab-df-quickchart {\n",
       "      --bg-color: #E8F0FE;\n",
       "      --fill-color: #1967D2;\n",
       "      --hover-bg-color: #E2EBFA;\n",
       "      --hover-fill-color: #174EA6;\n",
       "      --disabled-fill-color: #AAA;\n",
       "      --disabled-bg-color: #DDD;\n",
       "  }\n",
       "\n",
       "  [theme=dark] .colab-df-quickchart {\n",
       "      --bg-color: #3B4455;\n",
       "      --fill-color: #D2E3FC;\n",
       "      --hover-bg-color: #434B5C;\n",
       "      --hover-fill-color: #FFFFFF;\n",
       "      --disabled-bg-color: #3B4455;\n",
       "      --disabled-fill-color: #666;\n",
       "  }\n",
       "\n",
       "  .colab-df-quickchart {\n",
       "    background-color: var(--bg-color);\n",
       "    border: none;\n",
       "    border-radius: 50%;\n",
       "    cursor: pointer;\n",
       "    display: none;\n",
       "    fill: var(--fill-color);\n",
       "    height: 32px;\n",
       "    padding: 0;\n",
       "    width: 32px;\n",
       "  }\n",
       "\n",
       "  .colab-df-quickchart:hover {\n",
       "    background-color: var(--hover-bg-color);\n",
       "    box-shadow: 0 1px 2px rgba(60, 64, 67, 0.3), 0 1px 3px 1px rgba(60, 64, 67, 0.15);\n",
       "    fill: var(--button-hover-fill-color);\n",
       "  }\n",
       "\n",
       "  .colab-df-quickchart-complete:disabled,\n",
       "  .colab-df-quickchart-complete:disabled:hover {\n",
       "    background-color: var(--disabled-bg-color);\n",
       "    fill: var(--disabled-fill-color);\n",
       "    box-shadow: none;\n",
       "  }\n",
       "\n",
       "  .colab-df-spinner {\n",
       "    border: 2px solid var(--fill-color);\n",
       "    border-color: transparent;\n",
       "    border-bottom-color: var(--fill-color);\n",
       "    animation:\n",
       "      spin 1s steps(1) infinite;\n",
       "  }\n",
       "\n",
       "  @keyframes spin {\n",
       "    0% {\n",
       "      border-color: transparent;\n",
       "      border-bottom-color: var(--fill-color);\n",
       "      border-left-color: var(--fill-color);\n",
       "    }\n",
       "    20% {\n",
       "      border-color: transparent;\n",
       "      border-left-color: var(--fill-color);\n",
       "      border-top-color: var(--fill-color);\n",
       "    }\n",
       "    30% {\n",
       "      border-color: transparent;\n",
       "      border-left-color: var(--fill-color);\n",
       "      border-top-color: var(--fill-color);\n",
       "      border-right-color: var(--fill-color);\n",
       "    }\n",
       "    40% {\n",
       "      border-color: transparent;\n",
       "      border-right-color: var(--fill-color);\n",
       "      border-top-color: var(--fill-color);\n",
       "    }\n",
       "    60% {\n",
       "      border-color: transparent;\n",
       "      border-right-color: var(--fill-color);\n",
       "    }\n",
       "    80% {\n",
       "      border-color: transparent;\n",
       "      border-right-color: var(--fill-color);\n",
       "      border-bottom-color: var(--fill-color);\n",
       "    }\n",
       "    90% {\n",
       "      border-color: transparent;\n",
       "      border-bottom-color: var(--fill-color);\n",
       "    }\n",
       "  }\n",
       "</style>\n",
       "\n",
       "  <script>\n",
       "    async function quickchart(key) {\n",
       "      const quickchartButtonEl =\n",
       "        document.querySelector('#' + key + ' button');\n",
       "      quickchartButtonEl.disabled = true;  // To prevent multiple clicks.\n",
       "      quickchartButtonEl.classList.add('colab-df-spinner');\n",
       "      try {\n",
       "        const charts = await google.colab.kernel.invokeFunction(\n",
       "            'suggestCharts', [key], {});\n",
       "      } catch (error) {\n",
       "        console.error('Error during call to suggestCharts:', error);\n",
       "      }\n",
       "      quickchartButtonEl.classList.remove('colab-df-spinner');\n",
       "      quickchartButtonEl.classList.add('colab-df-quickchart-complete');\n",
       "    }\n",
       "    (() => {\n",
       "      let quickchartButtonEl =\n",
       "        document.querySelector('#df-2bac27f1-10d3-4530-ab5b-344e56a7339c button');\n",
       "      quickchartButtonEl.style.display =\n",
       "        google.colab.kernel.accessAllowed ? 'block' : 'none';\n",
       "    })();\n",
       "  </script>\n",
       "</div>\n",
       "\n",
       "    </div>\n",
       "  </div>\n"
      ],
      "text/plain": [
       "    Year  Post_d\n",
       "27  2011       0\n",
       "29  2012       0\n",
       "31  2013       0\n",
       "33  2014       1\n",
       "35  2015       1"
      ]
     },
     "execution_count": 24,
     "metadata": {},
     "output_type": "execute_result"
    }
   ],
   "source": [
    "# Create a new column \"Post_d\" which is 1 if Year >= 2014, else 0\n",
    "balanced_df[\"Post_d\"] = (balanced_df[\"Year\"] >= 2014).astype(int)\n",
    "balanced_df[[\"Year\", \"Post_d\"]].head()"
   ]
  },
  {
   "cell_type": "markdown",
   "id": "7ecc7235-ec5d-44ea-9e10-99633f6d24b3",
   "metadata": {
    "id": "7ecc7235-ec5d-44ea-9e10-99633f6d24b3"
   },
   "source": [
    "#### Treatment dummy"
   ]
  },
  {
   "cell_type": "markdown",
   "id": "80b42f64-f681-4849-a82a-a64b6c423a17",
   "metadata": {
    "id": "80b42f64-f681-4849-a82a-a64b6c423a17"
   },
   "source": [
    "OCVED - firm's activity code; TNVED - good's code. They have to be matched manually. The EU standards, which correspinds: OCVED - Nyce, TN_VED (6 digits) - HS. Note that there is not direct correspondance between TNVED and OCVED. There is also OKPD (European analog is CPA) - it's the code, linking the goods produced to company activity code. There is a direct correspondance with TNVED (I used this webiste to convert TNVED to OKPD: https://classinform.ru/perevod-tnved-v-okpd2/search.html). Even though there is still no direct correspondance between OKPD and OCVED, they coinside up to 4-th digit - meaning that they can be matched, even though only on the first levels of classification.\n",
    "\n",
    "\n",
    "Steps to implement the mapping:\n",
    "1) Convert OCVED to OKPD;\n",
    "2) Convert OKPD to OCVED;\n",
    "\n",
    "The procedure is done manually to increase the presition of the ambiguous matching. Note that due to the matching on only 4 digits, exclusions to the sanctioned categories cannot be taken into account; the whole category considered embargoed instead."
   ]
  },
  {
   "cell_type": "markdown",
   "id": "918117f3-33cc-4270-bc41-927993405851",
   "metadata": {
    "id": "918117f3-33cc-4270-bc41-927993405851"
   },
   "source": [
    "See the link to the official Russian Government statement about TN_VED codes (first 6 digits of which corresponds to the HS system) of emabargoed goods:\n",
    "\n",
    "https://base.garant.ru/70712500/53f89421bbdaf741eb2d1ecc4ddb4c33/"
   ]
  },
  {
   "cell_type": "code",
   "execution_count": 25,
   "id": "bdee0dcc-f40e-4ea7-bcf4-6abb4177ddbd",
   "metadata": {
    "executionInfo": {
     "elapsed": 2,
     "status": "ok",
     "timestamp": 1742047670435,
     "user": {
      "displayName": "Nikolai Popov",
      "userId": "10251654665266976815"
     },
     "user_tz": -180
    },
    "id": "bdee0dcc-f40e-4ea7-bcf4-6abb4177ddbd"
   },
   "outputs": [],
   "source": [
    "# manually matched okveds corresponding to activities of fimrs, which were\n",
    "# directly affected by embargo (counter-sanctions)\n",
    "\n",
    "embargoed_sectors = {'01.46', '10.11', '10.12', '10.13',\n",
    "'03.11', '03.12', '03.22', '10.20', '10.51', '01.13',\n",
    "'01.11', '01.26', '01.28', '10.31', '10.39', '01.25',\n",
    "'01.22', '01.23', '01.21', '01.24', '10.41', '08.93'}"
   ]
  },
  {
   "cell_type": "code",
   "execution_count": 26,
   "id": "80743544-c0b0-44de-944d-3caa066727d8",
   "metadata": {
    "colab": {
     "base_uri": "https://localhost:8080/",
     "height": 241
    },
    "executionInfo": {
     "elapsed": 20,
     "status": "ok",
     "timestamp": 1742047670457,
     "user": {
      "displayName": "Nikolai Popov",
      "userId": "10251654665266976815"
     },
     "user_tz": -180
    },
    "id": "80743544-c0b0-44de-944d-3caa066727d8",
    "outputId": "b5ea52f2-4377-4a6b-cc24-990e5f992f1d"
   },
   "outputs": [
    {
     "data": {
      "text/html": [
       "<div>\n",
       "<style scoped>\n",
       "    .dataframe tbody tr th:only-of-type {\n",
       "        vertical-align: middle;\n",
       "    }\n",
       "\n",
       "    .dataframe tbody tr th {\n",
       "        vertical-align: top;\n",
       "    }\n",
       "\n",
       "    .dataframe thead th {\n",
       "        text-align: right;\n",
       "    }\n",
       "</style>\n",
       "<table border=\"1\" class=\"dataframe\">\n",
       "  <thead>\n",
       "    <tr style=\"text-align: right;\">\n",
       "      <th></th>\n",
       "      <th>okveds</th>\n",
       "    </tr>\n",
       "  </thead>\n",
       "  <tbody>\n",
       "    <tr>\n",
       "      <th>27</th>\n",
       "      <td>['47.21', '47.22', '47.29.11', '49.4']</td>\n",
       "    </tr>\n",
       "    <tr>\n",
       "      <th>29</th>\n",
       "      <td>['47.21', '47.22', '47.29.11', '49.4']</td>\n",
       "    </tr>\n",
       "    <tr>\n",
       "      <th>31</th>\n",
       "      <td>['47.21', '47.22', '47.29.11', '49.4']</td>\n",
       "    </tr>\n",
       "    <tr>\n",
       "      <th>33</th>\n",
       "      <td>['47.21', '47.22', '47.29.11', '49.4']</td>\n",
       "    </tr>\n",
       "    <tr>\n",
       "      <th>35</th>\n",
       "      <td>['47.21', '47.22', '47.29.11', '49.4']</td>\n",
       "    </tr>\n",
       "  </tbody>\n",
       "</table>\n",
       "</div><br><label><b>dtype:</b> object</label>"
      ],
      "text/plain": [
       "27    ['47.21', '47.22', '47.29.11', '49.4']\n",
       "29    ['47.21', '47.22', '47.29.11', '49.4']\n",
       "31    ['47.21', '47.22', '47.29.11', '49.4']\n",
       "33    ['47.21', '47.22', '47.29.11', '49.4']\n",
       "35    ['47.21', '47.22', '47.29.11', '49.4']\n",
       "Name: okveds, dtype: object"
      ]
     },
     "execution_count": 26,
     "metadata": {},
     "output_type": "execute_result"
    }
   ],
   "source": [
    "balanced_df['okveds'].head()"
   ]
  },
  {
   "cell_type": "markdown",
   "id": "743f3f2b-9e0b-4ee4-89d8-f18aada582e3",
   "metadata": {
    "id": "743f3f2b-9e0b-4ee4-89d8-f18aada582e3"
   },
   "source": [
    "Truncate all the okveds to 4 digits (for the proper matching)."
   ]
  },
  {
   "cell_type": "code",
   "execution_count": 27,
   "id": "0adba4c3-983f-4af8-a87a-8fb76b783773",
   "metadata": {
    "colab": {
     "base_uri": "https://localhost:8080/"
    },
    "executionInfo": {
     "elapsed": 3354,
     "status": "ok",
     "timestamp": 1742047673813,
     "user": {
      "displayName": "Nikolai Popov",
      "userId": "10251654665266976815"
     },
     "user_tz": -180
    },
    "id": "0adba4c3-983f-4af8-a87a-8fb76b783773",
    "outputId": "a4391438-abff-4e02-e324-d9d5c8df050e"
   },
   "outputs": [
    {
     "name": "stdout",
     "output_type": "stream",
     "text": [
      "27    [47.21, 47.22, 47.29, 49.4]\n",
      "29    [47.21, 47.22, 47.29, 49.4]\n",
      "31    [47.21, 47.22, 47.29, 49.4]\n",
      "33    [47.21, 47.22, 47.29, 49.4]\n",
      "35    [47.21, 47.22, 47.29, 49.4]\n",
      "Name: okveds, dtype: object\n"
     ]
    }
   ],
   "source": [
    "# Ensure that the okveds column contains actual lists, not string representations.\n",
    "def ensure_list(x):\n",
    "    if isinstance(x, str):\n",
    "        try:\n",
    "            return ast.literal_eval(x)\n",
    "        except Exception as e:\n",
    "            print(\"Conversion error:\", e)\n",
    "            return None\n",
    "    return x\n",
    "balanced_df['okveds'] = balanced_df['okveds'].apply(ensure_list)\n",
    "\n",
    "def modify_okved(codes_list):\n",
    "    return [re.sub(r'^(\\d+\\.\\d+)\\.\\d+$', r'\\1', code) for code in codes_list]\n",
    "\n",
    "# Apply the modification\n",
    "balanced_df['okveds'] = balanced_df['okveds'].apply(modify_okved)\n",
    "\n",
    "print(balanced_df['okveds'].head())"
   ]
  },
  {
   "cell_type": "markdown",
   "id": "88a43b4a-f5da-4aa6-a662-6f1d9caaa01d",
   "metadata": {
    "id": "88a43b4a-f5da-4aa6-a662-6f1d9caaa01d"
   },
   "source": [
    "See whether firms have the same okveds over the years:"
   ]
  },
  {
   "cell_type": "code",
   "execution_count": 28,
   "id": "662fe11b-36a2-4721-b726-2ca8d38fa7cb",
   "metadata": {
    "colab": {
     "base_uri": "https://localhost:8080/"
    },
    "executionInfo": {
     "elapsed": 1019,
     "status": "ok",
     "timestamp": 1742047674834,
     "user": {
      "displayName": "Nikolai Popov",
      "userId": "10251654665266976815"
     },
     "user_tz": -180
    },
    "id": "662fe11b-36a2-4721-b726-2ca8d38fa7cb",
    "outputId": "b8ed0d5c-8d9e-4030-a4ce-d4d091525f06"
   },
   "outputs": [
    {
     "name": "stdout",
     "output_type": "stream",
     "text": [
      "Number of inconsistent firms: 0\n"
     ]
    }
   ],
   "source": [
    "# Convert the list of okveds into a canonical form.\n",
    "# Sort the codes and convert them to a tuple so that order doesn't affect equality.\n",
    "def canonical_okved(okved_list):\n",
    "    if okved_list is None:\n",
    "        return None\n",
    "    return tuple(sorted(okved_list))\n",
    "\n",
    "balanced_df['okveds_canonical'] = balanced_df['okveds'].apply(canonical_okved)\n",
    "\n",
    "# Group by INN and check if the set of okveds remains the same over the years.\n",
    "def is_consistent(group):\n",
    "    # If there's only one unique canonical set across the group's rows, it's consistent.\n",
    "    return group['okveds_canonical'].nunique() == 1\n",
    "\n",
    "# Create a DataFrame with consistency check results\n",
    "consistency = balanced_df.groupby('INN').apply(is_consistent).reset_index()\n",
    "consistency.columns = ['INN', 'consistent']\n",
    "\n",
    "# Count the number of inconsistent firms\n",
    "num_inconsistent = (consistency['consistent'] == False).sum()\n",
    "\n",
    "balanced_df = balanced_df.drop(columns=\\\n",
    "                 [\"okveds_canonical\"])\n",
    "print(\"Number of inconsistent firms:\", num_inconsistent)"
   ]
  },
  {
   "cell_type": "markdown",
   "id": "60516931-13ba-4308-8f8e-87b812f09d6e",
   "metadata": {
    "id": "60516931-13ba-4308-8f8e-87b812f09d6e"
   },
   "source": [
    "With that out of the way, let's mark treated (embargoed) firms. Note that if at least one of the okveds of the firms coincides with an element form the embargoed list => this firm is treated as embargoed (it's a simplification)."
   ]
  },
  {
   "cell_type": "code",
   "execution_count": 30,
   "id": "ea61adc0-bdcc-43de-8594-d5e15aad2eb1",
   "metadata": {
    "colab": {
     "base_uri": "https://localhost:8080/"
    },
    "executionInfo": {
     "elapsed": 96,
     "status": "ok",
     "timestamp": 1742047674959,
     "user": {
      "displayName": "Nikolai Popov",
      "userId": "10251654665266976815"
     },
     "user_tz": -180
    },
    "id": "ea61adc0-bdcc-43de-8594-d5e15aad2eb1",
    "outputId": "6b80cfa4-c91f-4cd4-e104-191c078cb113"
   },
   "outputs": [
    {
     "name": "stdout",
     "output_type": "stream",
     "text": [
      "         INN  Year                       okveds  Treated_d\n",
      "0  245008247  2011  [47.21, 47.22, 47.29, 49.4]          0\n",
      "1  245008247  2012  [47.21, 47.22, 47.29, 49.4]          0\n",
      "2  245008247  2013  [47.21, 47.22, 47.29, 49.4]          0\n",
      "3  245008247  2014  [47.21, 47.22, 47.29, 49.4]          0\n",
      "4  245008247  2015  [47.21, 47.22, 47.29, 49.4]          0\n"
     ]
    }
   ],
   "source": [
    "balanced_df['Treated_d'] = balanced_df['okveds'].apply(\n",
    "    lambda codes: int(bool(set(codes).intersection(embargoed_sectors)))\n",
    ")\n",
    "# Reset index\n",
    "balanced_df = balanced_df.reset_index(drop=True)\n",
    "\n",
    "# Display a few rows to verify the results\n",
    "print(balanced_df[['INN', 'Year', 'okveds', 'Treated_d']].head())"
   ]
  },
  {
   "cell_type": "code",
   "execution_count": 31,
   "id": "c1798566-2331-4a79-a8ab-b51e5f3e5ae6",
   "metadata": {
    "colab": {
     "base_uri": "https://localhost:8080/"
    },
    "executionInfo": {
     "elapsed": 5,
     "status": "ok",
     "timestamp": 1742047674963,
     "user": {
      "displayName": "Nikolai Popov",
      "userId": "10251654665266976815"
     },
     "user_tz": -180
    },
    "id": "c1798566-2331-4a79-a8ab-b51e5f3e5ae6",
    "outputId": "8c96e02c-46dd-49e8-e5a7-4606ebc20a72"
   },
   "outputs": [
    {
     "name": "stdout",
     "output_type": "stream",
     "text": [
      "Total number of observations: 63987\n",
      "Number of treated observations: 47950\n"
     ]
    }
   ],
   "source": [
    "print(f\"Total number of observations: {balanced_df.shape[0]}\")\n",
    "print(f\"Number of treated observations: {balanced_df['Treated_d'].sum()}\")"
   ]
  },
  {
   "cell_type": "code",
   "execution_count": 32,
   "id": "0a0b6ab5-567b-4e08-9760-19cd062a90a1",
   "metadata": {
    "colab": {
     "base_uri": "https://localhost:8080/",
     "height": 475
    },
    "executionInfo": {
     "elapsed": 34,
     "status": "ok",
     "timestamp": 1742047675000,
     "user": {
      "displayName": "Nikolai Popov",
      "userId": "10251654665266976815"
     },
     "user_tz": -180
    },
    "id": "0a0b6ab5-567b-4e08-9760-19cd062a90a1",
    "outputId": "c938e51d-a2be-44db-dfdb-3d726ebd0f81"
   },
   "outputs": [
    {
     "data": {
      "application/vnd.google.colaboratory.intrinsic+json": {
       "summary": "{\n  \"name\": \"balanced_df\",\n  \"rows\": 3,\n  \"fields\": [\n    {\n      \"column\": \"INN\",\n      \"properties\": {\n        \"dtype\": \"Int64\",\n        \"num_unique_values\": 3,\n        \"samples\": [\n          7128002967,\n          2221003500,\n          6130004470\n        ],\n        \"semantic_type\": \"\",\n        \"description\": \"\"\n      }\n    },\n    {\n      \"column\": \"Year\",\n      \"properties\": {\n        \"dtype\": \"number\",\n        \"std\": 1,\n        \"min\": 2011,\n        \"max\": 2013,\n        \"num_unique_values\": 2,\n        \"samples\": [\n          2011,\n          2013\n        ],\n        \"semantic_type\": \"\",\n        \"description\": \"\"\n      }\n    },\n    {\n      \"column\": \"okveds\",\n      \"properties\": {\n        \"dtype\": \"object\",\n        \"semantic_type\": \"\",\n        \"description\": \"\"\n      }\n    },\n    {\n      \"column\": \"coord\",\n      \"properties\": {\n        \"dtype\": \"string\",\n        \"num_unique_values\": 3,\n        \"samples\": [\n          \"53.97747, 37.92992\",\n          \"53.367063, 83.749227\"\n        ],\n        \"semantic_type\": \"\",\n        \"description\": \"\"\n      }\n    },\n    {\n      \"column\": \"Capital\",\n      \"properties\": {\n        \"dtype\": \"number\",\n        \"std\": 183511364.31930676,\n        \"min\": 29020000.0,\n        \"max\": 389479000.0,\n        \"num_unique_values\": 3,\n        \"samples\": [\n          269093000.0,\n          389479000.0\n        ],\n        \"semantic_type\": \"\",\n        \"description\": \"\"\n      }\n    },\n    {\n      \"column\": \"Output\",\n      \"properties\": {\n        \"dtype\": \"number\",\n        \"std\": 442932848.53613347,\n        \"min\": 12337000.0,\n        \"max\": 866294000.0,\n        \"num_unique_values\": 3,\n        \"samples\": [\n          235265000.0,\n          866294000.0\n        ],\n        \"semantic_type\": \"\",\n        \"description\": \"\"\n      }\n    },\n    {\n      \"column\": \"Post_d\",\n      \"properties\": {\n        \"dtype\": \"number\",\n        \"std\": 0,\n        \"min\": 0,\n        \"max\": 0,\n        \"num_unique_values\": 1,\n        \"samples\": [\n          0\n        ],\n        \"semantic_type\": \"\",\n        \"description\": \"\"\n      }\n    },\n    {\n      \"column\": \"Treated_d\",\n      \"properties\": {\n        \"dtype\": \"number\",\n        \"std\": 0,\n        \"min\": 1,\n        \"max\": 1,\n        \"num_unique_values\": 1,\n        \"samples\": [\n          1\n        ],\n        \"semantic_type\": \"\",\n        \"description\": \"\"\n      }\n    }\n  ]\n}",
       "type": "dataframe"
      },
      "text/html": [
       "\n",
       "  <div id=\"df-12728e68-71b4-4b30-a742-7fc29eb68639\" class=\"colab-df-container\">\n",
       "    <div>\n",
       "<style scoped>\n",
       "    .dataframe tbody tr th:only-of-type {\n",
       "        vertical-align: middle;\n",
       "    }\n",
       "\n",
       "    .dataframe tbody tr th {\n",
       "        vertical-align: top;\n",
       "    }\n",
       "\n",
       "    .dataframe thead th {\n",
       "        text-align: right;\n",
       "    }\n",
       "</style>\n",
       "<table border=\"1\" class=\"dataframe\">\n",
       "  <thead>\n",
       "    <tr style=\"text-align: right;\">\n",
       "      <th></th>\n",
       "      <th>INN</th>\n",
       "      <th>Year</th>\n",
       "      <th>okveds</th>\n",
       "      <th>coord</th>\n",
       "      <th>Capital</th>\n",
       "      <th>Output</th>\n",
       "      <th>Post_d</th>\n",
       "      <th>Treated_d</th>\n",
       "    </tr>\n",
       "  </thead>\n",
       "  <tbody>\n",
       "    <tr>\n",
       "      <th>18412</th>\n",
       "      <td>7128002967</td>\n",
       "      <td>2013</td>\n",
       "      <td>[01.11, 01.41, 01.42, 10.51, 10.51, 10.71, 49....</td>\n",
       "      <td>53.97747, 37.92992</td>\n",
       "      <td>269093000.0</td>\n",
       "      <td>235265000.0</td>\n",
       "      <td>0</td>\n",
       "      <td>1</td>\n",
       "    </tr>\n",
       "    <tr>\n",
       "      <th>11697</th>\n",
       "      <td>2221003500</td>\n",
       "      <td>2011</td>\n",
       "      <td>[01.41, 01.45, 01.49, 10.13, 10.2, 10.20, 10.5...</td>\n",
       "      <td>53.367063, 83.749227</td>\n",
       "      <td>389479000.0</td>\n",
       "      <td>866294000.0</td>\n",
       "      <td>0</td>\n",
       "      <td>1</td>\n",
       "    </tr>\n",
       "    <tr>\n",
       "      <th>24976</th>\n",
       "      <td>6130004470</td>\n",
       "      <td>2011</td>\n",
       "      <td>[01.11, 01.11, 01.13, 01.19, 01.19, 01.30, 01....</td>\n",
       "      <td>47.60338, 39.710916</td>\n",
       "      <td>29020000.0</td>\n",
       "      <td>12337000.0</td>\n",
       "      <td>0</td>\n",
       "      <td>1</td>\n",
       "    </tr>\n",
       "  </tbody>\n",
       "</table>\n",
       "</div>\n",
       "    <div class=\"colab-df-buttons\">\n",
       "\n",
       "  <div class=\"colab-df-container\">\n",
       "    <button class=\"colab-df-convert\" onclick=\"convertToInteractive('df-12728e68-71b4-4b30-a742-7fc29eb68639')\"\n",
       "            title=\"Convert this dataframe to an interactive table.\"\n",
       "            style=\"display:none;\">\n",
       "\n",
       "  <svg xmlns=\"http://www.w3.org/2000/svg\" height=\"24px\" viewBox=\"0 -960 960 960\">\n",
       "    <path d=\"M120-120v-720h720v720H120Zm60-500h600v-160H180v160Zm220 220h160v-160H400v160Zm0 220h160v-160H400v160ZM180-400h160v-160H180v160Zm440 0h160v-160H620v160ZM180-180h160v-160H180v160Zm440 0h160v-160H620v160Z\"/>\n",
       "  </svg>\n",
       "    </button>\n",
       "\n",
       "  <style>\n",
       "    .colab-df-container {\n",
       "      display:flex;\n",
       "      gap: 12px;\n",
       "    }\n",
       "\n",
       "    .colab-df-convert {\n",
       "      background-color: #E8F0FE;\n",
       "      border: none;\n",
       "      border-radius: 50%;\n",
       "      cursor: pointer;\n",
       "      display: none;\n",
       "      fill: #1967D2;\n",
       "      height: 32px;\n",
       "      padding: 0 0 0 0;\n",
       "      width: 32px;\n",
       "    }\n",
       "\n",
       "    .colab-df-convert:hover {\n",
       "      background-color: #E2EBFA;\n",
       "      box-shadow: 0px 1px 2px rgba(60, 64, 67, 0.3), 0px 1px 3px 1px rgba(60, 64, 67, 0.15);\n",
       "      fill: #174EA6;\n",
       "    }\n",
       "\n",
       "    .colab-df-buttons div {\n",
       "      margin-bottom: 4px;\n",
       "    }\n",
       "\n",
       "    [theme=dark] .colab-df-convert {\n",
       "      background-color: #3B4455;\n",
       "      fill: #D2E3FC;\n",
       "    }\n",
       "\n",
       "    [theme=dark] .colab-df-convert:hover {\n",
       "      background-color: #434B5C;\n",
       "      box-shadow: 0px 1px 3px 1px rgba(0, 0, 0, 0.15);\n",
       "      filter: drop-shadow(0px 1px 2px rgba(0, 0, 0, 0.3));\n",
       "      fill: #FFFFFF;\n",
       "    }\n",
       "  </style>\n",
       "\n",
       "    <script>\n",
       "      const buttonEl =\n",
       "        document.querySelector('#df-12728e68-71b4-4b30-a742-7fc29eb68639 button.colab-df-convert');\n",
       "      buttonEl.style.display =\n",
       "        google.colab.kernel.accessAllowed ? 'block' : 'none';\n",
       "\n",
       "      async function convertToInteractive(key) {\n",
       "        const element = document.querySelector('#df-12728e68-71b4-4b30-a742-7fc29eb68639');\n",
       "        const dataTable =\n",
       "          await google.colab.kernel.invokeFunction('convertToInteractive',\n",
       "                                                    [key], {});\n",
       "        if (!dataTable) return;\n",
       "\n",
       "        const docLinkHtml = 'Like what you see? Visit the ' +\n",
       "          '<a target=\"_blank\" href=https://colab.research.google.com/notebooks/data_table.ipynb>data table notebook</a>'\n",
       "          + ' to learn more about interactive tables.';\n",
       "        element.innerHTML = '';\n",
       "        dataTable['output_type'] = 'display_data';\n",
       "        await google.colab.output.renderOutput(dataTable, element);\n",
       "        const docLink = document.createElement('div');\n",
       "        docLink.innerHTML = docLinkHtml;\n",
       "        element.appendChild(docLink);\n",
       "      }\n",
       "    </script>\n",
       "  </div>\n",
       "\n",
       "\n",
       "<div id=\"df-33e9464d-cd5e-4173-a5ff-b7c83a446e65\">\n",
       "  <button class=\"colab-df-quickchart\" onclick=\"quickchart('df-33e9464d-cd5e-4173-a5ff-b7c83a446e65')\"\n",
       "            title=\"Suggest charts\"\n",
       "            style=\"display:none;\">\n",
       "\n",
       "<svg xmlns=\"http://www.w3.org/2000/svg\" height=\"24px\"viewBox=\"0 0 24 24\"\n",
       "     width=\"24px\">\n",
       "    <g>\n",
       "        <path d=\"M19 3H5c-1.1 0-2 .9-2 2v14c0 1.1.9 2 2 2h14c1.1 0 2-.9 2-2V5c0-1.1-.9-2-2-2zM9 17H7v-7h2v7zm4 0h-2V7h2v10zm4 0h-2v-4h2v4z\"/>\n",
       "    </g>\n",
       "</svg>\n",
       "  </button>\n",
       "\n",
       "<style>\n",
       "  .colab-df-quickchart {\n",
       "      --bg-color: #E8F0FE;\n",
       "      --fill-color: #1967D2;\n",
       "      --hover-bg-color: #E2EBFA;\n",
       "      --hover-fill-color: #174EA6;\n",
       "      --disabled-fill-color: #AAA;\n",
       "      --disabled-bg-color: #DDD;\n",
       "  }\n",
       "\n",
       "  [theme=dark] .colab-df-quickchart {\n",
       "      --bg-color: #3B4455;\n",
       "      --fill-color: #D2E3FC;\n",
       "      --hover-bg-color: #434B5C;\n",
       "      --hover-fill-color: #FFFFFF;\n",
       "      --disabled-bg-color: #3B4455;\n",
       "      --disabled-fill-color: #666;\n",
       "  }\n",
       "\n",
       "  .colab-df-quickchart {\n",
       "    background-color: var(--bg-color);\n",
       "    border: none;\n",
       "    border-radius: 50%;\n",
       "    cursor: pointer;\n",
       "    display: none;\n",
       "    fill: var(--fill-color);\n",
       "    height: 32px;\n",
       "    padding: 0;\n",
       "    width: 32px;\n",
       "  }\n",
       "\n",
       "  .colab-df-quickchart:hover {\n",
       "    background-color: var(--hover-bg-color);\n",
       "    box-shadow: 0 1px 2px rgba(60, 64, 67, 0.3), 0 1px 3px 1px rgba(60, 64, 67, 0.15);\n",
       "    fill: var(--button-hover-fill-color);\n",
       "  }\n",
       "\n",
       "  .colab-df-quickchart-complete:disabled,\n",
       "  .colab-df-quickchart-complete:disabled:hover {\n",
       "    background-color: var(--disabled-bg-color);\n",
       "    fill: var(--disabled-fill-color);\n",
       "    box-shadow: none;\n",
       "  }\n",
       "\n",
       "  .colab-df-spinner {\n",
       "    border: 2px solid var(--fill-color);\n",
       "    border-color: transparent;\n",
       "    border-bottom-color: var(--fill-color);\n",
       "    animation:\n",
       "      spin 1s steps(1) infinite;\n",
       "  }\n",
       "\n",
       "  @keyframes spin {\n",
       "    0% {\n",
       "      border-color: transparent;\n",
       "      border-bottom-color: var(--fill-color);\n",
       "      border-left-color: var(--fill-color);\n",
       "    }\n",
       "    20% {\n",
       "      border-color: transparent;\n",
       "      border-left-color: var(--fill-color);\n",
       "      border-top-color: var(--fill-color);\n",
       "    }\n",
       "    30% {\n",
       "      border-color: transparent;\n",
       "      border-left-color: var(--fill-color);\n",
       "      border-top-color: var(--fill-color);\n",
       "      border-right-color: var(--fill-color);\n",
       "    }\n",
       "    40% {\n",
       "      border-color: transparent;\n",
       "      border-right-color: var(--fill-color);\n",
       "      border-top-color: var(--fill-color);\n",
       "    }\n",
       "    60% {\n",
       "      border-color: transparent;\n",
       "      border-right-color: var(--fill-color);\n",
       "    }\n",
       "    80% {\n",
       "      border-color: transparent;\n",
       "      border-right-color: var(--fill-color);\n",
       "      border-bottom-color: var(--fill-color);\n",
       "    }\n",
       "    90% {\n",
       "      border-color: transparent;\n",
       "      border-bottom-color: var(--fill-color);\n",
       "    }\n",
       "  }\n",
       "</style>\n",
       "\n",
       "  <script>\n",
       "    async function quickchart(key) {\n",
       "      const quickchartButtonEl =\n",
       "        document.querySelector('#' + key + ' button');\n",
       "      quickchartButtonEl.disabled = true;  // To prevent multiple clicks.\n",
       "      quickchartButtonEl.classList.add('colab-df-spinner');\n",
       "      try {\n",
       "        const charts = await google.colab.kernel.invokeFunction(\n",
       "            'suggestCharts', [key], {});\n",
       "      } catch (error) {\n",
       "        console.error('Error during call to suggestCharts:', error);\n",
       "      }\n",
       "      quickchartButtonEl.classList.remove('colab-df-spinner');\n",
       "      quickchartButtonEl.classList.add('colab-df-quickchart-complete');\n",
       "    }\n",
       "    (() => {\n",
       "      let quickchartButtonEl =\n",
       "        document.querySelector('#df-33e9464d-cd5e-4173-a5ff-b7c83a446e65 button');\n",
       "      quickchartButtonEl.style.display =\n",
       "        google.colab.kernel.accessAllowed ? 'block' : 'none';\n",
       "    })();\n",
       "  </script>\n",
       "</div>\n",
       "\n",
       "    </div>\n",
       "  </div>\n"
      ],
      "text/plain": [
       "              INN  Year                                             okveds  \\\n",
       "18412  7128002967  2013  [01.11, 01.41, 01.42, 10.51, 10.51, 10.71, 49....   \n",
       "11697  2221003500  2011  [01.41, 01.45, 01.49, 10.13, 10.2, 10.20, 10.5...   \n",
       "24976  6130004470  2011  [01.11, 01.11, 01.13, 01.19, 01.19, 01.30, 01....   \n",
       "\n",
       "                      coord      Capital       Output  Post_d  Treated_d  \n",
       "18412    53.97747, 37.92992  269093000.0  235265000.0       0          1  \n",
       "11697  53.367063, 83.749227  389479000.0  866294000.0       0          1  \n",
       "24976   47.60338, 39.710916   29020000.0   12337000.0       0          1  "
      ]
     },
     "execution_count": 32,
     "metadata": {},
     "output_type": "execute_result"
    }
   ],
   "source": [
    "balanced_df.sample(3)"
   ]
  },
  {
   "cell_type": "code",
   "execution_count": 33,
   "id": "9944b9a6-9d98-46d9-b233-9c008e6e9d51",
   "metadata": {
    "executionInfo": {
     "elapsed": 581,
     "status": "ok",
     "timestamp": 1742047675582,
     "user": {
      "displayName": "Nikolai Popov",
      "userId": "10251654665266976815"
     },
     "user_tz": -180
    },
    "id": "9944b9a6-9d98-46d9-b233-9c008e6e9d51"
   },
   "outputs": [],
   "source": [
    "balanced_df.to_csv('/content/drive/My Drive/Coding/balanced_dataset_file_collab.csv', index=False, encoding=\"utf-8-sig\")\n"
   ]
  },
  {
   "cell_type": "markdown",
   "id": "352b11c7-be31-44fe-9234-c0d63d4c0072",
   "metadata": {
    "id": "352b11c7-be31-44fe-9234-c0d63d4c0072"
   },
   "source": [
    "### The list of INN"
   ]
  },
  {
   "cell_type": "code",
   "execution_count": 34,
   "id": "7184fffe-e3a1-4b0e-949d-700f77e5ca42",
   "metadata": {
    "colab": {
     "base_uri": "https://localhost:8080/"
    },
    "executionInfo": {
     "elapsed": 6,
     "status": "ok",
     "timestamp": 1742047675590,
     "user": {
      "displayName": "Nikolai Popov",
      "userId": "10251654665266976815"
     },
     "user_tz": -180
    },
    "id": "7184fffe-e3a1-4b0e-949d-700f77e5ca42",
    "outputId": "ff103331-9eed-46d0-abdb-62e680060ea5"
   },
   "outputs": [
    {
     "name": "stdout",
     "output_type": "stream",
     "text": [
      "Number of unique firms: 9141\n"
     ]
    }
   ],
   "source": [
    "# Get unique firm IDs (INN)\n",
    "unique_firms = balanced_df[\"INN\"].unique()\n",
    "\n",
    "# Convert to a standard NumPy array (optional, but without it didn't work)\n",
    "unique_firms = unique_firms.astype(np.int64)  # Ensures consistent integer format\n",
    "\n",
    "# Print results\n",
    "print(f\"Number of unique firms: {len(unique_firms)}\")"
   ]
  },
  {
   "cell_type": "code",
   "execution_count": 35,
   "id": "63b6af68-8b79-4b2e-95c0-ceb43db8e85d",
   "metadata": {
    "executionInfo": {
     "elapsed": 1,
     "status": "ok",
     "timestamp": 1742047675592,
     "user": {
      "displayName": "Nikolai Popov",
      "userId": "10251654665266976815"
     },
     "user_tz": -180
    },
    "id": "63b6af68-8b79-4b2e-95c0-ceb43db8e85d"
   },
   "outputs": [],
   "source": [
    "INN_list_file = \"C:/Users/Popov/Documents/Research/Volchkova_thesis/Data/Cleaned_datasets/INN_list_data_test.csv\"\n",
    "\n",
    "# Convert unique firms list to a DataFrame\n",
    "unique_firms_df = pd.DataFrame(unique_firms, columns=[\"INN\"])\n",
    "\n",
    "unique_firms_df.to_csv('/content/drive/My Drive/Coding/unique_firms_df_collab.csv', index=False, encoding=\"utf-8-sig\")\n"
   ]
  }
 ],
 "metadata": {
  "colab": {
   "machine_shape": "hm",
   "provenance": []
  },
  "kernelspec": {
   "display_name": "Python 3 (ipykernel)",
   "language": "python",
   "name": "python3"
  },
  "language_info": {
   "codemirror_mode": {
    "name": "ipython",
    "version": 3
   },
   "file_extension": ".py",
   "mimetype": "text/x-python",
   "name": "python",
   "nbconvert_exporter": "python",
   "pygments_lexer": "ipython3",
   "version": "3.12.9"
  }
 },
 "nbformat": 4,
 "nbformat_minor": 5
}
