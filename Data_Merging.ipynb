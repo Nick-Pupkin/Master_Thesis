{
 "cells": [
  {
   "cell_type": "markdown",
   "id": "9c80ea96-9345-4287-b1b9-5ef9806488cc",
   "metadata": {},
   "source": [
    "# Data Merging\n",
    "Master thesis of Nikolai Popov, MAE-2025"
   ]
  },
  {
   "cell_type": "code",
   "execution_count": 1,
   "id": "fb9a4e98-dca4-4432-a285-62307186b2f4",
   "metadata": {},
   "outputs": [],
   "source": [
    "# Libraries import\n",
    "import pandas as pd # dataframes\n",
    "import glob # for reading several files one by one\n",
    "from tqdm import tqdm # for progress bar\n",
    "import gc # to delete a dataframe from the memory"
   ]
  },
  {
   "cell_type": "markdown",
   "id": "3c5338ca-2c49-475d-9634-4d63e70a97f3",
   "metadata": {},
   "source": [
    "Upload the initial datasets and merge them into one. Note- cannot export and than import such a merged file- requires too much RAM."
   ]
  },
  {
   "cell_type": "code",
   "execution_count": 2,
   "id": "2c88faec-6e67-4209-a284-89b71724035e",
   "metadata": {
    "scrolled": true
   },
   "outputs": [
    {
     "name": "stderr",
     "output_type": "stream",
     "text": [
      "Loading CSV files: 100%|██████████| 141/141 [00:32<00:00,  4.30file/s]\n"
     ]
    },
    {
     "name": "stdout",
     "output_type": "stream",
     "text": [
      "\n",
      " Successfully read 141 files out of 141 found.\n",
      "\n",
      " Merged dataset saved as: C:/Users/Popov/Documents/Research/Volchkova_thesis/Data/Raw/Merged_raw_data.csv\n"
     ]
    },
    {
     "data": {
      "text/plain": [
       "0"
      ]
     },
     "execution_count": 2,
     "metadata": {},
     "output_type": "execute_result"
    }
   ],
   "source": [
    "# Define the file pattern to match all relevant CSV files\n",
    "file_pattern = \"C:/Users/Popov/Documents/Research/Volchkova_thesis/Data/Raw/2025-02-06_Part_*.csv\"\n",
    "\n",
    "# Get all matching file names\n",
    "file_list = glob.glob(file_pattern)\n",
    "\n",
    "# Check if any files were found\n",
    "if not file_list:\n",
    "    print(\"No CSV files found. Check the file path and extension.\")\n",
    "else:\n",
    "    df_list = []\n",
    "\n",
    "    # Read and append each file with tqdm progress bar\n",
    "    for file in tqdm(file_list, desc=\"Loading CSV files\", unit=\"file\"):\n",
    "        try:\n",
    "            df = pd.read_csv(file, sep=\";\", on_bad_lines=\"skip\", low_memory=False)\n",
    "            df_list.append(df)\n",
    "        except Exception as e:\n",
    "            print(f\"Error reading {file}: {e}\")\n",
    "\n",
    "    # Print the number of files read successfully\n",
    "    print(f\"\\n Successfully read {len(df_list)} files out of {len(file_list)} found.\")\n",
    "\n",
    "    # Concatenate all DataFrames into one\n",
    "    if df_list:\n",
    "        raw_dataset = pd.concat(df_list, ignore_index=True)\n",
    "\n",
    "        # Save the merged dataset\n",
    "        output_file = \"C:/Users/Popov/Documents/Research/Volchkova_thesis/Data/Raw/Merged_raw_data.csv\"\n",
    "        raw_dataset.to_csv(output_file, index=False, encoding=\"utf-8-sig\")\n",
    "        print(f\"\\n Merged dataset saved as: {output_file}\")\n",
    "    else:\n",
    "        print(\" No valid dataframes could be read. Please check file contents.\")\n",
    "\n",
    "# Delete the DataFrame\n",
    "del raw_dataset  \n",
    "\n",
    "# Run garbage collection to free memory\n",
    "gc.collect()"
   ]
  }
 ],
 "metadata": {
  "kernelspec": {
   "display_name": "Python 3 (ipykernel)",
   "language": "python",
   "name": "python3"
  },
  "language_info": {
   "codemirror_mode": {
    "name": "ipython",
    "version": 3
   },
   "file_extension": ".py",
   "mimetype": "text/x-python",
   "name": "python",
   "nbconvert_exporter": "python",
   "pygments_lexer": "ipython3",
   "version": "3.12.9"
  }
 },
 "nbformat": 4,
 "nbformat_minor": 5
}
