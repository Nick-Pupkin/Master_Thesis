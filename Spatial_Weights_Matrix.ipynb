{
 "cells": [
  {
   "cell_type": "markdown",
   "id": "81582b83-09b3-4112-b0ab-8b9556dad9d6",
   "metadata": {},
   "source": [
    "# Spatial Weights Matrix Construction\n",
    "Master thesis of Nikolai Popov, MAE-2025"
   ]
  },
  {
   "cell_type": "code",
   "execution_count": 1,
   "id": "0e638b19-d796-4036-a094-c358fb94ef53",
   "metadata": {},
   "outputs": [],
   "source": [
    "# Libraries import\n",
    "import numpy as np # for matrices/vectors\n",
    "import warnings # to supress warninings\n",
    "warnings.simplefilter(action='ignore', category=Warning)\n",
    "from scipy.spatial import distance_matrix # for distance matrix creation\n",
    "import geopandas as gpd # to to read shape files\n",
    "from sklearn.neighbors import NearestNeighbors # for exception in spatial weights\n",
    "from scipy.sparse import identity, kron, csr_matrix, save_npz # for memory efficient sparse matrix"
   ]
  },
  {
   "cell_type": "markdown",
   "id": "02aeb222-2173-4442-918f-1e3730df4834",
   "metadata": {},
   "source": [
    "Load the shape file from QGIS with already proper projection for Russia in meters."
   ]
  },
  {
   "cell_type": "code",
   "execution_count": 2,
   "id": "072a6ea0-4aed-41d6-8c96-2e2a193253e0",
   "metadata": {},
   "outputs": [
    {
     "data": {
      "text/html": [
       "<div>\n",
       "<style scoped>\n",
       "    .dataframe tbody tr th:only-of-type {\n",
       "        vertical-align: middle;\n",
       "    }\n",
       "\n",
       "    .dataframe tbody tr th {\n",
       "        vertical-align: top;\n",
       "    }\n",
       "\n",
       "    .dataframe thead th {\n",
       "        text-align: right;\n",
       "    }\n",
       "</style>\n",
       "<table border=\"1\" class=\"dataframe\">\n",
       "  <thead>\n",
       "    <tr style=\"text-align: right;\">\n",
       "      <th></th>\n",
       "      <th>INN</th>\n",
       "      <th>Year</th>\n",
       "      <th>okveds</th>\n",
       "      <th>Capital</th>\n",
       "      <th>Labor</th>\n",
       "      <th>Output</th>\n",
       "      <th>Post_d</th>\n",
       "      <th>Treated_d</th>\n",
       "      <th>Latitude</th>\n",
       "      <th>Longitude</th>\n",
       "      <th>geometry</th>\n",
       "    </tr>\n",
       "  </thead>\n",
       "  <tbody>\n",
       "    <tr>\n",
       "      <th>0</th>\n",
       "      <td>2.435001e+09</td>\n",
       "      <td>2014</td>\n",
       "      <td>['01.11', '01.11', '01.41', '01.42', '01.61', ...</td>\n",
       "      <td>423047000.0</td>\n",
       "      <td>546</td>\n",
       "      <td>316176000.0</td>\n",
       "      <td>True</td>\n",
       "      <td>True</td>\n",
       "      <td>56.552422</td>\n",
       "      <td>93.047783</td>\n",
       "      <td>POINT (-714627.087 6626570.316)</td>\n",
       "    </tr>\n",
       "    <tr>\n",
       "      <th>1</th>\n",
       "      <td>2.427001e+09</td>\n",
       "      <td>2014</td>\n",
       "      <td>['01.11', '01.11', '01.30', '01.41', '01.42']</td>\n",
       "      <td>193875000.0</td>\n",
       "      <td>568</td>\n",
       "      <td>196375000.0</td>\n",
       "      <td>True</td>\n",
       "      <td>True</td>\n",
       "      <td>55.837950</td>\n",
       "      <td>90.999293</td>\n",
       "      <td>POINT (-849651.822 6570463.818)</td>\n",
       "    </tr>\n",
       "  </tbody>\n",
       "</table>\n",
       "</div>"
      ],
      "text/plain": [
       "            INN  Year                                             okveds  \\\n",
       "0  2.435001e+09  2014  ['01.11', '01.11', '01.41', '01.42', '01.61', ...   \n",
       "1  2.427001e+09  2014      ['01.11', '01.11', '01.30', '01.41', '01.42']   \n",
       "\n",
       "       Capital  Labor       Output  Post_d  Treated_d   Latitude  Longitude  \\\n",
       "0  423047000.0    546  316176000.0    True       True  56.552422  93.047783   \n",
       "1  193875000.0    568  196375000.0    True       True  55.837950  90.999293   \n",
       "\n",
       "                          geometry  \n",
       "0  POINT (-714627.087 6626570.316)  \n",
       "1  POINT (-849651.822 6570463.818)  "
      ]
     },
     "execution_count": 2,
     "metadata": {},
     "output_type": "execute_result"
    }
   ],
   "source": [
    "# Read the shapefile (will automatically detect .shp + associated .dbf, .shx, etc.)\n",
    "gdf = gpd.read_file(\"C:/Users/Popov/Documents/Research/Volchkova_thesis/Data/GEO/firms_points_meters_shape.shp\")\n",
    "gdf.head(2)"
   ]
  },
  {
   "cell_type": "code",
   "execution_count": 3,
   "id": "0bd47bfb-5ee3-4c5b-8504-2ffa205a9b7d",
   "metadata": {},
   "outputs": [
    {
     "name": "stdout",
     "output_type": "stream",
     "text": [
      "PROJCS[\"Asia_Lambert_Conformal_Conic\",GEOGCS[\"WGS 84\",DATUM[\"WGS_1984\",SPHEROID[\"WGS 84\",6378137,298.257223563,AUTHORITY[\"EPSG\",\"7030\"]],AUTHORITY[\"EPSG\",\"6326\"]],PRIMEM[\"Greenwich\",0,AUTHORITY[\"EPSG\",\"8901\"]],UNIT[\"degree\",0.0174532925199433,AUTHORITY[\"EPSG\",\"9122\"]],AUTHORITY[\"EPSG\",\"4326\"]],PROJECTION[\"Lambert_Conformal_Conic_2SP\"],PARAMETER[\"latitude_of_origin\",0],PARAMETER[\"central_meridian\",105],PARAMETER[\"standard_parallel_1\",30],PARAMETER[\"standard_parallel_2\",62],PARAMETER[\"false_easting\",0],PARAMETER[\"false_northing\",0],UNIT[\"metre\",1,AUTHORITY[\"EPSG\",\"9001\"]],AXIS[\"Easting\",EAST],AXIS[\"Northing\",NORTH],AUTHORITY[\"ESRI\",\"102012\"]]\n"
     ]
    }
   ],
   "source": [
    "# Check the current CRS - check the projection\n",
    "print(gdf.crs)  # Should show ESRI:102012 or its full WKT"
   ]
  },
  {
   "cell_type": "markdown",
   "id": "e04b33cd-483e-4b45-9621-567980acdcd3",
   "metadata": {},
   "source": [
    "\"ESRI\",\"102012\" - the proper projection.\n",
    "\n",
    "Now to matrix computation.\n",
    "\n",
    "## W_N"
   ]
  },
  {
   "cell_type": "code",
   "execution_count": 4,
   "id": "70d6ebca-4c10-4e46-951c-9e4049503349",
   "metadata": {},
   "outputs": [
    {
     "data": {
      "text/plain": [
       "array([[0, 1, 1, ..., 0, 0, 0],\n",
       "       [1, 0, 1, ..., 0, 0, 0],\n",
       "       [1, 1, 0, ..., 0, 0, 0],\n",
       "       ...,\n",
       "       [0, 0, 0, ..., 0, 1, 0],\n",
       "       [0, 0, 0, ..., 1, 0, 0],\n",
       "       [0, 0, 0, ..., 0, 0, 0]])"
      ]
     },
     "execution_count": 4,
     "metadata": {},
     "output_type": "execute_result"
    }
   ],
   "source": [
    "# Get point coordinates (via Point geometry)\n",
    "coords = np.array([[geom.x, geom.y] for geom in gdf.geometry])\n",
    "\n",
    "# Use Euclidean distance with threshold = 300 km = 300,000 meters\n",
    "from scipy.spatial import distance_matrix\n",
    "dist_matrix = distance_matrix(coords, coords)\n",
    "W = (dist_matrix < 300000).astype(int)\n",
    "np.fill_diagonal(W, 0)\n",
    "W"
   ]
  },
  {
   "cell_type": "code",
   "execution_count": 5,
   "id": "f0b2e7e3-6f91-4a5c-9107-70fe01984764",
   "metadata": {},
   "outputs": [
    {
     "name": "stdout",
     "output_type": "stream",
     "text": [
      "Number of all-zero rows: 6\n",
      "Total firms: 8492\n",
      "Percentage of isolated firms: 0.07%\n",
      "Average neighbors per location: 619.89\n"
     ]
    }
   ],
   "source": [
    "# Total number of firms\n",
    "total_firms = W.shape[0]\n",
    "\n",
    "# Number of firms with no neighbors\n",
    "zero_rows = np.sum(W.sum(axis=1) == 0)\n",
    "\n",
    "# Percentage\n",
    "percent_isolated = (zero_rows / total_firms) * 100\n",
    "\n",
    "print(f\"Number of all-zero rows: {zero_rows}\")\n",
    "print(f\"Total firms: {total_firms}\")\n",
    "print(f\"Percentage of isolated firms: {percent_isolated:.2f}%\")\n",
    "\n",
    "# Total number of nonzero weights\n",
    "nonzeros = W.sum()\n",
    "\n",
    "# Average number of neighbors per location\n",
    "avg_neighbors = nonzeros / W.shape[0]\n",
    "print(f\"Average neighbors per location: {avg_neighbors:.2f}\")"
   ]
  },
  {
   "cell_type": "markdown",
   "id": "a71b5237-310c-41c2-9cc7-a5d51296b726",
   "metadata": {},
   "source": [
    "Well, zero rows are prohibited - will be might be a problem for linear algebra operations."
   ]
  },
  {
   "cell_type": "code",
   "execution_count": 6,
   "id": "6ba06aa6-5cfd-41ce-851e-9a60248a82e7",
   "metadata": {},
   "outputs": [
    {
     "name": "stdout",
     "output_type": "stream",
     "text": [
      "340     8.703001e+09\n",
      "1336    8.701003e+09\n",
      "2712    1.420001e+09\n",
      "3512    8.704004e+09\n",
      "4044    8.802002e+09\n",
      "4313    1.416001e+09\n",
      "Name: INN, dtype: float64\n"
     ]
    }
   ],
   "source": [
    "# Step 1: Get a boolean mask of rows with no neighbors\n",
    "no_neighbors_mask = W.sum(axis=1) == 0\n",
    "\n",
    "# Step 2: Use it to filter the original GeoDataFrame\n",
    "inn_no_neighbors = gdf.loc[no_neighbors_mask, 'INN']\n",
    "\n",
    "# Step 3: Display\n",
    "print(inn_no_neighbors)"
   ]
  },
  {
   "cell_type": "markdown",
   "id": "c418fee8-e947-4aee-b1f9-114eb7827af4",
   "metadata": {},
   "source": [
    "This is a list of INNs of isolated firms. There is only a very small percentage of them, thus, as an exception, let's use K-nearest neighbors (KNN) to assign neighbors to these firms. As these firms are isolated, let's go with 10 nearest neighbors."
   ]
  },
  {
   "cell_type": "code",
   "execution_count": 7,
   "id": "7af55ef2-1d0d-4cda-b4f3-f8ea00b52a1e",
   "metadata": {},
   "outputs": [],
   "source": [
    "# Step 1: Identify isolated firm indices\n",
    "isolated_indices = gdf[gdf['INN'].isin(inn_no_neighbors)].index.to_numpy()\n",
    "\n",
    "# Step 2: Fit KNN on all coordinates\n",
    "from sklearn.neighbors import NearestNeighbors\n",
    "\n",
    "k = 10\n",
    "nbrs = NearestNeighbors(n_neighbors=k+1, algorithm='ball_tree').fit(coords)\n",
    "distances, indices = nbrs.kneighbors(coords)\n",
    "\n",
    "# Step 3: Add KNN weights only for isolated firms\n",
    "\n",
    "# For each isolated firm, assign 10 nearest neighbors using KNN.\n",
    "# To maintain symmetry in the spatial weights matrix, also add reciprocal links:\n",
    "# if firm i considers firm j a neighbor, then firm j also considers firm i a neighbor.\n",
    "\n",
    "for i in isolated_indices:\n",
    "    for j in indices[i][1:]:  # skip self\n",
    "        W[i, j] = 1          # firm i (isolated) considers firm j (any firm) a neighbor\n",
    "        W[j, i] = 1          # firm j also considers firm i a neighbor"
   ]
  },
  {
   "cell_type": "code",
   "execution_count": 8,
   "id": "3255b93c-fb7a-4536-885a-ecd6a869cd67",
   "metadata": {},
   "outputs": [
    {
     "name": "stdout",
     "output_type": "stream",
     "text": [
      "Matrix is symmetric: True\n"
     ]
    }
   ],
   "source": [
    "# Checking the symmetry\n",
    "is_symmetric = np.array_equal(W, W.T)\n",
    "print(f\"Matrix is symmetric: {is_symmetric}\")"
   ]
  },
  {
   "cell_type": "code",
   "execution_count": 9,
   "id": "ec61f61c-b052-4c6a-ab01-38b978cd1ee4",
   "metadata": {},
   "outputs": [],
   "source": [
    "# Convert to CSR format (for space efficiency)\n",
    "W_N_sparse = csr_matrix(W)\n",
    "\n",
    "# Save to disk\n",
    "save_npz(\"C:/Users/Popov/Documents/Research/Volchkova_thesis/Data/Cleaned_datasets/W_N_sparse.npz\", W_N_sparse)"
   ]
  },
  {
   "cell_type": "markdown",
   "id": "8458f69e-2490-4d1d-9ac5-e1a2272df6e0",
   "metadata": {},
   "source": [
    "## W_NT"
   ]
  },
  {
   "cell_type": "code",
   "execution_count": 11,
   "id": "4c599e6c-3cca-4a8c-b10d-3190fd1b4c61",
   "metadata": {},
   "outputs": [
    {
     "name": "stdout",
     "output_type": "stream",
     "text": [
      "Shape: (50952, 50952)\n",
      "Non-zero entries: 31585344\n"
     ]
    }
   ],
   "source": [
    "# Convert W to sparse format\n",
    "W_sparse = csr_matrix(W)\n",
    "\n",
    "# Construct Kronecker product: W_NT = I_T ⊗ W\n",
    "T = 6\n",
    "W_NT_sparse = kron(identity(T, format='csr'), W_sparse, format='csr')\n",
    "\n",
    "# Save to disk\n",
    "save_npz(\"C:/Users/Popov/Documents/Research/Volchkova_thesis/Data/Cleaned_datasets/W_NT_sparse.npz\", W_NT_sparse)\n",
    "\n",
    "# Report shape and sparsity\n",
    "print(f\"Shape: {W_NT_sparse.shape}\")\n",
    "print(f\"Non-zero entries: {W_NT_sparse.nnz}\")"
   ]
  }
 ],
 "metadata": {
  "kernelspec": {
   "display_name": "Python 3 (ipykernel)",
   "language": "python",
   "name": "python3"
  },
  "language_info": {
   "codemirror_mode": {
    "name": "ipython",
    "version": 3
   },
   "file_extension": ".py",
   "mimetype": "text/x-python",
   "name": "python",
   "nbconvert_exporter": "python",
   "pygments_lexer": "ipython3",
   "version": "3.12.9"
  }
 },
 "nbformat": 4,
 "nbformat_minor": 5
}
