{
 "cells": [
  {
   "cell_type": "markdown",
   "metadata": {
    "id": "Q_upCOEI3Upu"
   },
   "source": [
    "# Машинное обучение-2: Глубокое обучение, РЭШ\n",
    "\n",
    "## Домашнее задание 1. Введение в PyTorch. Полносвязные нейронные сети.\n",
    "\n",
    "### Общая информация\n",
    "\n",
    "Дата выдачи: 15.03.2025\n",
    "\n",
    "Жесткий дедлайн: 23:59MSK 22.03.2025\n",
    "\n",
    "### Оценивание и штрафы\n",
    "Максимально допустимая оценка за работу — 10 баллов. Сдавать задание после жёсткого дедлайна сдачи нельзя.\n",
    "\n",
    "Задание выполняется самостоятельно. «Похожие» решения считаются плагиатом и все задействованные студенты (в том числе те, у кого списали) не могут получить за него больше 0 баллов. Если вы нашли решение какого-то из заданий (или его часть) в открытом источнике, необходимо указать ссылку на этот источник в отдельном блоке в конце вашей работы (скорее всего вы будете не единственным, кто это нашел, поэтому чтобы исключить подозрение в плагиате, необходима ссылка на источник).\n",
    "\n",
    "Неэффективная реализация кода может негативно отразиться на оценке.\n",
    "Также оценка может быть снижена за плохо читаемый код и плохо оформленные графики. Все ответы должны сопровождаться кодом или комментариями о том, как они были получены.\n",
    "\n",
    "За домашнее задание выставляется 0, если не сделано нулевое или третье задание.\n",
    "### О задании\n",
    "\n",
    "В этом задании вам предстоит предсказывать год выпуска песни (**задача регрессии**) по некоторым звуковым признакам: [данные](https://archive.ics.uci.edu/ml/datasets/yearpredictionmsd). В ячейках ниже находится код для загрузки данных. Обратите внимание, что обучающая и тестовая выборки располагаются в одном файле, поэтому НЕ меняйте ячейку, в которой производится деление данных."
   ]
  },
  {
   "cell_type": "code",
   "execution_count": 1,
   "metadata": {
    "id": "RI_eoe063VaP"
   },
   "outputs": [],
   "source": [
    "import torch\n",
    "from torch import nn\n",
    "import torch.nn.functional as F\n",
    "import pandas as pd\n",
    "import numpy as np\n",
    "import random\n",
    "device = \"cuda\" if torch.cuda.is_available() else \"cpu\"\n",
    "from tqdm.notebook import tqdm\n",
    "from IPython.display import clear_output\n",
    "import matplotlib.pyplot as plt\n",
    "from sklearn.metrics import mean_squared_error\n",
    "from sklearn.linear_model import Ridge\n",
    "from tqdm import trange\n",
    "from torch.utils.data import Dataset\n",
    "from torch.utils.data import DataLoader\n",
    "from torch.utils.data import TensorDataset\n",
    "from IPython.display import clear_output"
   ]
  },
  {
   "cell_type": "code",
   "execution_count": 2,
   "metadata": {
    "colab": {
     "base_uri": "https://localhost:8080/"
    },
    "id": "7NgSZeU-7vgj",
    "outputId": "7c61149c-751e-4047-da00-0d9b07fd442b"
   },
   "outputs": [
    {
     "name": "stdout",
     "output_type": "stream",
     "text": [
      "--2025-03-22 15:30:17--  https://archive.ics.uci.edu/ml/machine-learning-databases/00203/YearPredictionMSD.txt.zip\n",
      "Resolving archive.ics.uci.edu (archive.ics.uci.edu)... 128.195.10.252\n",
      "Connecting to archive.ics.uci.edu (archive.ics.uci.edu)|128.195.10.252|:443... connected.\n",
      "HTTP request sent, awaiting response... 200 OK\n",
      "Length: unspecified\n",
      "Saving to: ‘data.txt.zip’\n",
      "\n",
      "data.txt.zip            [ <=>                ] 201.24M  39.4MB/s    in 6.7s    \n",
      "\n",
      "2025-03-22 15:30:24 (30.2 MB/s) - ‘data.txt.zip’ saved [211011981]\n",
      "\n"
     ]
    }
   ],
   "source": [
    "!wget -O data.txt.zip https://archive.ics.uci.edu/ml/machine-learning-databases/00203/YearPredictionMSD.txt.zip"
   ]
  },
  {
   "cell_type": "code",
   "execution_count": 3,
   "metadata": {
    "colab": {
     "base_uri": "https://localhost:8080/",
     "height": 255
    },
    "id": "DSVJZzkJ7zZE",
    "outputId": "5c9963d4-b19a-46a5-87b9-b020718d3e60"
   },
   "outputs": [
    {
     "data": {
      "application/vnd.google.colaboratory.intrinsic+json": {
       "type": "dataframe",
       "variable_name": "df"
      },
      "text/html": [
       "\n",
       "  <div id=\"df-4f3b7a02-d07b-4f02-bd48-047f20248672\" class=\"colab-df-container\">\n",
       "    <div>\n",
       "<style scoped>\n",
       "    .dataframe tbody tr th:only-of-type {\n",
       "        vertical-align: middle;\n",
       "    }\n",
       "\n",
       "    .dataframe tbody tr th {\n",
       "        vertical-align: top;\n",
       "    }\n",
       "\n",
       "    .dataframe thead th {\n",
       "        text-align: right;\n",
       "    }\n",
       "</style>\n",
       "<table border=\"1\" class=\"dataframe\">\n",
       "  <thead>\n",
       "    <tr style=\"text-align: right;\">\n",
       "      <th></th>\n",
       "      <th>0</th>\n",
       "      <th>1</th>\n",
       "      <th>2</th>\n",
       "      <th>3</th>\n",
       "      <th>4</th>\n",
       "      <th>5</th>\n",
       "      <th>6</th>\n",
       "      <th>7</th>\n",
       "      <th>8</th>\n",
       "      <th>9</th>\n",
       "      <th>...</th>\n",
       "      <th>81</th>\n",
       "      <th>82</th>\n",
       "      <th>83</th>\n",
       "      <th>84</th>\n",
       "      <th>85</th>\n",
       "      <th>86</th>\n",
       "      <th>87</th>\n",
       "      <th>88</th>\n",
       "      <th>89</th>\n",
       "      <th>90</th>\n",
       "    </tr>\n",
       "  </thead>\n",
       "  <tbody>\n",
       "    <tr>\n",
       "      <th>0</th>\n",
       "      <td>2001</td>\n",
       "      <td>49.94357</td>\n",
       "      <td>21.47114</td>\n",
       "      <td>73.07750</td>\n",
       "      <td>8.74861</td>\n",
       "      <td>-17.40628</td>\n",
       "      <td>-13.09905</td>\n",
       "      <td>-25.01202</td>\n",
       "      <td>-12.23257</td>\n",
       "      <td>7.83089</td>\n",
       "      <td>...</td>\n",
       "      <td>13.01620</td>\n",
       "      <td>-54.40548</td>\n",
       "      <td>58.99367</td>\n",
       "      <td>15.37344</td>\n",
       "      <td>1.11144</td>\n",
       "      <td>-23.08793</td>\n",
       "      <td>68.40795</td>\n",
       "      <td>-1.82223</td>\n",
       "      <td>-27.46348</td>\n",
       "      <td>2.26327</td>\n",
       "    </tr>\n",
       "    <tr>\n",
       "      <th>1</th>\n",
       "      <td>2001</td>\n",
       "      <td>48.73215</td>\n",
       "      <td>18.42930</td>\n",
       "      <td>70.32679</td>\n",
       "      <td>12.94636</td>\n",
       "      <td>-10.32437</td>\n",
       "      <td>-24.83777</td>\n",
       "      <td>8.76630</td>\n",
       "      <td>-0.92019</td>\n",
       "      <td>18.76548</td>\n",
       "      <td>...</td>\n",
       "      <td>5.66812</td>\n",
       "      <td>-19.68073</td>\n",
       "      <td>33.04964</td>\n",
       "      <td>42.87836</td>\n",
       "      <td>-9.90378</td>\n",
       "      <td>-32.22788</td>\n",
       "      <td>70.49388</td>\n",
       "      <td>12.04941</td>\n",
       "      <td>58.43453</td>\n",
       "      <td>26.92061</td>\n",
       "    </tr>\n",
       "    <tr>\n",
       "      <th>2</th>\n",
       "      <td>2001</td>\n",
       "      <td>50.95714</td>\n",
       "      <td>31.85602</td>\n",
       "      <td>55.81851</td>\n",
       "      <td>13.41693</td>\n",
       "      <td>-6.57898</td>\n",
       "      <td>-18.54940</td>\n",
       "      <td>-3.27872</td>\n",
       "      <td>-2.35035</td>\n",
       "      <td>16.07017</td>\n",
       "      <td>...</td>\n",
       "      <td>3.03800</td>\n",
       "      <td>26.05866</td>\n",
       "      <td>-50.92779</td>\n",
       "      <td>10.93792</td>\n",
       "      <td>-0.07568</td>\n",
       "      <td>43.20130</td>\n",
       "      <td>-115.00698</td>\n",
       "      <td>-0.05859</td>\n",
       "      <td>39.67068</td>\n",
       "      <td>-0.66345</td>\n",
       "    </tr>\n",
       "    <tr>\n",
       "      <th>3</th>\n",
       "      <td>2001</td>\n",
       "      <td>48.24750</td>\n",
       "      <td>-1.89837</td>\n",
       "      <td>36.29772</td>\n",
       "      <td>2.58776</td>\n",
       "      <td>0.97170</td>\n",
       "      <td>-26.21683</td>\n",
       "      <td>5.05097</td>\n",
       "      <td>-10.34124</td>\n",
       "      <td>3.55005</td>\n",
       "      <td>...</td>\n",
       "      <td>34.57337</td>\n",
       "      <td>-171.70734</td>\n",
       "      <td>-16.96705</td>\n",
       "      <td>-46.67617</td>\n",
       "      <td>-12.51516</td>\n",
       "      <td>82.58061</td>\n",
       "      <td>-72.08993</td>\n",
       "      <td>9.90558</td>\n",
       "      <td>199.62971</td>\n",
       "      <td>18.85382</td>\n",
       "    </tr>\n",
       "    <tr>\n",
       "      <th>4</th>\n",
       "      <td>2001</td>\n",
       "      <td>50.97020</td>\n",
       "      <td>42.20998</td>\n",
       "      <td>67.09964</td>\n",
       "      <td>8.46791</td>\n",
       "      <td>-15.85279</td>\n",
       "      <td>-16.81409</td>\n",
       "      <td>-12.48207</td>\n",
       "      <td>-9.37636</td>\n",
       "      <td>12.63699</td>\n",
       "      <td>...</td>\n",
       "      <td>9.92661</td>\n",
       "      <td>-55.95724</td>\n",
       "      <td>64.92712</td>\n",
       "      <td>-17.72522</td>\n",
       "      <td>-1.49237</td>\n",
       "      <td>-7.50035</td>\n",
       "      <td>51.76631</td>\n",
       "      <td>7.88713</td>\n",
       "      <td>55.66926</td>\n",
       "      <td>28.74903</td>\n",
       "    </tr>\n",
       "  </tbody>\n",
       "</table>\n",
       "<p>5 rows × 91 columns</p>\n",
       "</div>\n",
       "    <div class=\"colab-df-buttons\">\n",
       "\n",
       "  <div class=\"colab-df-container\">\n",
       "    <button class=\"colab-df-convert\" onclick=\"convertToInteractive('df-4f3b7a02-d07b-4f02-bd48-047f20248672')\"\n",
       "            title=\"Convert this dataframe to an interactive table.\"\n",
       "            style=\"display:none;\">\n",
       "\n",
       "  <svg xmlns=\"http://www.w3.org/2000/svg\" height=\"24px\" viewBox=\"0 -960 960 960\">\n",
       "    <path d=\"M120-120v-720h720v720H120Zm60-500h600v-160H180v160Zm220 220h160v-160H400v160Zm0 220h160v-160H400v160ZM180-400h160v-160H180v160Zm440 0h160v-160H620v160ZM180-180h160v-160H180v160Zm440 0h160v-160H620v160Z\"/>\n",
       "  </svg>\n",
       "    </button>\n",
       "\n",
       "  <style>\n",
       "    .colab-df-container {\n",
       "      display:flex;\n",
       "      gap: 12px;\n",
       "    }\n",
       "\n",
       "    .colab-df-convert {\n",
       "      background-color: #E8F0FE;\n",
       "      border: none;\n",
       "      border-radius: 50%;\n",
       "      cursor: pointer;\n",
       "      display: none;\n",
       "      fill: #1967D2;\n",
       "      height: 32px;\n",
       "      padding: 0 0 0 0;\n",
       "      width: 32px;\n",
       "    }\n",
       "\n",
       "    .colab-df-convert:hover {\n",
       "      background-color: #E2EBFA;\n",
       "      box-shadow: 0px 1px 2px rgba(60, 64, 67, 0.3), 0px 1px 3px 1px rgba(60, 64, 67, 0.15);\n",
       "      fill: #174EA6;\n",
       "    }\n",
       "\n",
       "    .colab-df-buttons div {\n",
       "      margin-bottom: 4px;\n",
       "    }\n",
       "\n",
       "    [theme=dark] .colab-df-convert {\n",
       "      background-color: #3B4455;\n",
       "      fill: #D2E3FC;\n",
       "    }\n",
       "\n",
       "    [theme=dark] .colab-df-convert:hover {\n",
       "      background-color: #434B5C;\n",
       "      box-shadow: 0px 1px 3px 1px rgba(0, 0, 0, 0.15);\n",
       "      filter: drop-shadow(0px 1px 2px rgba(0, 0, 0, 0.3));\n",
       "      fill: #FFFFFF;\n",
       "    }\n",
       "  </style>\n",
       "\n",
       "    <script>\n",
       "      const buttonEl =\n",
       "        document.querySelector('#df-4f3b7a02-d07b-4f02-bd48-047f20248672 button.colab-df-convert');\n",
       "      buttonEl.style.display =\n",
       "        google.colab.kernel.accessAllowed ? 'block' : 'none';\n",
       "\n",
       "      async function convertToInteractive(key) {\n",
       "        const element = document.querySelector('#df-4f3b7a02-d07b-4f02-bd48-047f20248672');\n",
       "        const dataTable =\n",
       "          await google.colab.kernel.invokeFunction('convertToInteractive',\n",
       "                                                    [key], {});\n",
       "        if (!dataTable) return;\n",
       "\n",
       "        const docLinkHtml = 'Like what you see? Visit the ' +\n",
       "          '<a target=\"_blank\" href=https://colab.research.google.com/notebooks/data_table.ipynb>data table notebook</a>'\n",
       "          + ' to learn more about interactive tables.';\n",
       "        element.innerHTML = '';\n",
       "        dataTable['output_type'] = 'display_data';\n",
       "        await google.colab.output.renderOutput(dataTable, element);\n",
       "        const docLink = document.createElement('div');\n",
       "        docLink.innerHTML = docLinkHtml;\n",
       "        element.appendChild(docLink);\n",
       "      }\n",
       "    </script>\n",
       "  </div>\n",
       "\n",
       "\n",
       "<div id=\"df-e727c3ec-1184-4c28-ae53-406358ad7ab8\">\n",
       "  <button class=\"colab-df-quickchart\" onclick=\"quickchart('df-e727c3ec-1184-4c28-ae53-406358ad7ab8')\"\n",
       "            title=\"Suggest charts\"\n",
       "            style=\"display:none;\">\n",
       "\n",
       "<svg xmlns=\"http://www.w3.org/2000/svg\" height=\"24px\"viewBox=\"0 0 24 24\"\n",
       "     width=\"24px\">\n",
       "    <g>\n",
       "        <path d=\"M19 3H5c-1.1 0-2 .9-2 2v14c0 1.1.9 2 2 2h14c1.1 0 2-.9 2-2V5c0-1.1-.9-2-2-2zM9 17H7v-7h2v7zm4 0h-2V7h2v10zm4 0h-2v-4h2v4z\"/>\n",
       "    </g>\n",
       "</svg>\n",
       "  </button>\n",
       "\n",
       "<style>\n",
       "  .colab-df-quickchart {\n",
       "      --bg-color: #E8F0FE;\n",
       "      --fill-color: #1967D2;\n",
       "      --hover-bg-color: #E2EBFA;\n",
       "      --hover-fill-color: #174EA6;\n",
       "      --disabled-fill-color: #AAA;\n",
       "      --disabled-bg-color: #DDD;\n",
       "  }\n",
       "\n",
       "  [theme=dark] .colab-df-quickchart {\n",
       "      --bg-color: #3B4455;\n",
       "      --fill-color: #D2E3FC;\n",
       "      --hover-bg-color: #434B5C;\n",
       "      --hover-fill-color: #FFFFFF;\n",
       "      --disabled-bg-color: #3B4455;\n",
       "      --disabled-fill-color: #666;\n",
       "  }\n",
       "\n",
       "  .colab-df-quickchart {\n",
       "    background-color: var(--bg-color);\n",
       "    border: none;\n",
       "    border-radius: 50%;\n",
       "    cursor: pointer;\n",
       "    display: none;\n",
       "    fill: var(--fill-color);\n",
       "    height: 32px;\n",
       "    padding: 0;\n",
       "    width: 32px;\n",
       "  }\n",
       "\n",
       "  .colab-df-quickchart:hover {\n",
       "    background-color: var(--hover-bg-color);\n",
       "    box-shadow: 0 1px 2px rgba(60, 64, 67, 0.3), 0 1px 3px 1px rgba(60, 64, 67, 0.15);\n",
       "    fill: var(--button-hover-fill-color);\n",
       "  }\n",
       "\n",
       "  .colab-df-quickchart-complete:disabled,\n",
       "  .colab-df-quickchart-complete:disabled:hover {\n",
       "    background-color: var(--disabled-bg-color);\n",
       "    fill: var(--disabled-fill-color);\n",
       "    box-shadow: none;\n",
       "  }\n",
       "\n",
       "  .colab-df-spinner {\n",
       "    border: 2px solid var(--fill-color);\n",
       "    border-color: transparent;\n",
       "    border-bottom-color: var(--fill-color);\n",
       "    animation:\n",
       "      spin 1s steps(1) infinite;\n",
       "  }\n",
       "\n",
       "  @keyframes spin {\n",
       "    0% {\n",
       "      border-color: transparent;\n",
       "      border-bottom-color: var(--fill-color);\n",
       "      border-left-color: var(--fill-color);\n",
       "    }\n",
       "    20% {\n",
       "      border-color: transparent;\n",
       "      border-left-color: var(--fill-color);\n",
       "      border-top-color: var(--fill-color);\n",
       "    }\n",
       "    30% {\n",
       "      border-color: transparent;\n",
       "      border-left-color: var(--fill-color);\n",
       "      border-top-color: var(--fill-color);\n",
       "      border-right-color: var(--fill-color);\n",
       "    }\n",
       "    40% {\n",
       "      border-color: transparent;\n",
       "      border-right-color: var(--fill-color);\n",
       "      border-top-color: var(--fill-color);\n",
       "    }\n",
       "    60% {\n",
       "      border-color: transparent;\n",
       "      border-right-color: var(--fill-color);\n",
       "    }\n",
       "    80% {\n",
       "      border-color: transparent;\n",
       "      border-right-color: var(--fill-color);\n",
       "      border-bottom-color: var(--fill-color);\n",
       "    }\n",
       "    90% {\n",
       "      border-color: transparent;\n",
       "      border-bottom-color: var(--fill-color);\n",
       "    }\n",
       "  }\n",
       "</style>\n",
       "\n",
       "  <script>\n",
       "    async function quickchart(key) {\n",
       "      const quickchartButtonEl =\n",
       "        document.querySelector('#' + key + ' button');\n",
       "      quickchartButtonEl.disabled = true;  // To prevent multiple clicks.\n",
       "      quickchartButtonEl.classList.add('colab-df-spinner');\n",
       "      try {\n",
       "        const charts = await google.colab.kernel.invokeFunction(\n",
       "            'suggestCharts', [key], {});\n",
       "      } catch (error) {\n",
       "        console.error('Error during call to suggestCharts:', error);\n",
       "      }\n",
       "      quickchartButtonEl.classList.remove('colab-df-spinner');\n",
       "      quickchartButtonEl.classList.add('colab-df-quickchart-complete');\n",
       "    }\n",
       "    (() => {\n",
       "      let quickchartButtonEl =\n",
       "        document.querySelector('#df-e727c3ec-1184-4c28-ae53-406358ad7ab8 button');\n",
       "      quickchartButtonEl.style.display =\n",
       "        google.colab.kernel.accessAllowed ? 'block' : 'none';\n",
       "    })();\n",
       "  </script>\n",
       "</div>\n",
       "\n",
       "    </div>\n",
       "  </div>\n"
      ],
      "text/plain": [
       "     0         1         2         3         4         5         6         7   \\\n",
       "0  2001  49.94357  21.47114  73.07750   8.74861 -17.40628 -13.09905 -25.01202   \n",
       "1  2001  48.73215  18.42930  70.32679  12.94636 -10.32437 -24.83777   8.76630   \n",
       "2  2001  50.95714  31.85602  55.81851  13.41693  -6.57898 -18.54940  -3.27872   \n",
       "3  2001  48.24750  -1.89837  36.29772   2.58776   0.97170 -26.21683   5.05097   \n",
       "4  2001  50.97020  42.20998  67.09964   8.46791 -15.85279 -16.81409 -12.48207   \n",
       "\n",
       "         8         9   ...        81         82        83        84        85  \\\n",
       "0 -12.23257   7.83089  ...  13.01620  -54.40548  58.99367  15.37344   1.11144   \n",
       "1  -0.92019  18.76548  ...   5.66812  -19.68073  33.04964  42.87836  -9.90378   \n",
       "2  -2.35035  16.07017  ...   3.03800   26.05866 -50.92779  10.93792  -0.07568   \n",
       "3 -10.34124   3.55005  ...  34.57337 -171.70734 -16.96705 -46.67617 -12.51516   \n",
       "4  -9.37636  12.63699  ...   9.92661  -55.95724  64.92712 -17.72522  -1.49237   \n",
       "\n",
       "         86         87        88         89        90  \n",
       "0 -23.08793   68.40795  -1.82223  -27.46348   2.26327  \n",
       "1 -32.22788   70.49388  12.04941   58.43453  26.92061  \n",
       "2  43.20130 -115.00698  -0.05859   39.67068  -0.66345  \n",
       "3  82.58061  -72.08993   9.90558  199.62971  18.85382  \n",
       "4  -7.50035   51.76631   7.88713   55.66926  28.74903  \n",
       "\n",
       "[5 rows x 91 columns]"
      ]
     },
     "execution_count": 3,
     "metadata": {},
     "output_type": "execute_result"
    }
   ],
   "source": [
    "df = pd.read_csv('data.txt.zip', header=None)\n",
    "df.head()"
   ]
  },
  {
   "cell_type": "markdown",
   "metadata": {
    "id": "N9a-eJUG35C3"
   },
   "source": [
    "Мы вывели кусок данных, чтобы понять, насколько они пригодны для работы без изменений. Здесь ясно, что сомнительно дальше с такими данными работать, потому что как минимум есть отрицательные значения, которые не отмасштабированы, кроме того еще сразу бросается в глаза совсем разная размерность, где-то видим реально большие числа, а где-то 0.075. Ясно, что будем скейлить."
   ]
  },
  {
   "cell_type": "code",
   "execution_count": 4,
   "metadata": {
    "id": "n4wnRJT1778j"
   },
   "outputs": [],
   "source": [
    "X = df.iloc[:, 1:].values\n",
    "y = df.iloc[:, 0].values\n",
    "\n",
    "train_size = 463715\n",
    "X_train = X[:train_size, :]\n",
    "y_train = y[:train_size]\n",
    "X_test = X[train_size:, :]\n",
    "y_test = y[train_size:]"
   ]
  },
  {
   "cell_type": "markdown",
   "metadata": {
    "id": "_386JE_o5gOd"
   },
   "source": [
    "## Задание 0. (0 баллов, но при невыполнении максимум за все задание &mdash; 0 баллов)\n",
    "\n",
    "Мы будем использовать RMSE как метрику качества. Для самого первого бейзлайна обучите `Ridge` регрессию из `sklearn`. Кроме того, посчитайте качество при наилучшем константном прогнозе.\n",
    "\n",
    "Для выполнения данного задания (и всех последующих) предобработайте данные.\n",
    "\n",
    "1. Зафиксируйте random_seed везде где только возможно. Вам предоставлена функция для этого, однако вы можете дополнить ее своими дополнениями\n",
    "2. Обучите StandertScaler и предобработайте ваши данные. В следующих заданиях можете использовать другой scaler или вообще отказаться от него\n"
   ]
  },
  {
   "cell_type": "code",
   "execution_count": 5,
   "metadata": {
    "id": "1kV-kCVs8Aju"
   },
   "outputs": [],
   "source": [
    "from sklearn.preprocessing import StandardScaler\n",
    "\n",
    "scaler = StandardScaler()"
   ]
  },
  {
   "cell_type": "code",
   "execution_count": 6,
   "metadata": {
    "id": "lkfkXylb8U-O"
   },
   "outputs": [],
   "source": [
    "def set_random_seed(seed):\n",
    "    torch.backends.cudnn.deterministic = True\n",
    "    torch.manual_seed(seed)\n",
    "    torch.cuda.manual_seed(seed)\n",
    "    np.random.seed(seed)\n",
    "    random.seed(seed)\n",
    "    # Add smth here if you need..."
   ]
  },
  {
   "cell_type": "code",
   "execution_count": 7,
   "metadata": {
    "id": "GKVVatBw8cH7"
   },
   "outputs": [],
   "source": [
    "set_random_seed(42)"
   ]
  },
  {
   "cell_type": "code",
   "execution_count": 8,
   "metadata": {
    "colab": {
     "base_uri": "https://localhost:8080/"
    },
    "id": "uv7qthu935C4",
    "outputId": "3814c373-9905-4bd0-a643-5cdda7454dbf"
   },
   "outputs": [
    {
     "name": "stdout",
     "output_type": "stream",
     "text": [
      "RMSE Ridge: 9.5102\n"
     ]
    }
   ],
   "source": [
    "model = Ridge() # Define the model\n",
    "\n",
    "# Scale features (X)\n",
    "X_train_ss = scaler.fit_transform(X_train)\n",
    "X_test_ss = scaler.transform(X_test)\n",
    "\n",
    "# Fit the model\n",
    "model.fit(X_train_ss, y_train)\n",
    "y_pred_ridge = model.predict(X_test_ss) # for out-of-sample prediction\n",
    "\n",
    "# Display RMSE\n",
    "rmse_ridge = np.sqrt(mean_squared_error(y_test, y_pred_ridge))\n",
    "print(f\"RMSE Ridge: {rmse_ridge:.4f}\")\n"
   ]
  },
  {
   "cell_type": "markdown",
   "metadata": {
    "id": "HJKGuhFi35C4"
   },
   "source": [
    "Лучшая константа для RMSE это среднее, посчитаем значение метрики при нем"
   ]
  },
  {
   "cell_type": "code",
   "execution_count": 9,
   "metadata": {
    "colab": {
     "base_uri": "https://localhost:8080/"
    },
    "id": "kOcFuy1P35C4",
    "outputId": "7f4aa2ba-10fc-4ac4-ae2c-0e1ebfbe54ad"
   },
   "outputs": [
    {
     "name": "stdout",
     "output_type": "stream",
     "text": [
      "best_rmse_metric: 10.8525\n"
     ]
    }
   ],
   "source": [
    "best_rmse_metric = np.power(np.mean(np.power((y_test - np.mean(y_train)), 2)), 0.5)\n",
    "print(f'best_rmse_metric: {best_rmse_metric:.4f}')"
   ]
  },
  {
   "cell_type": "markdown",
   "metadata": {
    "id": "BDHAnIkS8vNY"
   },
   "source": [
    "## Задание 1. (максимум 10 баллов)\n",
    "\n",
    "Закрепите свои знания о том, как pytorch работает с обратным распространением ошибки, проделав следующие шаги:\n",
    "\n",
    "1. Создайте модель линейной регрессии, которая будет состоять только из одного Linear слоя.\n",
    "2. Напишите цикл обучения вашей линейной регрессии. В нем реализуйте подсчет функции потерь, сделайте шаг градиентного спуска. Запрещено использовать готовые оптимизаторы и loss-функции из библиотеки pytorch. Для подсчета градиента воспользуйтесь методом backward.\n",
    "3. Запустите обучение на 10 эпохах, после каждой проверяйте значение целевой метрики на тестовой выборке.\n",
    "4. Выведите на экран графики метрики и значения функции потерь на тестовой и обучающей выборке.\n",
    "\n",
    "В данном задании нет цели побить какой-то порог по метрике. Ваша задача - убедиться в том, что ваш рукописный цикл обучения работает. Для ускорения вычислений и обучения модели можете брать только срез данных, а не весь датасет."
   ]
  },
  {
   "cell_type": "code",
   "execution_count": 10,
   "metadata": {
    "colab": {
     "base_uri": "https://localhost:8080/"
    },
    "id": "LxnT6G1J-apf",
    "outputId": "9a822365-798d-43bf-aeb7-a9ed992108ce"
   },
   "outputs": [
    {
     "name": "stdout",
     "output_type": "stream",
     "text": [
      "Using device: cuda\n"
     ]
    }
   ],
   "source": [
    "# Set the device\n",
    "device = torch.device(\"cuda\" if torch.cuda.is_available() else \"cpu\")\n",
    "print(f\"Using device: {device}\")"
   ]
  },
  {
   "cell_type": "code",
   "execution_count": 11,
   "metadata": {
    "id": "Pb41wFDCobWE"
   },
   "outputs": [],
   "source": [
    "# Convert NumPy arrays to tensors and send to device\n",
    "X_train_ss = torch.tensor(X_train_ss, dtype=torch.float32).to(device)\n",
    "y_train_0 = torch.tensor(y_train, dtype=torch.float32).to(device)\n",
    "\n",
    "# Define training dataset\n",
    "dataset = TensorDataset(X_train_ss, y_train_0)\n",
    "\n",
    "# Define butch loader\n",
    "loader = DataLoader(dataset, batch_size=16, shuffle=True, drop_last=True)"
   ]
  },
  {
   "cell_type": "markdown",
   "metadata": {
    "id": "Unq8scOk-4zS"
   },
   "source": [
    "### task 1"
   ]
  },
  {
   "cell_type": "code",
   "execution_count": 12,
   "metadata": {
    "id": "Azb-9QB9-zSs"
   },
   "outputs": [],
   "source": [
    "# Simple one linear layer NN\n",
    "class LinearRegressionModel(nn.Module):\n",
    "    def __init__(self, input_dim, output_dim):\n",
    "        super(LinearRegressionModel, self).__init__()\n",
    "        self.linear = nn.Linear(input_dim, output_dim)\n",
    "\n",
    "    def forward(self, x):\n",
    "        return self.linear(x)\n",
    "\n",
    "# Define and move model to device\n",
    "linreg = nn.Linear(X_train_ss.shape[1], 1).to(device)"
   ]
  },
  {
   "cell_type": "markdown",
   "metadata": {
    "id": "Pdo7IltgAPYY"
   },
   "source": [
    "### task 2"
   ]
  },
  {
   "cell_type": "code",
   "execution_count": 13,
   "metadata": {
    "id": "q27aZNkQARWD"
   },
   "outputs": [],
   "source": [
    "# Epoch training function\n",
    "def train_one_epoch(model, dataloader, step_size):\n",
    "    model.train()\n",
    "    epoch_losses = []\n",
    "\n",
    "    for x_batch, y_batch in tqdm(dataloader, desc=\"Training\"):\n",
    "        # Move data to device\n",
    "        x_batch = x_batch.to(device)\n",
    "        y_batch = y_batch.to(device)\n",
    "\n",
    "        # Forward pass\n",
    "        predictions = model(x_batch)\n",
    "        rmse_loss = torch.sqrt(torch.mean((predictions - y_batch) ** 2))\n",
    "\n",
    "        # Backward pass\n",
    "        rmse_loss.backward()\n",
    "\n",
    "        # Gradient update (if exist)\n",
    "        with torch.no_grad():\n",
    "            if model.weight.grad is not None:\n",
    "                model.weight -= step_size * model.weight.grad\n",
    "            if model.bias.grad is not None:\n",
    "                model.bias -= step_size * model.bias.grad\n",
    "\n",
    "        # Zero gradients\n",
    "        model.zero_grad()\n",
    "\n",
    "        # Record loss\n",
    "        epoch_losses.append(rmse_loss.item())\n",
    "\n",
    "    return np.mean(epoch_losses)\n",
    "\n",
    "\n",
    "# Evaluation function\n",
    "def evaluate_rmse(model, x_test, y_test):\n",
    "    model.eval()\n",
    "\n",
    "    # Convert to torch tensors if needed\n",
    "    if isinstance(x_test, np.ndarray):\n",
    "        x_test = torch.tensor(x_test, dtype=torch.float32)\n",
    "    if isinstance(y_test, np.ndarray):\n",
    "        y_test = torch.tensor(y_test, dtype=torch.float32)\n",
    "\n",
    "    # Move tensors to the device\n",
    "    x_test = x_test.to(device)\n",
    "    y_test = y_test.to(device)\n",
    "\n",
    "    with torch.no_grad():  # Disable gradient tracking\n",
    "        predictions = model(x_test).squeeze()\n",
    "        mse = torch.mean((predictions - y_test) ** 2)\n",
    "        rmse = torch.sqrt(mse).cpu().item()\n",
    "    return rmse"
   ]
  },
  {
   "cell_type": "markdown",
   "metadata": {
    "id": "RN-v0_LosXjd"
   },
   "source": [
    "### Task 3"
   ]
  },
  {
   "cell_type": "code",
   "execution_count": 14,
   "metadata": {
    "colab": {
     "base_uri": "https://localhost:8080/",
     "height": 543,
     "referenced_widgets": [
      "6b275ebafec4406d8cecaaf12c54f25f",
      "bda2683aad404767bd8602bbdba2af24",
      "53608194770d4309b0fb47bb35515156",
      "223b65cccea14fae9f2d1c951ef8bcb8",
      "665c074a7e8c4c9fa273d042f82d1437",
      "65712f0325754551aab18418f12751c7",
      "294a1201bee64b57a8eaf82adbf81eaf",
      "632906a612244bc3bda550ed2dadb531",
      "8b6f93438f2e40d88f5d1f94081dc054",
      "bc831fc71d15417483bd11528e037caf",
      "bfcbc92c925d45c8bc4e522c7f5ce041",
      "3231db1abdb24a7c8ae0260123660efe",
      "23b431f8ed0a4e9d88a131044c4ab85e",
      "0f6801e28d4c47ec88859a0a3ed40770",
      "a44333e08fed434286c0243a7609c177",
      "1880de47176341d59dfd8b371cf25c4b",
      "370c1df8da86423ab19ebe17cd311a16",
      "7e331a5cd9a142f19dc0a9f75b073e48",
      "c1920d64525f48e7a0bd2c9a37574f63",
      "6c6aee1986c549baba7bb2aad3aa2e71",
      "d15cebbe7e1e463bb37a060a02fe4844",
      "cbb08246967342a2979168ab92aeb95d",
      "48c0efa3509341518230739a3bfffa83",
      "53d9760130654ddf8b682e2b393cdb84",
      "a00634913e0f4aaaa4dc14ff7d0e69d5",
      "ee6cd55ece0c4c1cb84f8efe51b700fe",
      "0aa046a7d0e140ff9f56b1588ba37df3",
      "f23b221ed029489395f234ae0d907bd4",
      "5b7d57211f3e4a9498db4ba05c59dc99",
      "f4a5c17d1e4244d3b602a52c6d2ad279",
      "aafa36fe8fb942ff94196fd1b94272ed",
      "b988aeeddeaf4dcb90e04c0655fe31e3",
      "dbb7320e320446199a89f5595fd24699",
      "41f97ec4ac7e45dfb62ff9d8f2c0caad",
      "838bd29671424baba4840fd57b8c92c7",
      "4370cd9ac0614723ba551d78572279db",
      "7757fe22d9ae4591ba48fb556323cba4",
      "074a294705c24dd4b6c6a5394f060f3e",
      "857be7d27988442abaeddc3725dec1cd",
      "0ff2112c1e5f4f719b9487d01e9f40b0",
      "faa1978a8f1446fd97dad6617b013a8b",
      "8cb61be5339548e8baac86ed2b39528b",
      "36f5150e1bf54ee3bd85416b858d2dfb",
      "6bb15246c9474178a14ea0bcec7d656b",
      "f099757058fe45a4a5f53306e0a05056",
      "063d2b9b40a8407993dbc9fcb8e22454",
      "7e1887011ac44a3b8358d250958bf012",
      "35f9c096285d4b22ac4e86527b25c45c",
      "c56f64122ce54b5d9574cd2796ad8f5e",
      "a8d855b2721b4581be8da6d2877b26fd",
      "6ff9f76cbc654549a59aaff8172e55e3",
      "6c4b76d186e04f7bad1b8c30e27fcbf3",
      "7f5e975dd55b47b89aff4368bbfa3682",
      "d4fee7db25924a7dabc9e7773e78155c",
      "845592a5d2bc472bb421ea9d95578032",
      "cba6063f35da44bba755fd2f882f72e8",
      "cfeb8a4f89154d75baddb0b3b589661d",
      "2014b52f1a754cefa404da9894f399f7",
      "a0890e5411b640faa82e168952273c5f",
      "2da15eea5a09485587b4df7e65590f45",
      "73dccf29b6e6493e8ef8997ca68b6713",
      "77fedb1b8a934352baf11891166b4d21",
      "74e6dd04850a450795a0c1b01be1ff1a",
      "0ed63f3fca0e4cdfa5fbda2b4cafc179",
      "782cf9b000b54de9b3b020ddfa451c57",
      "90b643141f7f4cf8a11e544f190142df",
      "e1346e245cb849b8a960926b12a15601",
      "3889565e748f4d6f83edef7da1388faf",
      "6a4f179309174e4182a8effb3abff14d",
      "79cd3ed9d3fa4ca9ac35bddffead0847",
      "174ede4c79bc4546934cb8bc0805c44e",
      "89753a4bf6cc4941b99ad515ac43dac7",
      "7ebcbfce27d141129f53033b89aba739",
      "fd291727b61944168bec8669082af52c",
      "1ee97debbb9c43f394eb824a219a24ee",
      "9d5827e6baa04e7b8ca4b41ee8cf1902",
      "f8f23f6658c84c93931a12339ac26cfe",
      "bb0bf4d9caf948b2b47b6def13f7c5e5",
      "1c00ff9d13bd4d2c9e2abcbf0c5b08e5",
      "6e83072dd5b44a23816ab509bdf7f2fb",
      "b43f8d81b63947699db6dc21960142ab",
      "cf58e6d6afe0451ea1ac80d77e9eabed",
      "3ec1aae2a9084e20a118e9f6b6833299",
      "1afb8118e24c47c7860595d2240bfad2",
      "c1360d9d91d3433c9d54e07a60ceb0c1",
      "d4c56fa926354f31b96a4c886c35b341",
      "fc7072fd7c384c48bbfc058604c8eed8",
      "730ad134373a4138bdbc7ded30b5cebe",
      "5873a7bf1a6b46fe89c62d82838c0788",
      "aa87d9f6efe8490897d1c1dad0472a41",
      "dd12de0b8c814437ba351ccda84fed90",
      "6d7acb0d35c9483ab3e732bf096d81b8",
      "4dc691265bc344308eb9ad81b887bb1f",
      "3eaad78a7abc4fa3956b8279a11d288b",
      "6677eef2c7a94f818b85bb11b22340d4",
      "943c4e977e744b4e823d42128a1ff131",
      "d806badcdf144bd6ae70e8dc27c32191",
      "34a796ff6ff844e89ecac21bf0d4aa81",
      "55c25d3c21614355922682685f68de87",
      "09a7f1d31dd9417b8326cde07f5da7ef",
      "45ac1ab68c6f4d06be4b33c89c11dc2c",
      "593fe3dd82fc4ca7874520dbf75d040a",
      "edf2f13cb736497e9dce5bb93e4e9ff7",
      "545e078ab8d04e029cd8038f5e318740",
      "3aca62e00f43435ba4ec04b093777f29",
      "0288a433901b4245ad00550aac97c2e9",
      "28e338c5cdb84b679ec5841402bac729",
      "c639d93041ad4c7d9ed570d28a79ccec",
      "bbbec4a148484cd7a41bd4065588e9ab",
      "4c79490793044b09902a0941ddc64f27",
      "da31c09b3dac4f4e864aef79ac923bd9",
      "c650b6a4a4c64249b83ebc2b98d48a04",
      "4e65c22bb0c94843a9861c19c1787f1f",
      "e7de6d7eb8aa4f0082d33c241e7587cc",
      "b02cd7751cc84d34b7ad071c0b458d14",
      "795d55f043304a5b872a8c069432b8c4",
      "e036eeca2a9f4608917fae577e679018",
      "26fe3cc0dc47480585518cba6b291c9e",
      "0f7b682e06744686bde2cc0711e0294b",
      "01e55deb01ca45b1966c56122f1f0485",
      "8b8009e5d46345c1b0f8a000f352027a"
     ]
    },
    "id": "1egBU4KMWyMc",
    "outputId": "61883e85-6be5-454b-deef-c4a86742322f"
   },
   "outputs": [
    {
     "data": {
      "application/vnd.jupyter.widget-view+json": {
       "model_id": "6b275ebafec4406d8cecaaf12c54f25f",
       "version_major": 2,
       "version_minor": 0
      },
      "text/plain": [
       "Epochs:   0%|          | 0/10 [00:00<?, ?it/s]"
      ]
     },
     "metadata": {},
     "output_type": "display_data"
    },
    {
     "data": {
      "application/vnd.jupyter.widget-view+json": {
       "model_id": "3231db1abdb24a7c8ae0260123660efe",
       "version_major": 2,
       "version_minor": 0
      },
      "text/plain": [
       "Training:   0%|          | 0/28982 [00:00<?, ?it/s]"
      ]
     },
     "metadata": {},
     "output_type": "display_data"
    },
    {
     "name": "stdout",
     "output_type": "stream",
     "text": [
      "Epoch  1 | Train RMSE: 1274.0480 | Test RMSE: 1122.9041\n"
     ]
    },
    {
     "data": {
      "application/vnd.jupyter.widget-view+json": {
       "model_id": "48c0efa3509341518230739a3bfffa83",
       "version_major": 2,
       "version_minor": 0
      },
      "text/plain": [
       "Training:   0%|          | 0/28982 [00:00<?, ?it/s]"
      ]
     },
     "metadata": {},
     "output_type": "display_data"
    },
    {
     "name": "stdout",
     "output_type": "stream",
     "text": [
      "Epoch  2 | Train RMSE: 111.0249 | Test RMSE: 208.5278\n"
     ]
    },
    {
     "data": {
      "application/vnd.jupyter.widget-view+json": {
       "model_id": "41f97ec4ac7e45dfb62ff9d8f2c0caad",
       "version_major": 2,
       "version_minor": 0
      },
      "text/plain": [
       "Training:   0%|          | 0/28982 [00:00<?, ?it/s]"
      ]
     },
     "metadata": {},
     "output_type": "display_data"
    },
    {
     "name": "stdout",
     "output_type": "stream",
     "text": [
      "Epoch  3 | Train RMSE: 10.5257 | Test RMSE: 188.0544\n"
     ]
    },
    {
     "data": {
      "application/vnd.jupyter.widget-view+json": {
       "model_id": "f099757058fe45a4a5f53306e0a05056",
       "version_major": 2,
       "version_minor": 0
      },
      "text/plain": [
       "Training:   0%|          | 0/28982 [00:00<?, ?it/s]"
      ]
     },
     "metadata": {},
     "output_type": "display_data"
    },
    {
     "name": "stdout",
     "output_type": "stream",
     "text": [
      "Epoch  4 | Train RMSE: 10.5227 | Test RMSE: 237.3033\n"
     ]
    },
    {
     "data": {
      "application/vnd.jupyter.widget-view+json": {
       "model_id": "cba6063f35da44bba755fd2f882f72e8",
       "version_major": 2,
       "version_minor": 0
      },
      "text/plain": [
       "Training:   0%|          | 0/28982 [00:00<?, ?it/s]"
      ]
     },
     "metadata": {},
     "output_type": "display_data"
    },
    {
     "name": "stdout",
     "output_type": "stream",
     "text": [
      "Epoch  5 | Train RMSE: 10.5232 | Test RMSE: 320.6851\n"
     ]
    },
    {
     "data": {
      "application/vnd.jupyter.widget-view+json": {
       "model_id": "e1346e245cb849b8a960926b12a15601",
       "version_major": 2,
       "version_minor": 0
      },
      "text/plain": [
       "Training:   0%|          | 0/28982 [00:00<?, ?it/s]"
      ]
     },
     "metadata": {},
     "output_type": "display_data"
    },
    {
     "name": "stdout",
     "output_type": "stream",
     "text": [
      "Epoch  6 | Train RMSE: 10.5227 | Test RMSE: 368.9054\n"
     ]
    },
    {
     "data": {
      "application/vnd.jupyter.widget-view+json": {
       "model_id": "bb0bf4d9caf948b2b47b6def13f7c5e5",
       "version_major": 2,
       "version_minor": 0
      },
      "text/plain": [
       "Training:   0%|          | 0/28982 [00:00<?, ?it/s]"
      ]
     },
     "metadata": {},
     "output_type": "display_data"
    },
    {
     "name": "stdout",
     "output_type": "stream",
     "text": [
      "Epoch  7 | Train RMSE: 10.5266 | Test RMSE: 518.3179\n"
     ]
    },
    {
     "data": {
      "application/vnd.jupyter.widget-view+json": {
       "model_id": "5873a7bf1a6b46fe89c62d82838c0788",
       "version_major": 2,
       "version_minor": 0
      },
      "text/plain": [
       "Training:   0%|          | 0/28982 [00:00<?, ?it/s]"
      ]
     },
     "metadata": {},
     "output_type": "display_data"
    },
    {
     "name": "stdout",
     "output_type": "stream",
     "text": [
      "Epoch  8 | Train RMSE: 10.5244 | Test RMSE: 311.0237\n"
     ]
    },
    {
     "data": {
      "application/vnd.jupyter.widget-view+json": {
       "model_id": "09a7f1d31dd9417b8326cde07f5da7ef",
       "version_major": 2,
       "version_minor": 0
      },
      "text/plain": [
       "Training:   0%|          | 0/28982 [00:00<?, ?it/s]"
      ]
     },
     "metadata": {},
     "output_type": "display_data"
    },
    {
     "name": "stdout",
     "output_type": "stream",
     "text": [
      "Epoch  9 | Train RMSE: 10.5159 | Test RMSE: 149.4165\n"
     ]
    },
    {
     "data": {
      "application/vnd.jupyter.widget-view+json": {
       "model_id": "da31c09b3dac4f4e864aef79ac923bd9",
       "version_major": 2,
       "version_minor": 0
      },
      "text/plain": [
       "Training:   0%|          | 0/28982 [00:00<?, ?it/s]"
      ]
     },
     "metadata": {},
     "output_type": "display_data"
    },
    {
     "name": "stdout",
     "output_type": "stream",
     "text": [
      "Epoch 10 | Train RMSE: 10.5212 | Test RMSE: 419.3230\n"
     ]
    }
   ],
   "source": [
    "step_size = 0.05\n",
    "epochs = 10\n",
    "train_loss = []\n",
    "test_loss = []\n",
    "\n",
    "for epoch in tqdm(range(epochs), desc=\"Epochs\"):\n",
    "    train_rmse = train_one_epoch(linreg, loader, step_size)\n",
    "    test_rmse = evaluate_rmse(linreg, X_test, y_test)\n",
    "\n",
    "    train_loss.append(train_rmse)\n",
    "    test_loss.append(test_rmse)\n",
    "\n",
    "    # ✅ Print RMSE for this epoch\n",
    "    print(f\"Epoch {epoch + 1:2d} | Train RMSE: {train_rmse:.4f} | Test RMSE: {test_rmse:.4f}\")"
   ]
  },
  {
   "cell_type": "markdown",
   "metadata": {
    "id": "-VAsAYL912F0"
   },
   "source": [
    "### task 4"
   ]
  },
  {
   "cell_type": "code",
   "execution_count": 15,
   "metadata": {
    "colab": {
     "base_uri": "https://localhost:8080/",
     "height": 346
    },
    "id": "7MoX7FnPzdid",
    "outputId": "65351004-4ceb-49f4-a95e-9bc370d969c1"
   },
   "outputs": [
    {
     "data": {
      "image/png": "[encoded data removed]",
      "text/plain": [
       "<Figure size 1200x600 with 1 Axes>"
      ]
     },
     "metadata": {},
     "output_type": "display_data"
    }
   ],
   "source": [
    "# Create a figure and set its size\n",
    "plt.figure(figsize=(12, 6))\n",
    "\n",
    "# Plot train and test loss across epochs\n",
    "plt.plot(np.arange(1, len(train_loss) + 1), train_loss, marker='o', label='Train RMSE')\n",
    "plt.plot(np.arange(1, len(test_loss) + 1), test_loss, marker='s', label='Test RMSE')\n",
    "\n",
    "# Add title and axis labels\n",
    "plt.title('Training and Testing RMSE over Epochs', fontsize=14)\n",
    "plt.xlabel('Epochs', fontsize=12)\n",
    "plt.ylabel('RMSE', fontsize=12)\n",
    "\n",
    "# Add grid, legend\n",
    "plt.grid(True, linestyle='--', alpha=0.6)\n",
    "plt.legend()\n",
    "plt.xticks(np.arange(1, len(train_loss) + 1))  # Ensure x-axis ticks match epoch numbers\n",
    "\n",
    "plt.tight_layout()\n",
    "plt.show()"
   ]
  },
  {
   "cell_type": "markdown",
   "metadata": {
    "id": "_6ilBKYt6OdD"
   },
   "source": [
    "## Задание 2. (максимум 10 баллов)\n",
    "\n",
    "Реализуйте обучение и тестирование нейронной сети для предоставленного вам набора данных. Соотношение между полученным значением метрики на тестовой выборке и баллами за задание следующее:\n",
    "\n",
    "- $\\text{RMSE} \\le 9.00 $ &mdash; 4 балла\n",
    "- $\\text{RMSE} \\le 8.90 $ &mdash; 6 баллов\n",
    "- $\\text{RMSE} \\le 8.80 $ &mdash; 8 баллов\n",
    "- $\\text{RMSE} \\le 8.75 $ &mdash; 10 баллов\n",
    "\n",
    "Есть несколько правил, которых вам нужно придерживаться:\n",
    "\n",
    "- Весь пайплайн обучения должен быть написан на PyTorch. При этом вы можете пользоваться другими библиотеками (`numpy`, `sklearn` и пр.), но только для обработки данных. То есть как угодно трансформировать данные и считать метрики с помощью этих библиотек можно, а импортировать модели из `sklearn` и выбивать с их помощью требуемое качество &mdash; нельзя. Также нельзя пользоваться библиотеками, для которых сам PyTorch является зависимостью.\n",
    "\n",
    "- Мы никак не ограничиваем ваш выбор архитектуры модели, но скорее всего вам будет достаточно полносвязной нейронной сети.\n",
    "\n",
    "- Для обучения запрещается использовать какие-либо иные данные, кроме обучающей выборки.\n",
    "\n",
    "- Ансамблирование моделей запрещено.\n",
    "\n",
    "### Полезные советы:\n",
    "\n",
    "- Очень вряд ли, что у вас с первого раза получится выбить качество на 10 баллов, поэтому пробуйте разные архитектуры, оптимизаторы и значения гиперпараметров. В идеале при запуске каждого нового эксперимента вы должны менять что-то одно, чтобы точно знать, как этот фактор влияет на качество.\n",
    "\n",
    "- Не забудьте, что для улучшения качества модели вам поможет **нормировка таргета**.\n",
    "\n",
    "- Тот факт, что мы занимаемся глубинным обучением, не означает, что стоит забывать про приемы, использующиеся в классическом машинном обучении. Так что обязательно проводите исследовательский анализ данных, отрисовывайте нужные графики и не забывайте про масштабирование и подбор гиперпараметров.\n",
    "\n",
    "- Вы наверняка столкнетесь с тем, что ваша нейронная сеть будет сильно переобучаться. Для нейросетей существуют специальные методы регуляризации, например, dropout ([статья](https://jmlr.org/papers/volume15/srivastava14a/srivastava14a.pdf)) и weight decay ([блогпост](https://towardsdatascience.com/weight-decay-l2-regularization-90a9e17713cd)). Они, разумеется, реализованы в PyTorch. Попробуйте поэкспериментировать с ними.\n",
    "\n",
    "- Если вы чего-то не знаете, не гнушайтесь гуглить. В интернете очень много полезной информации, туториалов и советов по глубинному обучению в целом и по PyTorch в частности. Но не забывайте, что за скатанный код без ссылки на источник придется ответить по всей строгости!\n",
    "\n",
    "- Если вы сразу реализуете обучение на GPU, то у вас будет больше времени на эксперименты, так как любые вычисления будут работать быстрее. Google Colab предоставляет несколько GPU-часов (обычно около 8-10) в сутки бесплатно.\n",
    "\n",
    "- Чтобы отладить код, можете обучаться на небольшой части данных или даже на одном батче. Если лосс на обучающей выборке не падает, то что-то точно идет не так!\n",
    "\n",
    "- Пользуйтесь утилитами, которые вам предоставляет PyTorch (например, Dataset и Dataloader). Их специально разработали для упрощения разработки пайплайна обучения.\n",
    "\n",
    "- Скорее всего вы захотите отслеживать прогресс обучения. Для создания прогресс-баров есть удобная библиотека `tqdm`.\n",
    "\n",
    "- Быть может, вы захотите, чтобы графики рисовались прямо во время обучения. Можете воспользоваться функцией [clear_output](http://ipython.org/ipython-doc/dev/api/generated/IPython.display.html#IPython.display.clear_output), чтобы удалять старый график и рисовать новый на его месте.\n",
    "\n",
    "**ОБЯЗАТЕЛЬНО** рисуйте графики зависимости лосса/метрики на обучающей и тестовой выборках в зависимости от времени обучения. Если обучение занимает относительно небольшое число эпох, то лучше рисовать зависимость от номера шага обучения, если же эпох больше, то рисуйте зависимость по эпохам. Если проверяющий не увидит такого графика для вашей лучшей модели, то он в праве снизить баллы за задание.\n",
    "\n",
    "**ВАЖНО!** Ваше решение должно быть воспроизводимым. Если это не так, то проверяющий имеет право снизить баллы за задание. Чтобы зафиксировать random seed, воспользуйтесь функцией из предыдущего задания.\n",
    "\n"
   ]
  },
  {
   "cell_type": "markdown",
   "metadata": {
    "id": "TZW0gMe3vT8u"
   },
   "source": [
    "Вы можете придерживаться любой адекватной струкуры кода, но мы советуем воспользоваться сигнатурами функций, которые приведены ниже. Лучше всего, если вы проверите ваши предсказания ассертом: так вы убережете себя от разных косяков, например, что вектор предсказаний состоит из всего одного числа. В любом случае, внимательно следите за тем, для каких тензоров вы считаете метрику RMSE. При случайном или намеренном введении в заблуждение проверяющие очень сильно разозлятся."
   ]
  },
  {
   "cell_type": "code",
   "execution_count": 16,
   "metadata": {
    "id": "aQkvmxMf7RNj"
   },
   "outputs": [],
   "source": [
    "# Taking a random 10% sample for preliminary training\n",
    "df_short = df.sample(frac=0.1, random_state=42)\n",
    "\n",
    "X_short = df_short.iloc[:, 1:].values\n",
    "y_short = df_short.iloc[:, 0].values\n",
    "\n",
    "# Split into train/test (80/20 split)\n",
    "train_size_short = int(0.8 * len(df_short))\n",
    "\n",
    "X_train_short = X_short[:train_size_short, :]\n",
    "y_train_short = y_short[:train_size_short]\n",
    "X_test_short = X_short[train_size_short:, :]\n",
    "y_test_short = y_short[train_size_short:]"
   ]
  },
  {
   "cell_type": "code",
   "execution_count": 17,
   "metadata": {
    "id": "zPegOXHi3HAZ"
   },
   "outputs": [],
   "source": [
    "# Choosing potential scalers\n",
    "from sklearn.preprocessing import MaxAbsScaler\n",
    "\n",
    "#### MaxAbsScaler\n",
    "scaler = MaxAbsScaler()\n",
    "\n",
    "# For 10% of dataset\n",
    "# X_train_scaled = scaler.fit_transform(X_train_short)\n",
    "# X_test_scaled = scaler.transform(X_test_short)\n",
    "# y_train_scaled = scaler.fit_transform(y_train_short.reshape(-1, 1))\n",
    "# y_test_scaled = scaler.transform(y_test_short.reshape(-1, 1))\n",
    "\n",
    "# For the whole dataset\n",
    "X_train_scaled = scaler.fit_transform(X_train)\n",
    "X_test_scaled = scaler.transform(X_test)\n",
    "y_train_scaled = scaler.fit_transform(y_train.reshape(-1, 1))\n",
    "y_test_scaled = scaler.transform(y_test.reshape(-1, 1))\n",
    "\n",
    "\n",
    "###########  To tensor and device\n",
    "X_train_tensor = torch.tensor(X_train_scaled, dtype=torch.float32).to(device)\n",
    "X_test_tensor = torch.tensor(X_test_scaled, dtype=torch.float32).to(device)\n",
    "y_train_tensor = torch.tensor(y_train_scaled, dtype=torch.float32).to(device)\n",
    "y_test_tensor = torch.tensor(y_test_scaled, dtype=torch.float32).to(device)\n"
   ]
  },
  {
   "cell_type": "markdown",
   "metadata": {
    "id": "ygxUYQnayrts"
   },
   "source": [
    "### Train and test functions"
   ]
  },
  {
   "cell_type": "code",
   "execution_count": 18,
   "metadata": {
    "id": "LvCFajQpyxFX"
   },
   "outputs": [],
   "source": [
    "def train(model, optimizer, criterion, train_loader, test_loader, device, scheduler=None):\n",
    "    \"\"\"\n",
    "    Train the model for one epoch and return average train and test RMSE.\n",
    "    Optionally update the learning rate scheduler based on test RMSE.\n",
    "    \"\"\"\n",
    "    model.train()  # Set model to training mode\n",
    "    train_rmse_list = []\n",
    "\n",
    "    # Iterate over training batches\n",
    "    for inputs, targets in train_loader:\n",
    "        inputs, targets = inputs.to(device), targets.to(device)\n",
    "        optimizer.zero_grad()  # Clear previous gradients\n",
    "\n",
    "        outputs = model(inputs)  # Forward pass\n",
    "        mse = criterion(outputs, targets)\n",
    "        rmse = torch.sqrt(mse)  # Compute RMSE\n",
    "\n",
    "        rmse.backward()  # Backpropagation\n",
    "        optimizer.step()  # Update parameters\n",
    "\n",
    "        train_rmse_list.append(rmse.detach().item())  # Record batch RMSE\n",
    "\n",
    "    avg_train_rmse = np.mean(train_rmse_list)\n",
    "\n",
    "    # Evaluate model on test data\n",
    "    model.eval()\n",
    "    test_rmse_list = []\n",
    "    with torch.no_grad():\n",
    "        for inputs, targets in test_loader:\n",
    "            inputs, targets = inputs.to(device), targets.to(device)\n",
    "            outputs = model(inputs)\n",
    "            mse = criterion(outputs, targets)\n",
    "            rmse = torch.sqrt(mse)\n",
    "            test_rmse_list.append(rmse.detach().item())\n",
    "\n",
    "    avg_test_rmse = np.mean(test_rmse_list)\n",
    "\n",
    "    # Optionally update the scheduler based on test RMSE\n",
    "    if scheduler is not None:\n",
    "        scheduler.step(avg_test_rmse)\n",
    "\n",
    "    return avg_train_rmse, avg_test_rmse\n",
    "\n",
    "\n",
    "def test(model, test_loader, device):\n",
    "    \"\"\"\n",
    "    Evaluate the model on test set and return all predictions as a numpy array.\n",
    "    This iterates over the test_loader for memory efficiency.\n",
    "    \"\"\"\n",
    "    model.eval()  # Set model to evaluation mode\n",
    "    all_preds = []\n",
    "    with torch.no_grad():\n",
    "        for inputs, _ in test_loader:\n",
    "            inputs = inputs.to(device)\n",
    "            preds = model(inputs)\n",
    "            all_preds.append(preds.detach().cpu())\n",
    "\n",
    "    # Concatenate all batch predictions into a single array\n",
    "    return torch.cat(all_preds, dim=0).numpy()"
   ]
  },
  {
   "cell_type": "markdown",
   "metadata": {
    "id": "PyZ1zwpIy0h9"
   },
   "source": [
    "### Unscaling RMSE function"
   ]
  },
  {
   "cell_type": "code",
   "execution_count": 19,
   "metadata": {
    "id": "dr6aMD0Ky5s5"
   },
   "outputs": [],
   "source": [
    "def evaluate_rmse_unscaled(model, data_loader, y_scaler, device):\n",
    "    \"\"\"\n",
    "    Evaluate RMSE on unscaled data for interpretability.\n",
    "    \"\"\"\n",
    "    model.eval()\n",
    "    all_preds = []\n",
    "    all_targets = []\n",
    "\n",
    "    with torch.no_grad():\n",
    "        for inputs, targets in data_loader:\n",
    "            inputs = inputs.to(device)\n",
    "            preds = model(inputs).cpu().numpy()\n",
    "            all_preds.append(preds)\n",
    "            all_targets.append(targets.cpu().numpy())\n",
    "\n",
    "    # Concatenate and inverse transform\n",
    "    all_preds = np.vstack(all_preds)\n",
    "    all_targets = np.vstack(all_targets)\n",
    "\n",
    "    preds_unscaled = y_scaler.inverse_transform(all_preds)\n",
    "    targets_unscaled = y_scaler.inverse_transform(all_targets)\n",
    "\n",
    "    rmse = np.sqrt(mean_squared_error(targets_unscaled, preds_unscaled))\n",
    "    return rmse\n"
   ]
  },
  {
   "cell_type": "markdown",
   "metadata": {
    "id": "9LUTx_L8y92c"
   },
   "source": [
    "### Different models"
   ]
  },
  {
   "cell_type": "markdown",
   "metadata": {
    "id": "CJp6EdtJzGUf"
   },
   "source": [
    "Was not sure what model to choose. After many attempts, found this one: https://github.com/milliemince/eBay-shipping-predictions. And liked it - just seemed logical enough - to push as many features as possible at first, while reducing their number by 2 each time. Decided to play with it a bit."
   ]
  },
  {
   "cell_type": "code",
   "execution_count": 20,
   "metadata": {
    "id": "N4x4qqQ6-YZq"
   },
   "outputs": [],
   "source": [
    "class FullyConnectedRegression(nn.Module):\n",
    "    def __init__(self, input_dim, p=0.25):\n",
    "        super(FullyConnectedRegression, self).__init__()\n",
    "        self.network = nn.Sequential(\n",
    "            nn.Linear(input_dim, 256),\n",
    "            nn.ReLU(),\n",
    "            nn.Dropout(p),\n",
    "\n",
    "            nn.Linear(256, 128),\n",
    "            nn.ReLU(),\n",
    "            nn.Dropout(p),\n",
    "\n",
    "            nn.Linear(128, 64),\n",
    "            nn.ReLU(),\n",
    "            nn.Dropout(p),\n",
    "\n",
    "            nn.Linear(64, 32),\n",
    "            nn.ReLU(),\n",
    "            nn.Dropout(p),\n",
    "\n",
    "            nn.Linear(32, 16),\n",
    "            nn.ReLU(),\n",
    "            nn.Dropout(p),\n",
    "\n",
    "            nn.Linear(16, 1)  # Final output layer for regression\n",
    "        )\n",
    "\n",
    "    def forward(self, x):\n",
    "        return self.network(x)"
   ]
  },
  {
   "cell_type": "code",
   "execution_count": 21,
   "metadata": {
    "id": "w-gZNQ4ugERW"
   },
   "outputs": [],
   "source": [
    "set_random_seed(42)\n",
    "\n",
    "train_set = TensorDataset(X_train_tensor, y_train_tensor)\n",
    "train_loader = DataLoader(train_set, batch_size=128, shuffle=True, drop_last=True)\n",
    "\n",
    "test_set = TensorDataset(X_test_tensor, y_test_tensor)\n",
    "test_loader = DataLoader(test_set, batch_size=128, shuffle=True, drop_last=False)\n",
    "\n",
    "model = FullyConnectedRegression(X_train_scaled.shape[1]).to(device)\n",
    "\n",
    "# On the lecture I heard that it is one of the best optimizer\n",
    "optimizer = torch.optim.AdamW(\n",
    "    model.parameters(),\n",
    "    lr=3e-4, # Someone told me this is a nice learning rate\n",
    "    betas=(0.9, 0.999),\n",
    "    weight_decay=1e-8\n",
    ")\n",
    "\n",
    "criterion = nn.MSELoss()"
   ]
  },
  {
   "cell_type": "code",
   "execution_count": 22,
   "metadata": {
    "colab": {
     "base_uri": "https://localhost:8080/",
     "height": 812,
     "referenced_widgets": [
      "54a8c9c0b573484ba3fba30184858e18",
      "fc667603f9b242de851b59b64e25febf",
      "e1f24d4056574c40a7ac6c07040e3663",
      "89f5f9de23b94ea9bff0c050de708502",
      "105cae143ed645dfb2154e16ced2ec39",
      "ec2f4dab8e63436b8703537fac383b18",
      "f5032f50da274ea5890e98696a4a3cd8",
      "28aa5b9dff6844b3bda1f3401119553e",
      "ded76728568f447f8a4140e9b2a0e697",
      "b06e53b442c049689157748087afd821",
      "695f7fe1fac2498da6d777dc861cc81a"
     ]
    },
    "id": "TIIGFJViK7Xf",
    "outputId": "3011c755-08e3-42e4-ed4a-7cdeb7bb6341"
   },
   "outputs": [
    {
     "data": {
      "application/vnd.jupyter.widget-view+json": {
       "model_id": "54a8c9c0b573484ba3fba30184858e18",
       "version_major": 2,
       "version_minor": 0
      },
      "text/plain": [
       "  0%|          | 0/1000 [00:00<?, ?it/s]"
      ]
     },
     "metadata": {},
     "output_type": "display_data"
    },
    {
     "name": "stdout",
     "output_type": "stream",
     "text": [
      "Epoch 1/1000 — Train RMSE: 16.9207, Test RMSE: 16.9491\n",
      "Epoch 2/1000 — Train RMSE: 9.1986, Test RMSE: 9.2069\n",
      "Epoch 3/1000 — Train RMSE: 9.0114, Test RMSE: 9.0820\n",
      "Epoch 4/1000 — Train RMSE: 8.8061, Test RMSE: 8.9319\n",
      "Epoch 5/1000 — Train RMSE: 8.7810, Test RMSE: 8.9187\n",
      "Epoch 6/1000 — Train RMSE: 8.7716, Test RMSE: 8.9071\n",
      "Epoch 7/1000 — Train RMSE: 8.6666, Test RMSE: 8.8488\n",
      "Epoch 8/1000 — Train RMSE: 8.6279, Test RMSE: 8.8429\n",
      "Epoch 9/1000 — Train RMSE: 8.6085, Test RMSE: 8.8139\n",
      "Epoch 10/1000 — Train RMSE: 8.6340, Test RMSE: 8.8664\n",
      "Epoch 11/1000 — Train RMSE: 8.5399, Test RMSE: 8.7667\n",
      "Epoch 12/1000 — Train RMSE: 8.5136, Test RMSE: 8.7623\n",
      "Epoch 13/1000 — Train RMSE: 8.4924, Test RMSE: 8.7941\n",
      "Epoch 14/1000 — Train RMSE: 8.4717, Test RMSE: 8.7573\n",
      "Epoch 15/1000 — Train RMSE: 8.5240, Test RMSE: 8.8110\n",
      "Epoch 16/1000 — Train RMSE: 8.4932, Test RMSE: 8.7767\n",
      "Epoch 17/1000 — Train RMSE: 8.5708, Test RMSE: 8.8880\n",
      "Epoch 18/1000 — Train RMSE: 8.4436, Test RMSE: 8.8333\n",
      "Epoch 19/1000 — Train RMSE: 8.4201, Test RMSE: 8.7536\n",
      "Epoch 20/1000 — Train RMSE: 8.3890, Test RMSE: 8.7541\n",
      "Epoch 21/1000 — Train RMSE: 8.3783, Test RMSE: 8.7728\n",
      "Epoch 22/1000 — Train RMSE: 8.3415, Test RMSE: 8.7663\n",
      "Epoch 23/1000 — Train RMSE: 8.3336, Test RMSE: 8.7311\n",
      "Early stopping: Test RMSE reached 8.7311 < 8.75 at epoch 23\n",
      "bingo!\n"
     ]
    },
    {
     "data": {
      "image/png": "[encoded data removed]",
      "text/plain": [
       "<Figure size 1200x600 with 1 Axes>"
      ]
     },
     "metadata": {},
     "output_type": "display_data"
    }
   ],
   "source": [
    "train_loss = []\n",
    "test_loss = []\n",
    "epochs = 1000\n",
    "rmse_threshold = 8.75\n",
    "\n",
    "for epoch in tqdm(range(epochs)):\n",
    "    train(model, optimizer, criterion, train_loader, test_loader, device)\n",
    "\n",
    "    # Calculate RMSE on original scale\n",
    "    train_rmse = evaluate_rmse_unscaled(model, train_loader, scaler, device)\n",
    "    test_rmse = evaluate_rmse_unscaled(model, test_loader, scaler, device)\n",
    "\n",
    "    train_loss.append(train_rmse)\n",
    "    test_loss.append(test_rmse)\n",
    "\n",
    "    # Print RMSE for this epoch\n",
    "    print(f\"Epoch {epoch + 1}/{epochs} — Train RMSE: {train_rmse:.4f}, Test RMSE: {test_rmse:.4f}\")\n",
    "\n",
    "    # Early stopping condition\n",
    "    if test_rmse < rmse_threshold:\n",
    "        print(f\"Early stopping: Test RMSE reached {test_rmse:.4f} < {rmse_threshold} at epoch {epoch + 1}\")\n",
    "        print(\"bingo!\")\n",
    "        break\n",
    "\n",
    "# Plot training progress up to the stopping point\n",
    "plt.figure(figsize=(12, 6))\n",
    "plt.plot(np.arange(1, len(train_loss) + 1), train_loss, label='Train RMSE', marker='o')\n",
    "plt.plot(np.arange(1, len(test_loss) + 1), test_loss, label='Test RMSE', marker='s')\n",
    "plt.title('Training Progress')\n",
    "plt.xlabel('Epochs')\n",
    "plt.ylabel('RMSE (in years)')\n",
    "plt.grid(True)\n",
    "plt.legend()\n",
    "plt.xticks(np.arange(1, len(train_loss) + 1))\n",
    "plt.tight_layout()\n",
    "plt.show()\n"
   ]
  },
  {
   "cell_type": "markdown",
   "metadata": {
    "id": "0W_cn0hRmjK1"
   },
   "source": [
    "Here is the model info (if needed):"
   ]
  },
  {
   "cell_type": "code",
   "execution_count": 23,
   "metadata": {
    "id": "pPucWx0VOUEJ"
   },
   "outputs": [],
   "source": [
    "# for name, param in model.named_parameters():\n",
    "#     if param.requires_grad:\n",
    "#         print(f\"{name} — shape: {param.shape}\")\n",
    "#         print(param.data)\n",
    "#         print(\"-\" * 50)"
   ]
  },
  {
   "cell_type": "markdown",
   "metadata": {
    "id": "bine9EES6TIn"
   },
   "source": [
    "## Задание 3. (0 баллов, но при невыполнении максимум за все задание &mdash; 0 баллов)\n",
    "\n",
    "Напишите небольшой отчет о том, как вы добились полученного качества: какие средства использовали и какие эксперименты проводили. Подробно расскажите об архитектурах и значениях гиперпараметров, а также какие метрики на тесте они показывали. Чтобы отчет был зачтен, необходимо привести хотя бы 3 эксперимента."
   ]
  },
  {
   "cell_type": "markdown",
   "metadata": {
    "id": "k98adKXNOtCW"
   },
   "source": [
    "For the scalar I took MaxAbsScaler - Googled that it was extremely helpful with sparse data. From the problem 0 - it seemed the case for our data.\n",
    "\n",
    "For the architecture idea, I used the following GitHub publication:\n",
    "https://github.com/milliemince/eBay-shipping-predictions.\n",
    "\n",
    "I also decided to add BatchNorm. It was not a great idea - asked around- it appeared that I better use BatchNorm of Dropout, not both.\n",
    "\n",
    "As eBay model  has more data for training - decided to remove the first, the largest layer. As for the shrinking structure- just liked it, as it was smth logical in this sea of chaos)\n",
    "\n",
    "For the optimizer I utilied AdamW, as we discussed on the lecture that it is one of the best currently (Adam with momentum was a bit too tricky for me). All the parametrs are standard for Adam (lecture), except for learning rate - a friend of mine recommended to take lr=3e-4, as it is a golden rule one. I also tred to learn the learning rate, but results were worse. Even though the initial experiments are in my head, I will try to replicate some of them for illustrations."
   ]
  },
  {
   "cell_type": "markdown",
   "metadata": {
    "id": "IzqexG3lRJIe"
   },
   "source": [
    "### BatchNorm"
   ]
  },
  {
   "cell_type": "code",
   "execution_count": 24,
   "metadata": {
    "colab": {
     "base_uri": "https://localhost:8080/",
     "height": 638,
     "referenced_widgets": [
      "3f057a6a8fb14b70862ac62ee79749dd",
      "bb7f3fc925c648c4a0241c0e33d7605b",
      "c26c6a5efa9a4c72a33c870989b1ef91",
      "ff5e72866bc948368b00c2b553fa292c",
      "40f27ccae1f44424b3de74baeb8cac8d",
      "dba14882d81f4208a0cb686491e9379b",
      "fce4365eda0f4ae0b15d9f8486660080",
      "863d2c86b5124d07b0558eea2f79b1b4",
      "8afec0bd14214c5190e083d9b37bfb75",
      "73c6e09e907f40a2981200b0d0be2f10",
      "0fb605b85f724ec9ac31714cec495010"
     ]
    },
    "id": "JgXlgiiwRNLR",
    "outputId": "6e3a6e5a-84d2-4471-b341-80a8f114f570"
   },
   "outputs": [
    {
     "data": {
      "application/vnd.jupyter.widget-view+json": {
       "model_id": "3f057a6a8fb14b70862ac62ee79749dd",
       "version_major": 2,
       "version_minor": 0
      },
      "text/plain": [
       "  0%|          | 0/15 [00:00<?, ?it/s]"
      ]
     },
     "metadata": {},
     "output_type": "display_data"
    },
    {
     "name": "stdout",
     "output_type": "stream",
     "text": [
      "Epoch 1/15 — Train RMSE: 64.8789, Test RMSE: 64.9170\n",
      "Epoch 2/15 — Train RMSE: 10.9931, Test RMSE: 10.9478\n",
      "Epoch 3/15 — Train RMSE: 9.3200, Test RMSE: 9.3328\n",
      "Epoch 4/15 — Train RMSE: 8.8912, Test RMSE: 9.0011\n",
      "Epoch 5/15 — Train RMSE: 8.9071, Test RMSE: 8.9854\n",
      "Epoch 6/15 — Train RMSE: 8.6795, Test RMSE: 8.8135\n",
      "Epoch 7/15 — Train RMSE: 8.6507, Test RMSE: 8.8264\n",
      "Epoch 8/15 — Train RMSE: 8.6446, Test RMSE: 8.7942\n",
      "Epoch 9/15 — Train RMSE: 8.5693, Test RMSE: 8.7747\n",
      "Epoch 10/15 — Train RMSE: 8.5082, Test RMSE: 8.7436\n",
      "Epoch 11/15 — Train RMSE: 8.5350, Test RMSE: 8.7655\n",
      "Epoch 12/15 — Train RMSE: 8.5495, Test RMSE: 8.7882\n",
      "Epoch 13/15 — Train RMSE: 8.4380, Test RMSE: 8.7452\n",
      "Epoch 14/15 — Train RMSE: 8.4145, Test RMSE: 8.7231\n",
      "Epoch 15/15 — Train RMSE: 8.4347, Test RMSE: 8.7547\n"
     ]
    },
    {
     "data": {
      "image/png": "[encoded data removed]",
      "text/plain": [
       "<Figure size 1200x600 with 1 Axes>"
      ]
     },
     "metadata": {},
     "output_type": "display_data"
    }
   ],
   "source": [
    "class FullyConnectedRegression(nn.Module):\n",
    "    def __init__(self, input_dim, p=0.25):\n",
    "        super(FullyConnectedRegression, self).__init__()\n",
    "        self.network = nn.Sequential(\n",
    "            nn.Linear(input_dim, 256),\n",
    "            nn.BatchNorm1d(256),\n",
    "            nn.ReLU(),\n",
    "            nn.Dropout(p),\n",
    "\n",
    "            nn.Linear(256, 128),\n",
    "            nn.BatchNorm1d(128),\n",
    "            nn.ReLU(),\n",
    "            nn.Dropout(p),\n",
    "\n",
    "            nn.Linear(128, 64),\n",
    "            nn.BatchNorm1d(64),\n",
    "            nn.ReLU(),\n",
    "            nn.Dropout(p),\n",
    "\n",
    "            nn.Linear(64, 32),\n",
    "            nn.BatchNorm1d(32),\n",
    "            nn.ReLU(),\n",
    "            nn.Dropout(p),\n",
    "\n",
    "            nn.Linear(32, 16),\n",
    "            nn.BatchNorm1d(16),\n",
    "            nn.ReLU(),\n",
    "            nn.Dropout(p),\n",
    "\n",
    "            nn.Linear(16, 1)  # Final output layer (no BatchNorm, no activation)\n",
    "        )\n",
    "\n",
    "    def forward(self, x):\n",
    "        return self.network(x)\n",
    "\n",
    "train_set = TensorDataset(X_train_tensor, y_train_tensor)\n",
    "train_loader = DataLoader(train_set, batch_size=128, shuffle=True, drop_last=True)\n",
    "\n",
    "test_set = TensorDataset(X_test_tensor, y_test_tensor)\n",
    "test_loader = DataLoader(test_set, batch_size=128, shuffle=True, drop_last=False)\n",
    "\n",
    "model = FullyConnectedRegression(X_train_scaled.shape[1]).to(device)\n",
    "\n",
    "# On the lecture I heard that it is one of the best optimizer\n",
    "optimizer = torch.optim.AdamW(\n",
    "    model.parameters(),\n",
    "    lr=3e-4, # Someone told me this is a nice learning rate\n",
    "    betas=(0.9, 0.999),\n",
    "    weight_decay=1e-8\n",
    ")\n",
    "\n",
    "criterion = nn.MSELoss()\n",
    "\n",
    "train_loss = []\n",
    "test_loss = []\n",
    "epochs = 15\n",
    "\n",
    "for epoch in tqdm(range(epochs)):\n",
    "    train(model, optimizer, criterion, train_loader, test_loader, device)\n",
    "\n",
    "    # Calculate RMSE on original scale\n",
    "    train_rmse = evaluate_rmse_unscaled(model, train_loader, scaler, device)\n",
    "    test_rmse = evaluate_rmse_unscaled(model, test_loader, scaler, device)\n",
    "\n",
    "    train_loss.append(train_rmse)\n",
    "    test_loss.append(test_rmse)\n",
    "\n",
    "    # Print RMSE for this epoch\n",
    "    print(f\"Epoch {epoch + 1}/{epochs} — Train RMSE: {train_rmse:.4f}, Test RMSE: {test_rmse:.4f}\")\n",
    "\n",
    "# Only show the plot AFTER all epochs are done\n",
    "plt.figure(figsize=(12, 6))\n",
    "plt.plot(np.arange(1, epochs + 1), train_loss, label='Train RMSE', marker='o')\n",
    "plt.plot(np.arange(1, epochs + 1), test_loss, label='Test RMSE', marker='s')\n",
    "plt.title('Training Progress')\n",
    "plt.xlabel('Epochs')\n",
    "plt.ylabel('RMSE (in years)')\n",
    "plt.grid(True)\n",
    "plt.legend()\n",
    "plt.xticks(np.arange(1, epochs + 1))\n",
    "plt.tight_layout()\n",
    "plt.show()"
   ]
  },
  {
   "cell_type": "markdown",
   "metadata": {
    "id": "2J-C1wTHTJCT"
   },
   "source": [
    "Well, may be I should have used this instead!) But the thing is- I tested each model on the 10% of the overall data- to save time. Seems like models (especially quite deep) tend to do better on the bigger datasets. But one thing for curtain - the initial guess (RMSE in 1st rediod) is higher, while the reduction of the learning rate is smoother... apparently) SO, may be combining BatchNorm and Dropout is not such a bad idea, at least for this problem and model."
   ]
  },
  {
   "cell_type": "markdown",
   "metadata": {
    "id": "KxkjvnulSwt9"
   },
   "source": [
    "### The Initial Ebay Model"
   ]
  },
  {
   "cell_type": "code",
   "execution_count": 25,
   "metadata": {
    "colab": {
     "base_uri": "https://localhost:8080/",
     "height": 638,
     "referenced_widgets": [
      "be5b8ed6b9de47af85f95f91e2a28297",
      "8a652d39e47a4cf180aa47046968663a",
      "d56955393e0540b884bb3d1cf0c1ff13",
      "7084dffcdd5442739917fe5cee84d9a7",
      "87d6506cbacb4b5281c2dbd4a72d8503",
      "e75ac446e1c0483d9d810d425d0fe78a",
      "ea372090604b4d48b6ae24a29e728868",
      "5f335f7d451b4d3683aebde89d2403d8",
      "5e696df0c5f3413894e51b2efffc083d",
      "96306d90292545cfa91d3fd92e643b93",
      "cef77167c6f040d0b14060f004573fb6"
     ]
    },
    "id": "TBzVNcutSw56",
    "outputId": "9284f3b2-bd31-4fb1-cf71-6ce58a0fdd57"
   },
   "outputs": [
    {
     "data": {
      "application/vnd.jupyter.widget-view+json": {
       "model_id": "be5b8ed6b9de47af85f95f91e2a28297",
       "version_major": 2,
       "version_minor": 0
      },
      "text/plain": [
       "  0%|          | 0/15 [00:00<?, ?it/s]"
      ]
     },
     "metadata": {},
     "output_type": "display_data"
    },
    {
     "name": "stdout",
     "output_type": "stream",
     "text": [
      "Epoch 1/15 — Train RMSE: 11.0546, Test RMSE: 10.9521\n",
      "Epoch 2/15 — Train RMSE: 10.9403, Test RMSE: 10.8530\n",
      "Epoch 3/15 — Train RMSE: 9.0787, Test RMSE: 9.0949\n",
      "Epoch 4/15 — Train RMSE: 8.9497, Test RMSE: 9.0236\n",
      "Epoch 5/15 — Train RMSE: 8.7704, Test RMSE: 8.9369\n",
      "Epoch 6/15 — Train RMSE: 8.7371, Test RMSE: 8.8613\n",
      "Epoch 7/15 — Train RMSE: 8.6362, Test RMSE: 8.8808\n",
      "Epoch 8/15 — Train RMSE: 8.5648, Test RMSE: 8.8225\n",
      "Epoch 9/15 — Train RMSE: 8.5742, Test RMSE: 8.7719\n",
      "Epoch 10/15 — Train RMSE: 8.5377, Test RMSE: 8.8212\n",
      "Epoch 11/15 — Train RMSE: 8.5170, Test RMSE: 8.7846\n",
      "Epoch 12/15 — Train RMSE: 8.4253, Test RMSE: 8.7590\n",
      "Epoch 13/15 — Train RMSE: 8.4202, Test RMSE: 8.7983\n",
      "Epoch 14/15 — Train RMSE: 8.3830, Test RMSE: 8.8352\n",
      "Epoch 15/15 — Train RMSE: 8.3668, Test RMSE: 8.7323\n"
     ]
    },
    {
     "data": {
      "image/png": "[encoded data removed]",
      "text/plain": [
       "<Figure size 1200x600 with 1 Axes>"
      ]
     },
     "metadata": {},
     "output_type": "display_data"
    }
   ],
   "source": [
    "class FullyConnectedRegression(nn.Module):\n",
    "    def __init__(self, input_dim=6, p=0.25):\n",
    "        super(FullyConnectedRegression, self).__init__()\n",
    "        self.network = nn.Sequential(\n",
    "            nn.Linear(input_dim, 512),\n",
    "            nn.ReLU(),\n",
    "            nn.Dropout(p),\n",
    "\n",
    "            nn.Linear(512, 256),\n",
    "            nn.ReLU(),\n",
    "            nn.Dropout(p),\n",
    "\n",
    "            nn.Linear(256, 128),\n",
    "            nn.ReLU(),\n",
    "            nn.Dropout(p),\n",
    "\n",
    "            nn.Linear(128, 64),\n",
    "            nn.ReLU(),\n",
    "            nn.Dropout(p),\n",
    "\n",
    "            nn.Linear(64, 32),\n",
    "            nn.ReLU(),\n",
    "            nn.Dropout(p),\n",
    "\n",
    "            nn.Linear(32, 16),\n",
    "            nn.ReLU(),\n",
    "            nn.Dropout(p),\n",
    "\n",
    "            nn.Linear(16, 8),\n",
    "            nn.ReLU(),\n",
    "\n",
    "            nn.Linear(8, 1)  # Final regression output\n",
    "        )\n",
    "\n",
    "    def forward(self, x):\n",
    "        return self.network(x)\n",
    "\n",
    "\n",
    "train_set = TensorDataset(X_train_tensor, y_train_tensor)\n",
    "train_loader = DataLoader(train_set, batch_size=128, shuffle=True, drop_last=True)\n",
    "\n",
    "test_set = TensorDataset(X_test_tensor, y_test_tensor)\n",
    "test_loader = DataLoader(test_set, batch_size=128, shuffle=True, drop_last=False)\n",
    "\n",
    "model = FullyConnectedRegression(X_train_scaled.shape[1]).to(device)\n",
    "\n",
    "# On the lecture I heard that it is one of the best optimizer\n",
    "optimizer = torch.optim.AdamW(\n",
    "    model.parameters(),\n",
    "    lr=3e-4, # Someone told me this is a nice learning rate\n",
    "    betas=(0.9, 0.999),\n",
    "    weight_decay=1e-8\n",
    ")\n",
    "\n",
    "criterion = nn.MSELoss()\n",
    "\n",
    "train_loss = []\n",
    "test_loss = []\n",
    "epochs = 15\n",
    "\n",
    "for epoch in tqdm(range(epochs)):\n",
    "    train(model, optimizer, criterion, train_loader, test_loader, device)\n",
    "\n",
    "    # Calculate RMSE on original scale\n",
    "    train_rmse = evaluate_rmse_unscaled(model, train_loader, scaler, device)\n",
    "    test_rmse = evaluate_rmse_unscaled(model, test_loader, scaler, device)\n",
    "\n",
    "    train_loss.append(train_rmse)\n",
    "    test_loss.append(test_rmse)\n",
    "\n",
    "    # Print RMSE for this epoch\n",
    "    print(f\"Epoch {epoch + 1}/{epochs} — Train RMSE: {train_rmse:.4f}, Test RMSE: {test_rmse:.4f}\")\n",
    "\n",
    "# Only show the plot AFTER all epochs are done\n",
    "plt.figure(figsize=(12, 6))\n",
    "plt.plot(np.arange(1, epochs + 1), train_loss, label='Train RMSE', marker='o')\n",
    "plt.plot(np.arange(1, epochs + 1), test_loss, label='Test RMSE', marker='s')\n",
    "plt.title('Training Progress')\n",
    "plt.xlabel('Epochs')\n",
    "plt.ylabel('RMSE (in years)')\n",
    "plt.grid(True)\n",
    "plt.legend()\n",
    "plt.xticks(np.arange(1, epochs + 1))\n",
    "plt.tight_layout()\n",
    "plt.show()"
   ]
  },
  {
   "cell_type": "markdown",
   "metadata": {
    "id": "PrZtnS-WTJqO"
   },
   "source": [
    "Well, the initial eBay model is far worse- well, it dropped to the curtain RMSE and stayed there - may be with more epochs it can work."
   ]
  },
  {
   "cell_type": "markdown",
   "metadata": {
    "id": "g1IUemr_TKB5"
   },
   "source": [
    "### Learning learning rate"
   ]
  },
  {
   "cell_type": "code",
   "execution_count": 26,
   "metadata": {
    "colab": {
     "base_uri": "https://localhost:8080/",
     "height": 638,
     "referenced_widgets": [
      "d5027b3a29804aab82740f52d3312342",
      "7b0528c937a248afac0ecfc255e877cb",
      "b672653884a14d15b36114cc94de441d",
      "571f0839712b4abcb4315fa539b36fc8",
      "d9101917660b46a8a9b9f095e81bc0f6",
      "9a6dd13906bf44f0b8dad9cb561b6c00",
      "6fabf0bf17884dedb3a69e0c0a9e0bf1",
      "09a348b0b1624d49b74287770535b88c",
      "23eb4f7099524d7fa9e3772a762f7b9c",
      "6c459f2dfe414372b9c31d23ff68fcd0",
      "3f8b2752242f45c398308f54beea9b0e"
     ]
    },
    "id": "lEgJnEFGTKNS",
    "outputId": "4a588235-20e7-425e-f25d-6b185e4dce37"
   },
   "outputs": [
    {
     "data": {
      "application/vnd.jupyter.widget-view+json": {
       "model_id": "d5027b3a29804aab82740f52d3312342",
       "version_major": 2,
       "version_minor": 0
      },
      "text/plain": [
       "  0%|          | 0/15 [00:00<?, ?it/s]"
      ]
     },
     "metadata": {},
     "output_type": "display_data"
    },
    {
     "name": "stdout",
     "output_type": "stream",
     "text": [
      "Epoch 1/15 — Train RMSE: 16.9207, Test RMSE: 16.9491\n",
      "Epoch 2/15 — Train RMSE: 9.1986, Test RMSE: 9.2069\n",
      "Epoch 3/15 — Train RMSE: 9.0114, Test RMSE: 9.0820\n",
      "Epoch 4/15 — Train RMSE: 8.8061, Test RMSE: 8.9319\n",
      "Epoch 5/15 — Train RMSE: 8.7810, Test RMSE: 8.9187\n",
      "Epoch 6/15 — Train RMSE: 8.7716, Test RMSE: 8.9071\n",
      "Epoch 7/15 — Train RMSE: 8.6666, Test RMSE: 8.8488\n",
      "Epoch 8/15 — Train RMSE: 8.6279, Test RMSE: 8.8429\n",
      "Epoch 9/15 — Train RMSE: 8.6085, Test RMSE: 8.8139\n",
      "Epoch 10/15 — Train RMSE: 8.6340, Test RMSE: 8.8664\n",
      "Epoch 11/15 — Train RMSE: 8.5399, Test RMSE: 8.7667\n",
      "Epoch 12/15 — Train RMSE: 8.5136, Test RMSE: 8.7623\n",
      "Epoch 13/15 — Train RMSE: 8.4924, Test RMSE: 8.7941\n",
      "Epoch 14/15 — Train RMSE: 8.4717, Test RMSE: 8.7573\n",
      "Epoch 15/15 — Train RMSE: 8.5240, Test RMSE: 8.8110\n"
     ]
    },
    {
     "data": {
      "image/png": "[encoded data removed]",
      "text/plain": [
       "<Figure size 1200x600 with 1 Axes>"
      ]
     },
     "metadata": {},
     "output_type": "display_data"
    }
   ],
   "source": [
    "class FullyConnectedRegression(nn.Module):\n",
    "    def __init__(self, input_dim, p=0.25):\n",
    "        super(FullyConnectedRegression, self).__init__()\n",
    "        self.network = nn.Sequential(\n",
    "            nn.Linear(input_dim, 256),\n",
    "            nn.ReLU(),\n",
    "            nn.Dropout(p),\n",
    "\n",
    "            nn.Linear(256, 128),\n",
    "            nn.ReLU(),\n",
    "            nn.Dropout(p),\n",
    "\n",
    "            nn.Linear(128, 64),\n",
    "            nn.ReLU(),\n",
    "            nn.Dropout(p),\n",
    "\n",
    "            nn.Linear(64, 32),\n",
    "            nn.ReLU(),\n",
    "            nn.Dropout(p),\n",
    "\n",
    "            nn.Linear(32, 16),\n",
    "            nn.ReLU(),\n",
    "            nn.Dropout(p),\n",
    "\n",
    "            nn.Linear(16, 1)  # Final output layer for regression\n",
    "        )\n",
    "\n",
    "    def forward(self, x):\n",
    "        return self.network(x)\n",
    "\n",
    "\n",
    "set_random_seed(42)\n",
    "\n",
    "train_set = TensorDataset(X_train_tensor, y_train_tensor)\n",
    "train_loader = DataLoader(train_set, batch_size=128, shuffle=True, drop_last=True)\n",
    "\n",
    "test_set = TensorDataset(X_test_tensor, y_test_tensor)\n",
    "test_loader = DataLoader(test_set, batch_size=128, shuffle=True, drop_last=False)\n",
    "\n",
    "model = FullyConnectedRegression(X_train_scaled.shape[1]).to(device)\n",
    "\n",
    "# On the lecture I heard that it is one of the best optimizer\n",
    "optimizer = torch.optim.AdamW(\n",
    "    model.parameters(),\n",
    "    lr=3e-4, # Someone told me this is a nice learning rate\n",
    "    betas=(0.9, 0.999),\n",
    "    weight_decay=1e-8\n",
    ")\n",
    "# I googled- this type ca describe the warm-up logit from the lecture\n",
    "scheduler = torch.optim.lr_scheduler.CosineAnnealingWarmRestarts(\n",
    "    optimizer,\n",
    "    T_0=5,       # Number of epochs for the first restart\n",
    "    T_mult=2,     # Multiply cycle length by this after each restart\n",
    "    eta_min=1e-6  # Minimum learning rate\n",
    ")\n",
    "criterion = nn.MSELoss()\n",
    "\n",
    "train_loss = []\n",
    "test_loss = []\n",
    "epochs = 15\n",
    "\n",
    "for epoch in tqdm(range(epochs)):\n",
    "    train(model, optimizer, criterion, train_loader, test_loader, device)\n",
    "\n",
    "    # Calculate RMSE on original scale\n",
    "    train_rmse = evaluate_rmse_unscaled(model, train_loader, scaler, device)\n",
    "    test_rmse = evaluate_rmse_unscaled(model, test_loader, scaler, device)\n",
    "\n",
    "    train_loss.append(train_rmse)\n",
    "    test_loss.append(test_rmse)\n",
    "\n",
    "    # Print RMSE for this epoch\n",
    "    print(f\"Epoch {epoch + 1}/{epochs} — Train RMSE: {train_rmse:.4f}, Test RMSE: {test_rmse:.4f}\")\n",
    "\n",
    "# Only show the plot AFTER all epochs are done\n",
    "plt.figure(figsize=(12, 6))\n",
    "plt.plot(np.arange(1, epochs + 1), train_loss, label='Train RMSE', marker='o')\n",
    "plt.plot(np.arange(1, epochs + 1), test_loss, label='Test RMSE', marker='s')\n",
    "plt.title('Training Progress')\n",
    "plt.xlabel('Epochs')\n",
    "plt.ylabel('RMSE (in years)')\n",
    "plt.grid(True)\n",
    "plt.legend()\n",
    "plt.xticks(np.arange(1, epochs + 1))\n",
    "plt.tight_layout()\n",
    "plt.show()"
   ]
  },
  {
   "cell_type": "markdown",
   "metadata": {
    "id": "vwvt6ZOcUpB2"
   },
   "source": [
    "Well, RMSE pattern is actually the same as my main model, but slower) I guess, on the whole dataset there are many ways to get proper RMSE.\n",
    "\n"
   ]
  }
 ],
 "metadata": {
  "accelerator": "GPU",
  "colab": {
   "gpuType": "A100",
   "machine_shape": "hm",
   "provenance": []
  },
  "kernelspec": {
   "display_name": "Python 3 (ipykernel)",
   "language": "python",
   "name": "python3"
  },
  "language_info": {
   "codemirror_mode": {
    "name": "ipython",
    "version": 3
   },
   "file_extension": ".py",
   "mimetype": "text/x-python",
   "name": "python",
   "nbconvert_exporter": "python",
   "pygments_lexer": "ipython3",
   "version": "3.12.9"
  }
 },
 "nbformat": 4,
 "nbformat_minor": 4
}
